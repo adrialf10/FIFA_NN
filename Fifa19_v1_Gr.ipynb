{
  "cells": [
    {
      "cell_type": "code",
      "execution_count": null,
      "metadata": {
        "id": "CWfFqhFQ-ZXW"
      },
      "outputs": [],
      "source": [
        "import tensorflow as tf\n",
        "from tensorflow import keras\n",
        "import pandas as pd\n",
        "import matplotlib.pyplot as plt\n",
        "import time\n",
        "import numpy as np\n",
        "from sklearn.model_selection import train_test_split\n",
        "#print(\"Tensorflow version: \"+ tf.__version__)"
      ]
    },
    {
      "cell_type": "code",
      "source": [
        "COLAB=True\n",
        "if COLAB==True:\n",
        "    device_name = tf.test.gpu_device_name()\n",
        "    if device_name != '/device:GPU:0':\n",
        "      raise SystemError('GPU device not found')\n",
        "    print('Found GPU at: {}'.format(device_name))\n",
        "    tf.device('/device:GPU:0')"
      ],
      "metadata": {
        "colab": {
          "base_uri": "https://localhost:8080/"
        },
        "id": "1aHpQ0u8b-cp",
        "outputId": "96fe6057-2da0-4dd0-fd16-2a30c00a5da3"
      },
      "execution_count": null,
      "outputs": [
        {
          "output_type": "stream",
          "name": "stdout",
          "text": [
            "Found GPU at: /device:GPU:0\n"
          ]
        }
      ]
    },
    {
      "cell_type": "code",
      "execution_count": null,
      "metadata": {
        "colab": {
          "base_uri": "https://localhost:8080/"
        },
        "id": "kbUTGBou-4Zh",
        "outputId": "6916436c-cd3f-4b78-f31d-6e6192f01651"
      },
      "outputs": [
        {
          "output_type": "stream",
          "name": "stdout",
          "text": [
            "Found GPU at: /device:GPU:0\n",
            "Mounted at /GoogleDrive\n"
          ]
        }
      ],
      "source": [
        "# Google file system\n",
        "\n",
        "if COLAB==True:\n",
        "    device_name = tf.test.gpu_device_name()\n",
        "    if device_name != '/device:GPU:0':\n",
        "      raise SystemError('GPU device not found')\n",
        "    print('Found GPU at: {}'.format(device_name))\n",
        "    from google.colab import drive\n",
        "    drive.mount('/GoogleDrive', force_remount=True)\n",
        "    ATT_FILE =   \"/GoogleDrive/My Drive/Colab Notebooks/RedesNeuronales/datasets/Fifa/FootballPlayerPreparedCleanAttributes.csv\"\n",
        "    LABEL_FILE = \"/GoogleDrive/My Drive/Colab Notebooks/RedesNeuronales/datasets/Fifa/FootballPlayerOneHotEncodedClasses.csv\"\n",
        "\n",
        "else:\n",
        "  ATT_FILE =   \"datasets/FootballPlayerPreparedCleanAttributes.csv\"\n",
        "  LABEL_FILE = \"datasets/FootballPlayerOneHotEncodedClasses.csv\"\n",
        "\n",
        "attributes = pd.read_csv(ATT_FILE)\n",
        "label =      pd.read_csv(LABEL_FILE)"
      ]
    },
    {
      "cell_type": "markdown",
      "metadata": {
        "id": "r1Njeo4rNWjS"
      },
      "source": [
        "## Datasets"
      ]
    },
    {
      "cell_type": "code",
      "execution_count": null,
      "metadata": {
        "id": "cn2D4GXyGysi"
      },
      "outputs": [],
      "source": [
        "TRAIN_RATE = 0.8\n",
        "\n",
        "n_instances = attributes.shape[0]\n",
        "\n",
        "n_train = int(n_instances*TRAIN_RATE)\n",
        "n_dev = int((n_instances-n_train)/2)\n",
        "n_final_test = n_instances-n_train-n_dev"
      ]
    },
    {
      "cell_type": "code",
      "execution_count": null,
      "metadata": {
        "colab": {
          "base_uri": "https://localhost:8080/"
        },
        "id": "OYYe1D8qG8Ly",
        "outputId": "fa86ee39-721c-47f8-d62d-926a45ebf2d4"
      },
      "outputs": [
        {
          "output_type": "stream",
          "name": "stdout",
          "text": [
            "Total: 16122 | Train: 12897 | Dev Test: 1612  | Final Test: 1613\n"
          ]
        }
      ],
      "source": [
        "print(\"Total:\", n_instances, \"| Train:\", n_train, \"| Dev Test:\", n_dev,\" | Final Test:\", n_final_test)"
      ]
    },
    {
      "cell_type": "code",
      "execution_count": null,
      "metadata": {
        "id": "7VJf-ISmJuFz"
      },
      "outputs": [],
      "source": [
        "x_train, X_test, t_train, y_test = train_test_split(attributes,label,\n",
        "                                                    test_size=0.2,\n",
        "                                                    random_state=1992,\n",
        "                                                    stratify=label)\n",
        "\n",
        "x_final_test, x_dev, t_final_test, t_dev = train_test_split(X_test,y_test,\n",
        "                                            test_size=0.5,\n",
        "                                            random_state=1992)\n",
        "INPUTS = x_train.shape[1]\n",
        "OUTPUTS = t_train.shape[1]"
      ]
    },
    {
      "cell_type": "code",
      "execution_count": null,
      "metadata": {
        "colab": {
          "base_uri": "https://localhost:8080/"
        },
        "id": "rln6gYncKDQG",
        "outputId": "db8d3d64-9fcb-47c0-c92f-cdd216b94fd4"
      },
      "outputs": [
        {
          "output_type": "stream",
          "name": "stdout",
          "text": [
            "X_train: (12897, 17) | T_train: (12897, 4)\n",
            "X_dev: (1613, 17) | T_dev: (1613, 4)\n",
            "X_test: (1612, 17) | T_test: (1612, 4)\n"
          ]
        }
      ],
      "source": [
        "print (\"X_train:\", x_train.shape, \"| T_train:\", t_train.shape)\n",
        "print (\"X_dev:\", x_dev.shape, \"| T_dev:\", t_dev.shape)\n",
        "print (\"X_test:\", x_final_test.shape, \"| T_test:\", t_final_test.shape)"
      ]
    },
    {
      "cell_type": "markdown",
      "metadata": {
        "id": "WehesXz6NcVX"
      },
      "source": [
        "## Model"
      ]
    },
    {
      "cell_type": "code",
      "execution_count": null,
      "metadata": {
        "id": "jS07DPaeNs6N"
      },
      "outputs": [],
      "source": [
        "n_neurons_per_layer = [340,0.5,250,0.5, 85,0.5,42, 21, 10]\n",
        "learning_rate = 0.1\n",
        "n_epochs = 500\n",
        "batch_size = 512"
      ]
    },
    {
      "cell_type": "code",
      "execution_count": null,
      "metadata": {
        "id": "cqumzJEGWw1k"
      },
      "outputs": [],
      "source": [
        "model = keras.Sequential(name = \"FifaNetwork\")"
      ]
    },
    {
      "cell_type": "code",
      "execution_count": null,
      "metadata": {
        "id": "mYJoEVA0Xj_A"
      },
      "outputs": [],
      "source": [
        "from keras.layers import LeakyReLU\n",
        "\n",
        "LeakyRelu=True\n",
        "\n",
        "model.add(keras.layers.InputLayer(input_shape=(INPUTS,)))\n",
        "\n",
        "for neurons in n_neurons_per_layer:\n",
        "  if isinstance(neurons, int):\n",
        "    if LeakyRelu==True:\n",
        "      model.add(keras.layers.Dense(neurons))\n",
        "      model.add(LeakyReLU(alpha=0.05))\n",
        "    else:\n",
        "      model.add(keras.layers.Dense(neurons, activation=\"elu\"))\n",
        "  else:\n",
        "    model.add(keras.layers.Dropout(rate=neurons))\n",
        "\n",
        "model.add(keras.layers.Dense(OUTPUTS, activation=\"softmax\"))"
      ]
    },
    {
      "cell_type": "code",
      "execution_count": null,
      "metadata": {
        "colab": {
          "base_uri": "https://localhost:8080/"
        },
        "id": "Dw12jcQxZOT_",
        "outputId": "61c8608b-e428-465b-a716-f6e3cd480f99"
      },
      "outputs": [
        {
          "output_type": "stream",
          "name": "stdout",
          "text": [
            "Model: \"FifaNetwork\"\n",
            "_________________________________________________________________\n",
            " Layer (type)                Output Shape              Param #   \n",
            "=================================================================\n",
            " dense_122 (Dense)           (None, 340)               6120      \n",
            "                                                                 \n",
            " leaky_re_lu_12 (LeakyReLU)  (None, 340)               0         \n",
            "                                                                 \n",
            " dropout_38 (Dropout)        (None, 340)               0         \n",
            "                                                                 \n",
            " dense_123 (Dense)           (None, 250)               85250     \n",
            "                                                                 \n",
            " leaky_re_lu_13 (LeakyReLU)  (None, 250)               0         \n",
            "                                                                 \n",
            " dropout_39 (Dropout)        (None, 250)               0         \n",
            "                                                                 \n",
            " dense_124 (Dense)           (None, 85)                21335     \n",
            "                                                                 \n",
            " leaky_re_lu_14 (LeakyReLU)  (None, 85)                0         \n",
            "                                                                 \n",
            " dropout_40 (Dropout)        (None, 85)                0         \n",
            "                                                                 \n",
            " dense_125 (Dense)           (None, 42)                3612      \n",
            "                                                                 \n",
            " leaky_re_lu_15 (LeakyReLU)  (None, 42)                0         \n",
            "                                                                 \n",
            " dense_126 (Dense)           (None, 21)                903       \n",
            "                                                                 \n",
            " leaky_re_lu_16 (LeakyReLU)  (None, 21)                0         \n",
            "                                                                 \n",
            " dense_127 (Dense)           (None, 10)                220       \n",
            "                                                                 \n",
            " leaky_re_lu_17 (LeakyReLU)  (None, 10)                0         \n",
            "                                                                 \n",
            " dense_128 (Dense)           (None, 4)                 44        \n",
            "                                                                 \n",
            "=================================================================\n",
            "Total params: 117,484\n",
            "Trainable params: 117,484\n",
            "Non-trainable params: 0\n",
            "_________________________________________________________________\n"
          ]
        }
      ],
      "source": [
        "model.summary()"
      ]
    },
    {
      "cell_type": "code",
      "execution_count": null,
      "metadata": {
        "id": "HcaLC_zzFvzl"
      },
      "outputs": [],
      "source": [
        "num_train_steps=(n_train // batch_size)*n_epochs\n",
        "lr_scheduler = tf.keras.optimizers.schedules.PolynomialDecay(initial_learning_rate=learning_rate,\n",
        "                               end_learning_rate=1e-8,\n",
        "                               decay_steps=num_train_steps)"
      ]
    },
    {
      "cell_type": "code",
      "execution_count": null,
      "metadata": {
        "id": "GVfGbkr0b1Vl"
      },
      "outputs": [],
      "source": [
        "lr_scheduler=True\n",
        "\n",
        "if lr_scheduler==True:\n",
        "  lr_scheduler=learning_rate\n",
        "\n",
        "model.compile(optimizer = tf.keras.optimizers.SGD(learning_rate = learning_rate),\n",
        "              loss = tf.keras.losses.categorical_crossentropy,\n",
        "              metrics = [\"categorical_accuracy\"])"
      ]
    },
    {
      "cell_type": "code",
      "execution_count": null,
      "metadata": {
        "colab": {
          "base_uri": "https://localhost:8080/",
          "height": 1000
        },
        "id": "dMH7Z7cBFvzn",
        "outputId": "ce4ea87b-535c-416e-c0cc-c5656423719b"
      },
      "outputs": [
        {
          "output_type": "display_data",
          "data": {
            "text/plain": [
              "<IPython.core.display.SVG object>"
            ],
            "image/svg+xml": "<svg xmlns=\"http://www.w3.org/2000/svg\" xmlns:xlink=\"http://www.w3.org/1999/xlink\" width=\"260pt\" height=\"1383pt\" viewBox=\"0.00 0.00 260.00 1383.00\">\n<g id=\"graph0\" class=\"graph\" transform=\"scale(1 1) rotate(0) translate(4 1379)\">\n<title>G</title>\n<polygon fill=\"#ffffff\" stroke=\"transparent\" points=\"-4,4 -4,-1379 256,-1379 256,4 -4,4\"/>\n<!-- 139789606389264 -->\n<g id=\"node1\" class=\"node\">\n<title>139789606389264</title>\n<polygon fill=\"none\" stroke=\"#000000\" points=\"12.5,-1328.5 12.5,-1374.5 239.5,-1374.5 239.5,-1328.5 12.5,-1328.5\"/>\n<text text-anchor=\"middle\" x=\"52.5\" y=\"-1359.3\" font-family=\"Times,serif\" font-size=\"14.00\" fill=\"#000000\">input_21</text>\n<polyline fill=\"none\" stroke=\"#000000\" points=\"12.5,-1351.5 92.5,-1351.5 \"/>\n<text text-anchor=\"middle\" x=\"52.5\" y=\"-1336.3\" font-family=\"Times,serif\" font-size=\"14.00\" fill=\"#000000\">InputLayer</text>\n<polyline fill=\"none\" stroke=\"#000000\" points=\"92.5,-1328.5 92.5,-1374.5 \"/>\n<text text-anchor=\"middle\" x=\"121.5\" y=\"-1359.3\" font-family=\"Times,serif\" font-size=\"14.00\" fill=\"#000000\">input:</text>\n<polyline fill=\"none\" stroke=\"#000000\" points=\"92.5,-1351.5 150.5,-1351.5 \"/>\n<text text-anchor=\"middle\" x=\"121.5\" y=\"-1336.3\" font-family=\"Times,serif\" font-size=\"14.00\" fill=\"#000000\">output:</text>\n<polyline fill=\"none\" stroke=\"#000000\" points=\"150.5,-1328.5 150.5,-1374.5 \"/>\n<text text-anchor=\"middle\" x=\"195\" y=\"-1359.3\" font-family=\"Times,serif\" font-size=\"14.00\" fill=\"#000000\">[(None, 17)]</text>\n<polyline fill=\"none\" stroke=\"#000000\" points=\"150.5,-1351.5 239.5,-1351.5 \"/>\n<text text-anchor=\"middle\" x=\"195\" y=\"-1336.3\" font-family=\"Times,serif\" font-size=\"14.00\" fill=\"#000000\">[(None, 17)]</text>\n</g>\n<!-- 139789615782400 -->\n<g id=\"node2\" class=\"node\">\n<title>139789615782400</title>\n<polygon fill=\"none\" stroke=\"#000000\" points=\"14,-1245.5 14,-1291.5 238,-1291.5 238,-1245.5 14,-1245.5\"/>\n<text text-anchor=\"middle\" x=\"53.5\" y=\"-1276.3\" font-family=\"Times,serif\" font-size=\"14.00\" fill=\"#000000\">dense_122</text>\n<polyline fill=\"none\" stroke=\"#000000\" points=\"14,-1268.5 93,-1268.5 \"/>\n<text text-anchor=\"middle\" x=\"53.5\" y=\"-1253.3\" font-family=\"Times,serif\" font-size=\"14.00\" fill=\"#000000\">Dense</text>\n<polyline fill=\"none\" stroke=\"#000000\" points=\"93,-1245.5 93,-1291.5 \"/>\n<text text-anchor=\"middle\" x=\"122\" y=\"-1276.3\" font-family=\"Times,serif\" font-size=\"14.00\" fill=\"#000000\">input:</text>\n<polyline fill=\"none\" stroke=\"#000000\" points=\"93,-1268.5 151,-1268.5 \"/>\n<text text-anchor=\"middle\" x=\"122\" y=\"-1253.3\" font-family=\"Times,serif\" font-size=\"14.00\" fill=\"#000000\">output:</text>\n<polyline fill=\"none\" stroke=\"#000000\" points=\"151,-1245.5 151,-1291.5 \"/>\n<text text-anchor=\"middle\" x=\"194.5\" y=\"-1276.3\" font-family=\"Times,serif\" font-size=\"14.00\" fill=\"#000000\">(None, 17)</text>\n<polyline fill=\"none\" stroke=\"#000000\" points=\"151,-1268.5 238,-1268.5 \"/>\n<text text-anchor=\"middle\" x=\"194.5\" y=\"-1253.3\" font-family=\"Times,serif\" font-size=\"14.00\" fill=\"#000000\">(None, 340)</text>\n</g>\n<!-- 139789606389264&#45;&gt;139789615782400 -->\n<g id=\"edge1\" class=\"edge\">\n<title>139789606389264-&gt;139789615782400</title>\n<path fill=\"none\" stroke=\"#000000\" d=\"M126,-1328.3799C126,-1320.1745 126,-1310.7679 126,-1301.8786\"/>\n<polygon fill=\"#000000\" stroke=\"#000000\" points=\"129.5001,-1301.784 126,-1291.784 122.5001,-1301.784 129.5001,-1301.784\"/>\n</g>\n<!-- 139789606388928 -->\n<g id=\"node3\" class=\"node\">\n<title>139789606388928</title>\n<polygon fill=\"none\" stroke=\"#000000\" points=\"0,-1162.5 0,-1208.5 252,-1208.5 252,-1162.5 0,-1162.5\"/>\n<text text-anchor=\"middle\" x=\"53.5\" y=\"-1193.3\" font-family=\"Times,serif\" font-size=\"14.00\" fill=\"#000000\">leaky_re_lu_12</text>\n<polyline fill=\"none\" stroke=\"#000000\" points=\"0,-1185.5 107,-1185.5 \"/>\n<text text-anchor=\"middle\" x=\"53.5\" y=\"-1170.3\" font-family=\"Times,serif\" font-size=\"14.00\" fill=\"#000000\">LeakyReLU</text>\n<polyline fill=\"none\" stroke=\"#000000\" points=\"107,-1162.5 107,-1208.5 \"/>\n<text text-anchor=\"middle\" x=\"136\" y=\"-1193.3\" font-family=\"Times,serif\" font-size=\"14.00\" fill=\"#000000\">input:</text>\n<polyline fill=\"none\" stroke=\"#000000\" points=\"107,-1185.5 165,-1185.5 \"/>\n<text text-anchor=\"middle\" x=\"136\" y=\"-1170.3\" font-family=\"Times,serif\" font-size=\"14.00\" fill=\"#000000\">output:</text>\n<polyline fill=\"none\" stroke=\"#000000\" points=\"165,-1162.5 165,-1208.5 \"/>\n<text text-anchor=\"middle\" x=\"208.5\" y=\"-1193.3\" font-family=\"Times,serif\" font-size=\"14.00\" fill=\"#000000\">(None, 340)</text>\n<polyline fill=\"none\" stroke=\"#000000\" points=\"165,-1185.5 252,-1185.5 \"/>\n<text text-anchor=\"middle\" x=\"208.5\" y=\"-1170.3\" font-family=\"Times,serif\" font-size=\"14.00\" fill=\"#000000\">(None, 340)</text>\n</g>\n<!-- 139789615782400&#45;&gt;139789606388928 -->\n<g id=\"edge2\" class=\"edge\">\n<title>139789615782400-&gt;139789606388928</title>\n<path fill=\"none\" stroke=\"#000000\" d=\"M126,-1245.3799C126,-1237.1745 126,-1227.7679 126,-1218.8786\"/>\n<polygon fill=\"#000000\" stroke=\"#000000\" points=\"129.5001,-1218.784 126,-1208.784 122.5001,-1218.784 129.5001,-1218.784\"/>\n</g>\n<!-- 139791796655152 -->\n<g id=\"node4\" class=\"node\">\n<title>139791796655152</title>\n<polygon fill=\"none\" stroke=\"#000000\" points=\"11,-1079.5 11,-1125.5 241,-1125.5 241,-1079.5 11,-1079.5\"/>\n<text text-anchor=\"middle\" x=\"53.5\" y=\"-1110.3\" font-family=\"Times,serif\" font-size=\"14.00\" fill=\"#000000\">dropout_38</text>\n<polyline fill=\"none\" stroke=\"#000000\" points=\"11,-1102.5 96,-1102.5 \"/>\n<text text-anchor=\"middle\" x=\"53.5\" y=\"-1087.3\" font-family=\"Times,serif\" font-size=\"14.00\" fill=\"#000000\">Dropout</text>\n<polyline fill=\"none\" stroke=\"#000000\" points=\"96,-1079.5 96,-1125.5 \"/>\n<text text-anchor=\"middle\" x=\"125\" y=\"-1110.3\" font-family=\"Times,serif\" font-size=\"14.00\" fill=\"#000000\">input:</text>\n<polyline fill=\"none\" stroke=\"#000000\" points=\"96,-1102.5 154,-1102.5 \"/>\n<text text-anchor=\"middle\" x=\"125\" y=\"-1087.3\" font-family=\"Times,serif\" font-size=\"14.00\" fill=\"#000000\">output:</text>\n<polyline fill=\"none\" stroke=\"#000000\" points=\"154,-1079.5 154,-1125.5 \"/>\n<text text-anchor=\"middle\" x=\"197.5\" y=\"-1110.3\" font-family=\"Times,serif\" font-size=\"14.00\" fill=\"#000000\">(None, 340)</text>\n<polyline fill=\"none\" stroke=\"#000000\" points=\"154,-1102.5 241,-1102.5 \"/>\n<text text-anchor=\"middle\" x=\"197.5\" y=\"-1087.3\" font-family=\"Times,serif\" font-size=\"14.00\" fill=\"#000000\">(None, 340)</text>\n</g>\n<!-- 139789606388928&#45;&gt;139791796655152 -->\n<g id=\"edge3\" class=\"edge\">\n<title>139789606388928-&gt;139791796655152</title>\n<path fill=\"none\" stroke=\"#000000\" d=\"M126,-1162.3799C126,-1154.1745 126,-1144.7679 126,-1135.8786\"/>\n<polygon fill=\"#000000\" stroke=\"#000000\" points=\"129.5001,-1135.784 126,-1125.784 122.5001,-1135.784 129.5001,-1135.784\"/>\n</g>\n<!-- 139789614161632 -->\n<g id=\"node5\" class=\"node\">\n<title>139789614161632</title>\n<polygon fill=\"none\" stroke=\"#000000\" points=\"14,-996.5 14,-1042.5 238,-1042.5 238,-996.5 14,-996.5\"/>\n<text text-anchor=\"middle\" x=\"53.5\" y=\"-1027.3\" font-family=\"Times,serif\" font-size=\"14.00\" fill=\"#000000\">dense_123</text>\n<polyline fill=\"none\" stroke=\"#000000\" points=\"14,-1019.5 93,-1019.5 \"/>\n<text text-anchor=\"middle\" x=\"53.5\" y=\"-1004.3\" font-family=\"Times,serif\" font-size=\"14.00\" fill=\"#000000\">Dense</text>\n<polyline fill=\"none\" stroke=\"#000000\" points=\"93,-996.5 93,-1042.5 \"/>\n<text text-anchor=\"middle\" x=\"122\" y=\"-1027.3\" font-family=\"Times,serif\" font-size=\"14.00\" fill=\"#000000\">input:</text>\n<polyline fill=\"none\" stroke=\"#000000\" points=\"93,-1019.5 151,-1019.5 \"/>\n<text text-anchor=\"middle\" x=\"122\" y=\"-1004.3\" font-family=\"Times,serif\" font-size=\"14.00\" fill=\"#000000\">output:</text>\n<polyline fill=\"none\" stroke=\"#000000\" points=\"151,-996.5 151,-1042.5 \"/>\n<text text-anchor=\"middle\" x=\"194.5\" y=\"-1027.3\" font-family=\"Times,serif\" font-size=\"14.00\" fill=\"#000000\">(None, 340)</text>\n<polyline fill=\"none\" stroke=\"#000000\" points=\"151,-1019.5 238,-1019.5 \"/>\n<text text-anchor=\"middle\" x=\"194.5\" y=\"-1004.3\" font-family=\"Times,serif\" font-size=\"14.00\" fill=\"#000000\">(None, 250)</text>\n</g>\n<!-- 139791796655152&#45;&gt;139789614161632 -->\n<g id=\"edge4\" class=\"edge\">\n<title>139791796655152-&gt;139789614161632</title>\n<path fill=\"none\" stroke=\"#000000\" d=\"M126,-1079.3799C126,-1071.1745 126,-1061.7679 126,-1052.8786\"/>\n<polygon fill=\"#000000\" stroke=\"#000000\" points=\"129.5001,-1052.784 126,-1042.784 122.5001,-1052.784 129.5001,-1052.784\"/>\n</g>\n<!-- 139789606298816 -->\n<g id=\"node6\" class=\"node\">\n<title>139789606298816</title>\n<polygon fill=\"none\" stroke=\"#000000\" points=\"0,-913.5 0,-959.5 252,-959.5 252,-913.5 0,-913.5\"/>\n<text text-anchor=\"middle\" x=\"53.5\" y=\"-944.3\" font-family=\"Times,serif\" font-size=\"14.00\" fill=\"#000000\">leaky_re_lu_13</text>\n<polyline fill=\"none\" stroke=\"#000000\" points=\"0,-936.5 107,-936.5 \"/>\n<text text-anchor=\"middle\" x=\"53.5\" y=\"-921.3\" font-family=\"Times,serif\" font-size=\"14.00\" fill=\"#000000\">LeakyReLU</text>\n<polyline fill=\"none\" stroke=\"#000000\" points=\"107,-913.5 107,-959.5 \"/>\n<text text-anchor=\"middle\" x=\"136\" y=\"-944.3\" font-family=\"Times,serif\" font-size=\"14.00\" fill=\"#000000\">input:</text>\n<polyline fill=\"none\" stroke=\"#000000\" points=\"107,-936.5 165,-936.5 \"/>\n<text text-anchor=\"middle\" x=\"136\" y=\"-921.3\" font-family=\"Times,serif\" font-size=\"14.00\" fill=\"#000000\">output:</text>\n<polyline fill=\"none\" stroke=\"#000000\" points=\"165,-913.5 165,-959.5 \"/>\n<text text-anchor=\"middle\" x=\"208.5\" y=\"-944.3\" font-family=\"Times,serif\" font-size=\"14.00\" fill=\"#000000\">(None, 250)</text>\n<polyline fill=\"none\" stroke=\"#000000\" points=\"165,-936.5 252,-936.5 \"/>\n<text text-anchor=\"middle\" x=\"208.5\" y=\"-921.3\" font-family=\"Times,serif\" font-size=\"14.00\" fill=\"#000000\">(None, 250)</text>\n</g>\n<!-- 139789614161632&#45;&gt;139789606298816 -->\n<g id=\"edge5\" class=\"edge\">\n<title>139789614161632-&gt;139789606298816</title>\n<path fill=\"none\" stroke=\"#000000\" d=\"M126,-996.3799C126,-988.1745 126,-978.7679 126,-969.8786\"/>\n<polygon fill=\"#000000\" stroke=\"#000000\" points=\"129.5001,-969.784 126,-959.784 122.5001,-969.784 129.5001,-969.784\"/>\n</g>\n<!-- 139791796655200 -->\n<g id=\"node7\" class=\"node\">\n<title>139791796655200</title>\n<polygon fill=\"none\" stroke=\"#000000\" points=\"11,-830.5 11,-876.5 241,-876.5 241,-830.5 11,-830.5\"/>\n<text text-anchor=\"middle\" x=\"53.5\" y=\"-861.3\" font-family=\"Times,serif\" font-size=\"14.00\" fill=\"#000000\">dropout_39</text>\n<polyline fill=\"none\" stroke=\"#000000\" points=\"11,-853.5 96,-853.5 \"/>\n<text text-anchor=\"middle\" x=\"53.5\" y=\"-838.3\" font-family=\"Times,serif\" font-size=\"14.00\" fill=\"#000000\">Dropout</text>\n<polyline fill=\"none\" stroke=\"#000000\" points=\"96,-830.5 96,-876.5 \"/>\n<text text-anchor=\"middle\" x=\"125\" y=\"-861.3\" font-family=\"Times,serif\" font-size=\"14.00\" fill=\"#000000\">input:</text>\n<polyline fill=\"none\" stroke=\"#000000\" points=\"96,-853.5 154,-853.5 \"/>\n<text text-anchor=\"middle\" x=\"125\" y=\"-838.3\" font-family=\"Times,serif\" font-size=\"14.00\" fill=\"#000000\">output:</text>\n<polyline fill=\"none\" stroke=\"#000000\" points=\"154,-830.5 154,-876.5 \"/>\n<text text-anchor=\"middle\" x=\"197.5\" y=\"-861.3\" font-family=\"Times,serif\" font-size=\"14.00\" fill=\"#000000\">(None, 250)</text>\n<polyline fill=\"none\" stroke=\"#000000\" points=\"154,-853.5 241,-853.5 \"/>\n<text text-anchor=\"middle\" x=\"197.5\" y=\"-838.3\" font-family=\"Times,serif\" font-size=\"14.00\" fill=\"#000000\">(None, 250)</text>\n</g>\n<!-- 139789606298816&#45;&gt;139791796655200 -->\n<g id=\"edge6\" class=\"edge\">\n<title>139789606298816-&gt;139791796655200</title>\n<path fill=\"none\" stroke=\"#000000\" d=\"M126,-913.3799C126,-905.1745 126,-895.7679 126,-886.8786\"/>\n<polygon fill=\"#000000\" stroke=\"#000000\" points=\"129.5001,-886.784 126,-876.784 122.5001,-886.784 129.5001,-886.784\"/>\n</g>\n<!-- 139789610751312 -->\n<g id=\"node8\" class=\"node\">\n<title>139789610751312</title>\n<polygon fill=\"none\" stroke=\"#000000\" points=\"14,-747.5 14,-793.5 238,-793.5 238,-747.5 14,-747.5\"/>\n<text text-anchor=\"middle\" x=\"53.5\" y=\"-778.3\" font-family=\"Times,serif\" font-size=\"14.00\" fill=\"#000000\">dense_124</text>\n<polyline fill=\"none\" stroke=\"#000000\" points=\"14,-770.5 93,-770.5 \"/>\n<text text-anchor=\"middle\" x=\"53.5\" y=\"-755.3\" font-family=\"Times,serif\" font-size=\"14.00\" fill=\"#000000\">Dense</text>\n<polyline fill=\"none\" stroke=\"#000000\" points=\"93,-747.5 93,-793.5 \"/>\n<text text-anchor=\"middle\" x=\"122\" y=\"-778.3\" font-family=\"Times,serif\" font-size=\"14.00\" fill=\"#000000\">input:</text>\n<polyline fill=\"none\" stroke=\"#000000\" points=\"93,-770.5 151,-770.5 \"/>\n<text text-anchor=\"middle\" x=\"122\" y=\"-755.3\" font-family=\"Times,serif\" font-size=\"14.00\" fill=\"#000000\">output:</text>\n<polyline fill=\"none\" stroke=\"#000000\" points=\"151,-747.5 151,-793.5 \"/>\n<text text-anchor=\"middle\" x=\"194.5\" y=\"-778.3\" font-family=\"Times,serif\" font-size=\"14.00\" fill=\"#000000\">(None, 250)</text>\n<polyline fill=\"none\" stroke=\"#000000\" points=\"151,-770.5 238,-770.5 \"/>\n<text text-anchor=\"middle\" x=\"194.5\" y=\"-755.3\" font-family=\"Times,serif\" font-size=\"14.00\" fill=\"#000000\">(None, 85)</text>\n</g>\n<!-- 139791796655200&#45;&gt;139789610751312 -->\n<g id=\"edge7\" class=\"edge\">\n<title>139791796655200-&gt;139789610751312</title>\n<path fill=\"none\" stroke=\"#000000\" d=\"M126,-830.3799C126,-822.1745 126,-812.7679 126,-803.8786\"/>\n<polygon fill=\"#000000\" stroke=\"#000000\" points=\"129.5001,-803.784 126,-793.784 122.5001,-803.784 129.5001,-803.784\"/>\n</g>\n<!-- 139789601803136 -->\n<g id=\"node9\" class=\"node\">\n<title>139789601803136</title>\n<polygon fill=\"none\" stroke=\"#000000\" points=\"3.5,-664.5 3.5,-710.5 248.5,-710.5 248.5,-664.5 3.5,-664.5\"/>\n<text text-anchor=\"middle\" x=\"57\" y=\"-695.3\" font-family=\"Times,serif\" font-size=\"14.00\" fill=\"#000000\">leaky_re_lu_14</text>\n<polyline fill=\"none\" stroke=\"#000000\" points=\"3.5,-687.5 110.5,-687.5 \"/>\n<text text-anchor=\"middle\" x=\"57\" y=\"-672.3\" font-family=\"Times,serif\" font-size=\"14.00\" fill=\"#000000\">LeakyReLU</text>\n<polyline fill=\"none\" stroke=\"#000000\" points=\"110.5,-664.5 110.5,-710.5 \"/>\n<text text-anchor=\"middle\" x=\"139.5\" y=\"-695.3\" font-family=\"Times,serif\" font-size=\"14.00\" fill=\"#000000\">input:</text>\n<polyline fill=\"none\" stroke=\"#000000\" points=\"110.5,-687.5 168.5,-687.5 \"/>\n<text text-anchor=\"middle\" x=\"139.5\" y=\"-672.3\" font-family=\"Times,serif\" font-size=\"14.00\" fill=\"#000000\">output:</text>\n<polyline fill=\"none\" stroke=\"#000000\" points=\"168.5,-664.5 168.5,-710.5 \"/>\n<text text-anchor=\"middle\" x=\"208.5\" y=\"-695.3\" font-family=\"Times,serif\" font-size=\"14.00\" fill=\"#000000\">(None, 85)</text>\n<polyline fill=\"none\" stroke=\"#000000\" points=\"168.5,-687.5 248.5,-687.5 \"/>\n<text text-anchor=\"middle\" x=\"208.5\" y=\"-672.3\" font-family=\"Times,serif\" font-size=\"14.00\" fill=\"#000000\">(None, 85)</text>\n</g>\n<!-- 139789610751312&#45;&gt;139789601803136 -->\n<g id=\"edge8\" class=\"edge\">\n<title>139789610751312-&gt;139789601803136</title>\n<path fill=\"none\" stroke=\"#000000\" d=\"M126,-747.3799C126,-739.1745 126,-729.7679 126,-720.8786\"/>\n<polygon fill=\"#000000\" stroke=\"#000000\" points=\"129.5001,-720.784 126,-710.784 122.5001,-720.784 129.5001,-720.784\"/>\n</g>\n<!-- 139789612315360 -->\n<g id=\"node10\" class=\"node\">\n<title>139789612315360</title>\n<polygon fill=\"none\" stroke=\"#000000\" points=\"14.5,-581.5 14.5,-627.5 237.5,-627.5 237.5,-581.5 14.5,-581.5\"/>\n<text text-anchor=\"middle\" x=\"57\" y=\"-612.3\" font-family=\"Times,serif\" font-size=\"14.00\" fill=\"#000000\">dropout_40</text>\n<polyline fill=\"none\" stroke=\"#000000\" points=\"14.5,-604.5 99.5,-604.5 \"/>\n<text text-anchor=\"middle\" x=\"57\" y=\"-589.3\" font-family=\"Times,serif\" font-size=\"14.00\" fill=\"#000000\">Dropout</text>\n<polyline fill=\"none\" stroke=\"#000000\" points=\"99.5,-581.5 99.5,-627.5 \"/>\n<text text-anchor=\"middle\" x=\"128.5\" y=\"-612.3\" font-family=\"Times,serif\" font-size=\"14.00\" fill=\"#000000\">input:</text>\n<polyline fill=\"none\" stroke=\"#000000\" points=\"99.5,-604.5 157.5,-604.5 \"/>\n<text text-anchor=\"middle\" x=\"128.5\" y=\"-589.3\" font-family=\"Times,serif\" font-size=\"14.00\" fill=\"#000000\">output:</text>\n<polyline fill=\"none\" stroke=\"#000000\" points=\"157.5,-581.5 157.5,-627.5 \"/>\n<text text-anchor=\"middle\" x=\"197.5\" y=\"-612.3\" font-family=\"Times,serif\" font-size=\"14.00\" fill=\"#000000\">(None, 85)</text>\n<polyline fill=\"none\" stroke=\"#000000\" points=\"157.5,-604.5 237.5,-604.5 \"/>\n<text text-anchor=\"middle\" x=\"197.5\" y=\"-589.3\" font-family=\"Times,serif\" font-size=\"14.00\" fill=\"#000000\">(None, 85)</text>\n</g>\n<!-- 139789601803136&#45;&gt;139789612315360 -->\n<g id=\"edge9\" class=\"edge\">\n<title>139789601803136-&gt;139789612315360</title>\n<path fill=\"none\" stroke=\"#000000\" d=\"M126,-664.3799C126,-656.1745 126,-646.7679 126,-637.8786\"/>\n<polygon fill=\"#000000\" stroke=\"#000000\" points=\"129.5001,-637.784 126,-627.784 122.5001,-637.784 129.5001,-637.784\"/>\n</g>\n<!-- 139789903255776 -->\n<g id=\"node11\" class=\"node\">\n<title>139789903255776</title>\n<polygon fill=\"none\" stroke=\"#000000\" points=\"17.5,-498.5 17.5,-544.5 234.5,-544.5 234.5,-498.5 17.5,-498.5\"/>\n<text text-anchor=\"middle\" x=\"57\" y=\"-529.3\" font-family=\"Times,serif\" font-size=\"14.00\" fill=\"#000000\">dense_125</text>\n<polyline fill=\"none\" stroke=\"#000000\" points=\"17.5,-521.5 96.5,-521.5 \"/>\n<text text-anchor=\"middle\" x=\"57\" y=\"-506.3\" font-family=\"Times,serif\" font-size=\"14.00\" fill=\"#000000\">Dense</text>\n<polyline fill=\"none\" stroke=\"#000000\" points=\"96.5,-498.5 96.5,-544.5 \"/>\n<text text-anchor=\"middle\" x=\"125.5\" y=\"-529.3\" font-family=\"Times,serif\" font-size=\"14.00\" fill=\"#000000\">input:</text>\n<polyline fill=\"none\" stroke=\"#000000\" points=\"96.5,-521.5 154.5,-521.5 \"/>\n<text text-anchor=\"middle\" x=\"125.5\" y=\"-506.3\" font-family=\"Times,serif\" font-size=\"14.00\" fill=\"#000000\">output:</text>\n<polyline fill=\"none\" stroke=\"#000000\" points=\"154.5,-498.5 154.5,-544.5 \"/>\n<text text-anchor=\"middle\" x=\"194.5\" y=\"-529.3\" font-family=\"Times,serif\" font-size=\"14.00\" fill=\"#000000\">(None, 85)</text>\n<polyline fill=\"none\" stroke=\"#000000\" points=\"154.5,-521.5 234.5,-521.5 \"/>\n<text text-anchor=\"middle\" x=\"194.5\" y=\"-506.3\" font-family=\"Times,serif\" font-size=\"14.00\" fill=\"#000000\">(None, 42)</text>\n</g>\n<!-- 139789612315360&#45;&gt;139789903255776 -->\n<g id=\"edge10\" class=\"edge\">\n<title>139789612315360-&gt;139789903255776</title>\n<path fill=\"none\" stroke=\"#000000\" d=\"M126,-581.3799C126,-573.1745 126,-563.7679 126,-554.8786\"/>\n<polygon fill=\"#000000\" stroke=\"#000000\" points=\"129.5001,-554.784 126,-544.784 122.5001,-554.784 129.5001,-554.784\"/>\n</g>\n<!-- 139791791588256 -->\n<g id=\"node12\" class=\"node\">\n<title>139791791588256</title>\n<polygon fill=\"none\" stroke=\"#000000\" points=\"3.5,-415.5 3.5,-461.5 248.5,-461.5 248.5,-415.5 3.5,-415.5\"/>\n<text text-anchor=\"middle\" x=\"57\" y=\"-446.3\" font-family=\"Times,serif\" font-size=\"14.00\" fill=\"#000000\">leaky_re_lu_15</text>\n<polyline fill=\"none\" stroke=\"#000000\" points=\"3.5,-438.5 110.5,-438.5 \"/>\n<text text-anchor=\"middle\" x=\"57\" y=\"-423.3\" font-family=\"Times,serif\" font-size=\"14.00\" fill=\"#000000\">LeakyReLU</text>\n<polyline fill=\"none\" stroke=\"#000000\" points=\"110.5,-415.5 110.5,-461.5 \"/>\n<text text-anchor=\"middle\" x=\"139.5\" y=\"-446.3\" font-family=\"Times,serif\" font-size=\"14.00\" fill=\"#000000\">input:</text>\n<polyline fill=\"none\" stroke=\"#000000\" points=\"110.5,-438.5 168.5,-438.5 \"/>\n<text text-anchor=\"middle\" x=\"139.5\" y=\"-423.3\" font-family=\"Times,serif\" font-size=\"14.00\" fill=\"#000000\">output:</text>\n<polyline fill=\"none\" stroke=\"#000000\" points=\"168.5,-415.5 168.5,-461.5 \"/>\n<text text-anchor=\"middle\" x=\"208.5\" y=\"-446.3\" font-family=\"Times,serif\" font-size=\"14.00\" fill=\"#000000\">(None, 42)</text>\n<polyline fill=\"none\" stroke=\"#000000\" points=\"168.5,-438.5 248.5,-438.5 \"/>\n<text text-anchor=\"middle\" x=\"208.5\" y=\"-423.3\" font-family=\"Times,serif\" font-size=\"14.00\" fill=\"#000000\">(None, 42)</text>\n</g>\n<!-- 139789903255776&#45;&gt;139791791588256 -->\n<g id=\"edge11\" class=\"edge\">\n<title>139789903255776-&gt;139791791588256</title>\n<path fill=\"none\" stroke=\"#000000\" d=\"M126,-498.3799C126,-490.1745 126,-480.7679 126,-471.8786\"/>\n<polygon fill=\"#000000\" stroke=\"#000000\" points=\"129.5001,-471.784 126,-461.784 122.5001,-471.784 129.5001,-471.784\"/>\n</g>\n<!-- 139789903253616 -->\n<g id=\"node13\" class=\"node\">\n<title>139789903253616</title>\n<polygon fill=\"none\" stroke=\"#000000\" points=\"17.5,-332.5 17.5,-378.5 234.5,-378.5 234.5,-332.5 17.5,-332.5\"/>\n<text text-anchor=\"middle\" x=\"57\" y=\"-363.3\" font-family=\"Times,serif\" font-size=\"14.00\" fill=\"#000000\">dense_126</text>\n<polyline fill=\"none\" stroke=\"#000000\" points=\"17.5,-355.5 96.5,-355.5 \"/>\n<text text-anchor=\"middle\" x=\"57\" y=\"-340.3\" font-family=\"Times,serif\" font-size=\"14.00\" fill=\"#000000\">Dense</text>\n<polyline fill=\"none\" stroke=\"#000000\" points=\"96.5,-332.5 96.5,-378.5 \"/>\n<text text-anchor=\"middle\" x=\"125.5\" y=\"-363.3\" font-family=\"Times,serif\" font-size=\"14.00\" fill=\"#000000\">input:</text>\n<polyline fill=\"none\" stroke=\"#000000\" points=\"96.5,-355.5 154.5,-355.5 \"/>\n<text text-anchor=\"middle\" x=\"125.5\" y=\"-340.3\" font-family=\"Times,serif\" font-size=\"14.00\" fill=\"#000000\">output:</text>\n<polyline fill=\"none\" stroke=\"#000000\" points=\"154.5,-332.5 154.5,-378.5 \"/>\n<text text-anchor=\"middle\" x=\"194.5\" y=\"-363.3\" font-family=\"Times,serif\" font-size=\"14.00\" fill=\"#000000\">(None, 42)</text>\n<polyline fill=\"none\" stroke=\"#000000\" points=\"154.5,-355.5 234.5,-355.5 \"/>\n<text text-anchor=\"middle\" x=\"194.5\" y=\"-340.3\" font-family=\"Times,serif\" font-size=\"14.00\" fill=\"#000000\">(None, 21)</text>\n</g>\n<!-- 139791791588256&#45;&gt;139789903253616 -->\n<g id=\"edge12\" class=\"edge\">\n<title>139791791588256-&gt;139789903253616</title>\n<path fill=\"none\" stroke=\"#000000\" d=\"M126,-415.3799C126,-407.1745 126,-397.7679 126,-388.8786\"/>\n<polygon fill=\"#000000\" stroke=\"#000000\" points=\"129.5001,-388.784 126,-378.784 122.5001,-388.784 129.5001,-388.784\"/>\n</g>\n<!-- 139789903255920 -->\n<g id=\"node14\" class=\"node\">\n<title>139789903255920</title>\n<polygon fill=\"none\" stroke=\"#000000\" points=\"3.5,-249.5 3.5,-295.5 248.5,-295.5 248.5,-249.5 3.5,-249.5\"/>\n<text text-anchor=\"middle\" x=\"57\" y=\"-280.3\" font-family=\"Times,serif\" font-size=\"14.00\" fill=\"#000000\">leaky_re_lu_16</text>\n<polyline fill=\"none\" stroke=\"#000000\" points=\"3.5,-272.5 110.5,-272.5 \"/>\n<text text-anchor=\"middle\" x=\"57\" y=\"-257.3\" font-family=\"Times,serif\" font-size=\"14.00\" fill=\"#000000\">LeakyReLU</text>\n<polyline fill=\"none\" stroke=\"#000000\" points=\"110.5,-249.5 110.5,-295.5 \"/>\n<text text-anchor=\"middle\" x=\"139.5\" y=\"-280.3\" font-family=\"Times,serif\" font-size=\"14.00\" fill=\"#000000\">input:</text>\n<polyline fill=\"none\" stroke=\"#000000\" points=\"110.5,-272.5 168.5,-272.5 \"/>\n<text text-anchor=\"middle\" x=\"139.5\" y=\"-257.3\" font-family=\"Times,serif\" font-size=\"14.00\" fill=\"#000000\">output:</text>\n<polyline fill=\"none\" stroke=\"#000000\" points=\"168.5,-249.5 168.5,-295.5 \"/>\n<text text-anchor=\"middle\" x=\"208.5\" y=\"-280.3\" font-family=\"Times,serif\" font-size=\"14.00\" fill=\"#000000\">(None, 21)</text>\n<polyline fill=\"none\" stroke=\"#000000\" points=\"168.5,-272.5 248.5,-272.5 \"/>\n<text text-anchor=\"middle\" x=\"208.5\" y=\"-257.3\" font-family=\"Times,serif\" font-size=\"14.00\" fill=\"#000000\">(None, 21)</text>\n</g>\n<!-- 139789903253616&#45;&gt;139789903255920 -->\n<g id=\"edge13\" class=\"edge\">\n<title>139789903253616-&gt;139789903255920</title>\n<path fill=\"none\" stroke=\"#000000\" d=\"M126,-332.3799C126,-324.1745 126,-314.7679 126,-305.8786\"/>\n<polygon fill=\"#000000\" stroke=\"#000000\" points=\"129.5001,-305.784 126,-295.784 122.5001,-305.784 129.5001,-305.784\"/>\n</g>\n<!-- 139789541340832 -->\n<g id=\"node15\" class=\"node\">\n<title>139789541340832</title>\n<polygon fill=\"none\" stroke=\"#000000\" points=\"17.5,-166.5 17.5,-212.5 234.5,-212.5 234.5,-166.5 17.5,-166.5\"/>\n<text text-anchor=\"middle\" x=\"57\" y=\"-197.3\" font-family=\"Times,serif\" font-size=\"14.00\" fill=\"#000000\">dense_127</text>\n<polyline fill=\"none\" stroke=\"#000000\" points=\"17.5,-189.5 96.5,-189.5 \"/>\n<text text-anchor=\"middle\" x=\"57\" y=\"-174.3\" font-family=\"Times,serif\" font-size=\"14.00\" fill=\"#000000\">Dense</text>\n<polyline fill=\"none\" stroke=\"#000000\" points=\"96.5,-166.5 96.5,-212.5 \"/>\n<text text-anchor=\"middle\" x=\"125.5\" y=\"-197.3\" font-family=\"Times,serif\" font-size=\"14.00\" fill=\"#000000\">input:</text>\n<polyline fill=\"none\" stroke=\"#000000\" points=\"96.5,-189.5 154.5,-189.5 \"/>\n<text text-anchor=\"middle\" x=\"125.5\" y=\"-174.3\" font-family=\"Times,serif\" font-size=\"14.00\" fill=\"#000000\">output:</text>\n<polyline fill=\"none\" stroke=\"#000000\" points=\"154.5,-166.5 154.5,-212.5 \"/>\n<text text-anchor=\"middle\" x=\"194.5\" y=\"-197.3\" font-family=\"Times,serif\" font-size=\"14.00\" fill=\"#000000\">(None, 21)</text>\n<polyline fill=\"none\" stroke=\"#000000\" points=\"154.5,-189.5 234.5,-189.5 \"/>\n<text text-anchor=\"middle\" x=\"194.5\" y=\"-174.3\" font-family=\"Times,serif\" font-size=\"14.00\" fill=\"#000000\">(None, 10)</text>\n</g>\n<!-- 139789903255920&#45;&gt;139789541340832 -->\n<g id=\"edge14\" class=\"edge\">\n<title>139789903255920-&gt;139789541340832</title>\n<path fill=\"none\" stroke=\"#000000\" d=\"M126,-249.3799C126,-241.1745 126,-231.7679 126,-222.8786\"/>\n<polygon fill=\"#000000\" stroke=\"#000000\" points=\"129.5001,-222.784 126,-212.784 122.5001,-222.784 129.5001,-222.784\"/>\n</g>\n<!-- 139791796489808 -->\n<g id=\"node16\" class=\"node\">\n<title>139791796489808</title>\n<polygon fill=\"none\" stroke=\"#000000\" points=\"3.5,-83.5 3.5,-129.5 248.5,-129.5 248.5,-83.5 3.5,-83.5\"/>\n<text text-anchor=\"middle\" x=\"57\" y=\"-114.3\" font-family=\"Times,serif\" font-size=\"14.00\" fill=\"#000000\">leaky_re_lu_17</text>\n<polyline fill=\"none\" stroke=\"#000000\" points=\"3.5,-106.5 110.5,-106.5 \"/>\n<text text-anchor=\"middle\" x=\"57\" y=\"-91.3\" font-family=\"Times,serif\" font-size=\"14.00\" fill=\"#000000\">LeakyReLU</text>\n<polyline fill=\"none\" stroke=\"#000000\" points=\"110.5,-83.5 110.5,-129.5 \"/>\n<text text-anchor=\"middle\" x=\"139.5\" y=\"-114.3\" font-family=\"Times,serif\" font-size=\"14.00\" fill=\"#000000\">input:</text>\n<polyline fill=\"none\" stroke=\"#000000\" points=\"110.5,-106.5 168.5,-106.5 \"/>\n<text text-anchor=\"middle\" x=\"139.5\" y=\"-91.3\" font-family=\"Times,serif\" font-size=\"14.00\" fill=\"#000000\">output:</text>\n<polyline fill=\"none\" stroke=\"#000000\" points=\"168.5,-83.5 168.5,-129.5 \"/>\n<text text-anchor=\"middle\" x=\"208.5\" y=\"-114.3\" font-family=\"Times,serif\" font-size=\"14.00\" fill=\"#000000\">(None, 10)</text>\n<polyline fill=\"none\" stroke=\"#000000\" points=\"168.5,-106.5 248.5,-106.5 \"/>\n<text text-anchor=\"middle\" x=\"208.5\" y=\"-91.3\" font-family=\"Times,serif\" font-size=\"14.00\" fill=\"#000000\">(None, 10)</text>\n</g>\n<!-- 139789541340832&#45;&gt;139791796489808 -->\n<g id=\"edge15\" class=\"edge\">\n<title>139789541340832-&gt;139791796489808</title>\n<path fill=\"none\" stroke=\"#000000\" d=\"M126,-166.3799C126,-158.1745 126,-148.7679 126,-139.8786\"/>\n<polygon fill=\"#000000\" stroke=\"#000000\" points=\"129.5001,-139.784 126,-129.784 122.5001,-139.784 129.5001,-139.784\"/>\n</g>\n<!-- 139789606391088 -->\n<g id=\"node17\" class=\"node\">\n<title>139789606391088</title>\n<polygon fill=\"none\" stroke=\"#000000\" points=\"17.5,-.5 17.5,-46.5 234.5,-46.5 234.5,-.5 17.5,-.5\"/>\n<text text-anchor=\"middle\" x=\"57\" y=\"-31.3\" font-family=\"Times,serif\" font-size=\"14.00\" fill=\"#000000\">dense_128</text>\n<polyline fill=\"none\" stroke=\"#000000\" points=\"17.5,-23.5 96.5,-23.5 \"/>\n<text text-anchor=\"middle\" x=\"57\" y=\"-8.3\" font-family=\"Times,serif\" font-size=\"14.00\" fill=\"#000000\">Dense</text>\n<polyline fill=\"none\" stroke=\"#000000\" points=\"96.5,-.5 96.5,-46.5 \"/>\n<text text-anchor=\"middle\" x=\"125.5\" y=\"-31.3\" font-family=\"Times,serif\" font-size=\"14.00\" fill=\"#000000\">input:</text>\n<polyline fill=\"none\" stroke=\"#000000\" points=\"96.5,-23.5 154.5,-23.5 \"/>\n<text text-anchor=\"middle\" x=\"125.5\" y=\"-8.3\" font-family=\"Times,serif\" font-size=\"14.00\" fill=\"#000000\">output:</text>\n<polyline fill=\"none\" stroke=\"#000000\" points=\"154.5,-.5 154.5,-46.5 \"/>\n<text text-anchor=\"middle\" x=\"194.5\" y=\"-31.3\" font-family=\"Times,serif\" font-size=\"14.00\" fill=\"#000000\">(None, 10)</text>\n<polyline fill=\"none\" stroke=\"#000000\" points=\"154.5,-23.5 234.5,-23.5 \"/>\n<text text-anchor=\"middle\" x=\"194.5\" y=\"-8.3\" font-family=\"Times,serif\" font-size=\"14.00\" fill=\"#000000\">(None, 4)</text>\n</g>\n<!-- 139791796489808&#45;&gt;139789606391088 -->\n<g id=\"edge16\" class=\"edge\">\n<title>139791796489808-&gt;139789606391088</title>\n<path fill=\"none\" stroke=\"#000000\" d=\"M126,-83.3799C126,-75.1745 126,-65.7679 126,-56.8786\"/>\n<polygon fill=\"#000000\" stroke=\"#000000\" points=\"129.5001,-56.784 126,-46.784 122.5001,-56.784 129.5001,-56.784\"/>\n</g>\n</g>\n</svg>"
          },
          "metadata": {}
        }
      ],
      "source": [
        "from IPython.display import SVG\n",
        "from keras.utils.vis_utils import model_to_dot\n",
        "\n",
        "if COLAB:\n",
        "    display(SVG(model_to_dot(model, show_shapes=True,dpi=72).create(prog='dot', format='svg')))\n",
        "else:\n",
        "    display(SVG(model_to_dot(model, show_shapes=True).create(prog='dot', format='svg')))"
      ]
    },
    {
      "cell_type": "markdown",
      "metadata": {
        "id": "u53L_NrodLFj"
      },
      "source": [
        "## Training"
      ]
    },
    {
      "cell_type": "code",
      "execution_count": null,
      "metadata": {
        "id": "rFiq5bqtFvzo"
      },
      "outputs": [],
      "source": [
        "from matplotlib.ticker import MaxNLocator\n",
        "\n",
        "def grafica_entrenamiento(tr_acc, val_acc, tr_loss, val_loss, best_i,\n",
        "                          figsize=(10,4)):\n",
        "    plt.figure(figsize=figsize)\n",
        "    ax = plt.subplot(1,2,1)\n",
        "    plt.plot(1+np.arange(len(tr_acc)),  100*np.array(tr_acc))\n",
        "    plt.plot(1+np.arange(len(val_acc)), 100*np.array(val_acc))\n",
        "    plt.plot(1+best_i, 100*val_acc[best_i], 'or')\n",
        "    plt.title('tasa de acierto del modelo (%)', fontsize=18)\n",
        "    plt.ylabel('tasa de acierto (%)', fontsize=18)\n",
        "    plt.xlabel('época', fontsize=18)\n",
        "    plt.legend(['entrenamiento', 'validación'], loc='upper left')\n",
        "    ax.xaxis.set_major_locator(MaxNLocator(integer=True))\n",
        "\n",
        "    plt.subplot(1,2,2)\n",
        "    plt.plot(1+np.arange(len(tr_acc)), np.array(tr_loss))\n",
        "    plt.plot(1+np.arange(len(val_acc)), np.array(val_loss))\n",
        "    plt.plot(1+best_i, val_loss[best_i], 'or')\n",
        "    plt.title('loss del modelo', fontsize=18)\n",
        "    plt.ylabel('loss', fontsize=18)\n",
        "    plt.xlabel('época', fontsize=18)\n",
        "    plt.legend(['entrenamiento', 'validación'], loc='upper left')\n",
        "    ax.xaxis.set_major_locator(MaxNLocator(integer=True))\n",
        "    plt.show()"
      ]
    },
    {
      "cell_type": "code",
      "execution_count": null,
      "metadata": {
        "id": "op7xvI_IFvzp"
      },
      "outputs": [],
      "source": [
        "acum_tr_acc = []\n",
        "acum_val_acc = []\n",
        "best_val_acc = -1000\n",
        "acum_tr_loss  = []\n",
        "acum_val_loss = []"
      ]
    },
    {
      "cell_type": "code",
      "execution_count": null,
      "metadata": {
        "colab": {
          "base_uri": "https://localhost:8080/",
          "height": 469
        },
        "id": "4hxswIVyFvzq",
        "outputId": "b3516449-6ea0-4185-ce14-6e367643ae9d"
      },
      "outputs": [
        {
          "output_type": "error",
          "ename": "KeyboardInterrupt",
          "evalue": "ignored",
          "traceback": [
            "\u001b[0;31m---------------------------------------------------------------------------\u001b[0m",
            "\u001b[0;31mKeyboardInterrupt\u001b[0m                         Traceback (most recent call last)",
            "\u001b[0;32m<ipython-input-376-125c38d7a2cb>\u001b[0m in \u001b[0;36m<module>\u001b[0;34m\u001b[0m\n\u001b[1;32m     36\u001b[0m         \u001b[0mclear_output\u001b[0m\u001b[0;34m(\u001b[0m\u001b[0;34m)\u001b[0m\u001b[0;34m\u001b[0m\u001b[0;34m\u001b[0m\u001b[0m\n\u001b[1;32m     37\u001b[0m         \u001b[0mbest_i\u001b[0m \u001b[0;34m=\u001b[0m \u001b[0mnp\u001b[0m\u001b[0;34m.\u001b[0m\u001b[0margmax\u001b[0m\u001b[0;34m(\u001b[0m\u001b[0macum_val_acc\u001b[0m\u001b[0;34m)\u001b[0m\u001b[0;34m\u001b[0m\u001b[0;34m\u001b[0m\u001b[0m\n\u001b[0;32m---> 38\u001b[0;31m         \u001b[0mgrafica_entrenamiento\u001b[0m\u001b[0;34m(\u001b[0m\u001b[0macum_tr_acc\u001b[0m\u001b[0;34m,\u001b[0m \u001b[0macum_val_acc\u001b[0m\u001b[0;34m,\u001b[0m \u001b[0macum_tr_loss\u001b[0m\u001b[0;34m,\u001b[0m \u001b[0macum_val_loss\u001b[0m\u001b[0;34m,\u001b[0m \u001b[0mbest_i\u001b[0m\u001b[0;34m)\u001b[0m\u001b[0;34m\u001b[0m\u001b[0;34m\u001b[0m\u001b[0m\n\u001b[0m\u001b[1;32m     39\u001b[0m \u001b[0;34m\u001b[0m\u001b[0m\n\u001b[1;32m     40\u001b[0m \u001b[0;34m\u001b[0m\u001b[0m\n",
            "\u001b[0;32m<ipython-input-374-b8a7764c111b>\u001b[0m in \u001b[0;36mgrafica_entrenamiento\u001b[0;34m(tr_acc, val_acc, tr_loss, val_loss, best_i, figsize)\u001b[0m\n\u001b[1;32m     23\u001b[0m     \u001b[0mplt\u001b[0m\u001b[0;34m.\u001b[0m\u001b[0mlegend\u001b[0m\u001b[0;34m(\u001b[0m\u001b[0;34m[\u001b[0m\u001b[0;34m'entrenamiento'\u001b[0m\u001b[0;34m,\u001b[0m \u001b[0;34m'validación'\u001b[0m\u001b[0;34m]\u001b[0m\u001b[0;34m,\u001b[0m \u001b[0mloc\u001b[0m\u001b[0;34m=\u001b[0m\u001b[0;34m'upper left'\u001b[0m\u001b[0;34m)\u001b[0m\u001b[0;34m\u001b[0m\u001b[0;34m\u001b[0m\u001b[0m\n\u001b[1;32m     24\u001b[0m     \u001b[0max\u001b[0m\u001b[0;34m.\u001b[0m\u001b[0mxaxis\u001b[0m\u001b[0;34m.\u001b[0m\u001b[0mset_major_locator\u001b[0m\u001b[0;34m(\u001b[0m\u001b[0mMaxNLocator\u001b[0m\u001b[0;34m(\u001b[0m\u001b[0minteger\u001b[0m\u001b[0;34m=\u001b[0m\u001b[0;32mTrue\u001b[0m\u001b[0;34m)\u001b[0m\u001b[0;34m)\u001b[0m\u001b[0;34m\u001b[0m\u001b[0;34m\u001b[0m\u001b[0m\n\u001b[0;32m---> 25\u001b[0;31m     \u001b[0mplt\u001b[0m\u001b[0;34m.\u001b[0m\u001b[0mshow\u001b[0m\u001b[0;34m(\u001b[0m\u001b[0;34m)\u001b[0m\u001b[0;34m\u001b[0m\u001b[0;34m\u001b[0m\u001b[0m\n\u001b[0m",
            "\u001b[0;32m/usr/local/lib/python3.8/dist-packages/matplotlib/pyplot.py\u001b[0m in \u001b[0;36mshow\u001b[0;34m(*args, **kw)\u001b[0m\n\u001b[1;32m    270\u001b[0m     \"\"\"\n\u001b[1;32m    271\u001b[0m     \u001b[0;32mglobal\u001b[0m \u001b[0m_show\u001b[0m\u001b[0;34m\u001b[0m\u001b[0;34m\u001b[0m\u001b[0m\n\u001b[0;32m--> 272\u001b[0;31m     \u001b[0;32mreturn\u001b[0m \u001b[0m_show\u001b[0m\u001b[0;34m(\u001b[0m\u001b[0;34m*\u001b[0m\u001b[0margs\u001b[0m\u001b[0;34m,\u001b[0m \u001b[0;34m**\u001b[0m\u001b[0mkw\u001b[0m\u001b[0;34m)\u001b[0m\u001b[0;34m\u001b[0m\u001b[0;34m\u001b[0m\u001b[0m\n\u001b[0m\u001b[1;32m    273\u001b[0m \u001b[0;34m\u001b[0m\u001b[0m\n\u001b[1;32m    274\u001b[0m \u001b[0;34m\u001b[0m\u001b[0m\n",
            "\u001b[0;32m/usr/local/lib/python3.8/dist-packages/ipykernel/pylab/backend_inline.py\u001b[0m in \u001b[0;36mshow\u001b[0;34m(close, block)\u001b[0m\n\u001b[1;32m     39\u001b[0m     \u001b[0;32mtry\u001b[0m\u001b[0;34m:\u001b[0m\u001b[0;34m\u001b[0m\u001b[0;34m\u001b[0m\u001b[0m\n\u001b[1;32m     40\u001b[0m         \u001b[0;32mfor\u001b[0m \u001b[0mfigure_manager\u001b[0m \u001b[0;32min\u001b[0m \u001b[0mGcf\u001b[0m\u001b[0;34m.\u001b[0m\u001b[0mget_all_fig_managers\u001b[0m\u001b[0;34m(\u001b[0m\u001b[0;34m)\u001b[0m\u001b[0;34m:\u001b[0m\u001b[0;34m\u001b[0m\u001b[0;34m\u001b[0m\u001b[0m\n\u001b[0;32m---> 41\u001b[0;31m             display(\n\u001b[0m\u001b[1;32m     42\u001b[0m                 \u001b[0mfigure_manager\u001b[0m\u001b[0;34m.\u001b[0m\u001b[0mcanvas\u001b[0m\u001b[0;34m.\u001b[0m\u001b[0mfigure\u001b[0m\u001b[0;34m,\u001b[0m\u001b[0;34m\u001b[0m\u001b[0;34m\u001b[0m\u001b[0m\n\u001b[1;32m     43\u001b[0m                 \u001b[0mmetadata\u001b[0m\u001b[0;34m=\u001b[0m\u001b[0m_fetch_figure_metadata\u001b[0m\u001b[0;34m(\u001b[0m\u001b[0mfigure_manager\u001b[0m\u001b[0;34m.\u001b[0m\u001b[0mcanvas\u001b[0m\u001b[0;34m.\u001b[0m\u001b[0mfigure\u001b[0m\u001b[0;34m)\u001b[0m\u001b[0;34m\u001b[0m\u001b[0;34m\u001b[0m\u001b[0m\n",
            "\u001b[0;32m/usr/local/lib/python3.8/dist-packages/IPython/core/display.py\u001b[0m in \u001b[0;36mdisplay\u001b[0;34m(include, exclude, metadata, transient, display_id, *objs, **kwargs)\u001b[0m\n\u001b[1;32m    311\u001b[0m             \u001b[0mpublish_display_data\u001b[0m\u001b[0;34m(\u001b[0m\u001b[0mdata\u001b[0m\u001b[0;34m=\u001b[0m\u001b[0mobj\u001b[0m\u001b[0;34m,\u001b[0m \u001b[0mmetadata\u001b[0m\u001b[0;34m=\u001b[0m\u001b[0mmetadata\u001b[0m\u001b[0;34m,\u001b[0m \u001b[0;34m**\u001b[0m\u001b[0mkwargs\u001b[0m\u001b[0;34m)\u001b[0m\u001b[0;34m\u001b[0m\u001b[0;34m\u001b[0m\u001b[0m\n\u001b[1;32m    312\u001b[0m         \u001b[0;32melse\u001b[0m\u001b[0;34m:\u001b[0m\u001b[0;34m\u001b[0m\u001b[0;34m\u001b[0m\u001b[0m\n\u001b[0;32m--> 313\u001b[0;31m             \u001b[0mformat_dict\u001b[0m\u001b[0;34m,\u001b[0m \u001b[0mmd_dict\u001b[0m \u001b[0;34m=\u001b[0m \u001b[0mformat\u001b[0m\u001b[0;34m(\u001b[0m\u001b[0mobj\u001b[0m\u001b[0;34m,\u001b[0m \u001b[0minclude\u001b[0m\u001b[0;34m=\u001b[0m\u001b[0minclude\u001b[0m\u001b[0;34m,\u001b[0m \u001b[0mexclude\u001b[0m\u001b[0;34m=\u001b[0m\u001b[0mexclude\u001b[0m\u001b[0;34m)\u001b[0m\u001b[0;34m\u001b[0m\u001b[0;34m\u001b[0m\u001b[0m\n\u001b[0m\u001b[1;32m    314\u001b[0m             \u001b[0;32mif\u001b[0m \u001b[0;32mnot\u001b[0m \u001b[0mformat_dict\u001b[0m\u001b[0;34m:\u001b[0m\u001b[0;34m\u001b[0m\u001b[0;34m\u001b[0m\u001b[0m\n\u001b[1;32m    315\u001b[0m                 \u001b[0;31m# nothing to display (e.g. _ipython_display_ took over)\u001b[0m\u001b[0;34m\u001b[0m\u001b[0;34m\u001b[0m\u001b[0;34m\u001b[0m\u001b[0m\n",
            "\u001b[0;32m/usr/local/lib/python3.8/dist-packages/IPython/core/formatters.py\u001b[0m in \u001b[0;36mformat\u001b[0;34m(self, obj, include, exclude)\u001b[0m\n\u001b[1;32m    178\u001b[0m             \u001b[0mmd\u001b[0m \u001b[0;34m=\u001b[0m \u001b[0;32mNone\u001b[0m\u001b[0;34m\u001b[0m\u001b[0;34m\u001b[0m\u001b[0m\n\u001b[1;32m    179\u001b[0m             \u001b[0;32mtry\u001b[0m\u001b[0;34m:\u001b[0m\u001b[0;34m\u001b[0m\u001b[0;34m\u001b[0m\u001b[0m\n\u001b[0;32m--> 180\u001b[0;31m                 \u001b[0mdata\u001b[0m \u001b[0;34m=\u001b[0m \u001b[0mformatter\u001b[0m\u001b[0;34m(\u001b[0m\u001b[0mobj\u001b[0m\u001b[0;34m)\u001b[0m\u001b[0;34m\u001b[0m\u001b[0;34m\u001b[0m\u001b[0m\n\u001b[0m\u001b[1;32m    181\u001b[0m             \u001b[0;32mexcept\u001b[0m\u001b[0;34m:\u001b[0m\u001b[0;34m\u001b[0m\u001b[0;34m\u001b[0m\u001b[0m\n\u001b[1;32m    182\u001b[0m                 \u001b[0;31m# FIXME: log the exception\u001b[0m\u001b[0;34m\u001b[0m\u001b[0;34m\u001b[0m\u001b[0;34m\u001b[0m\u001b[0m\n",
            "\u001b[0;32m<decorator-gen-2>\u001b[0m in \u001b[0;36m__call__\u001b[0;34m(self, obj)\u001b[0m\n",
            "\u001b[0;32m/usr/local/lib/python3.8/dist-packages/IPython/core/formatters.py\u001b[0m in \u001b[0;36mcatch_format_error\u001b[0;34m(method, self, *args, **kwargs)\u001b[0m\n\u001b[1;32m    222\u001b[0m     \u001b[0;34m\"\"\"show traceback on failed format call\"\"\"\u001b[0m\u001b[0;34m\u001b[0m\u001b[0;34m\u001b[0m\u001b[0m\n\u001b[1;32m    223\u001b[0m     \u001b[0;32mtry\u001b[0m\u001b[0;34m:\u001b[0m\u001b[0;34m\u001b[0m\u001b[0;34m\u001b[0m\u001b[0m\n\u001b[0;32m--> 224\u001b[0;31m         \u001b[0mr\u001b[0m \u001b[0;34m=\u001b[0m \u001b[0mmethod\u001b[0m\u001b[0;34m(\u001b[0m\u001b[0mself\u001b[0m\u001b[0;34m,\u001b[0m \u001b[0;34m*\u001b[0m\u001b[0margs\u001b[0m\u001b[0;34m,\u001b[0m \u001b[0;34m**\u001b[0m\u001b[0mkwargs\u001b[0m\u001b[0;34m)\u001b[0m\u001b[0;34m\u001b[0m\u001b[0;34m\u001b[0m\u001b[0m\n\u001b[0m\u001b[1;32m    225\u001b[0m     \u001b[0;32mexcept\u001b[0m \u001b[0mNotImplementedError\u001b[0m\u001b[0;34m:\u001b[0m\u001b[0;34m\u001b[0m\u001b[0;34m\u001b[0m\u001b[0m\n\u001b[1;32m    226\u001b[0m         \u001b[0;31m# don't warn on NotImplementedErrors\u001b[0m\u001b[0;34m\u001b[0m\u001b[0;34m\u001b[0m\u001b[0;34m\u001b[0m\u001b[0m\n",
            "\u001b[0;32m/usr/local/lib/python3.8/dist-packages/IPython/core/formatters.py\u001b[0m in \u001b[0;36m__call__\u001b[0;34m(self, obj)\u001b[0m\n\u001b[1;32m    339\u001b[0m                 \u001b[0;32mpass\u001b[0m\u001b[0;34m\u001b[0m\u001b[0;34m\u001b[0m\u001b[0m\n\u001b[1;32m    340\u001b[0m             \u001b[0;32melse\u001b[0m\u001b[0;34m:\u001b[0m\u001b[0;34m\u001b[0m\u001b[0;34m\u001b[0m\u001b[0m\n\u001b[0;32m--> 341\u001b[0;31m                 \u001b[0;32mreturn\u001b[0m \u001b[0mprinter\u001b[0m\u001b[0;34m(\u001b[0m\u001b[0mobj\u001b[0m\u001b[0;34m)\u001b[0m\u001b[0;34m\u001b[0m\u001b[0;34m\u001b[0m\u001b[0m\n\u001b[0m\u001b[1;32m    342\u001b[0m             \u001b[0;31m# Finally look for special method names\u001b[0m\u001b[0;34m\u001b[0m\u001b[0;34m\u001b[0m\u001b[0;34m\u001b[0m\u001b[0m\n\u001b[1;32m    343\u001b[0m             \u001b[0mmethod\u001b[0m \u001b[0;34m=\u001b[0m \u001b[0mget_real_method\u001b[0m\u001b[0;34m(\u001b[0m\u001b[0mobj\u001b[0m\u001b[0;34m,\u001b[0m \u001b[0mself\u001b[0m\u001b[0;34m.\u001b[0m\u001b[0mprint_method\u001b[0m\u001b[0;34m)\u001b[0m\u001b[0;34m\u001b[0m\u001b[0;34m\u001b[0m\u001b[0m\n",
            "\u001b[0;32m/usr/local/lib/python3.8/dist-packages/IPython/core/pylabtools.py\u001b[0m in \u001b[0;36m<lambda>\u001b[0;34m(fig)\u001b[0m\n\u001b[1;32m    242\u001b[0m \u001b[0;34m\u001b[0m\u001b[0m\n\u001b[1;32m    243\u001b[0m     \u001b[0;32mif\u001b[0m \u001b[0;34m'png'\u001b[0m \u001b[0;32min\u001b[0m \u001b[0mformats\u001b[0m\u001b[0;34m:\u001b[0m\u001b[0;34m\u001b[0m\u001b[0;34m\u001b[0m\u001b[0m\n\u001b[0;32m--> 244\u001b[0;31m         \u001b[0mpng_formatter\u001b[0m\u001b[0;34m.\u001b[0m\u001b[0mfor_type\u001b[0m\u001b[0;34m(\u001b[0m\u001b[0mFigure\u001b[0m\u001b[0;34m,\u001b[0m \u001b[0;32mlambda\u001b[0m \u001b[0mfig\u001b[0m\u001b[0;34m:\u001b[0m \u001b[0mprint_figure\u001b[0m\u001b[0;34m(\u001b[0m\u001b[0mfig\u001b[0m\u001b[0;34m,\u001b[0m \u001b[0;34m'png'\u001b[0m\u001b[0;34m,\u001b[0m \u001b[0;34m**\u001b[0m\u001b[0mkwargs\u001b[0m\u001b[0;34m)\u001b[0m\u001b[0;34m)\u001b[0m\u001b[0;34m\u001b[0m\u001b[0;34m\u001b[0m\u001b[0m\n\u001b[0m\u001b[1;32m    245\u001b[0m     \u001b[0;32mif\u001b[0m \u001b[0;34m'retina'\u001b[0m \u001b[0;32min\u001b[0m \u001b[0mformats\u001b[0m \u001b[0;32mor\u001b[0m \u001b[0;34m'png2x'\u001b[0m \u001b[0;32min\u001b[0m \u001b[0mformats\u001b[0m\u001b[0;34m:\u001b[0m\u001b[0;34m\u001b[0m\u001b[0;34m\u001b[0m\u001b[0m\n\u001b[1;32m    246\u001b[0m         \u001b[0mpng_formatter\u001b[0m\u001b[0;34m.\u001b[0m\u001b[0mfor_type\u001b[0m\u001b[0;34m(\u001b[0m\u001b[0mFigure\u001b[0m\u001b[0;34m,\u001b[0m \u001b[0;32mlambda\u001b[0m \u001b[0mfig\u001b[0m\u001b[0;34m:\u001b[0m \u001b[0mretina_figure\u001b[0m\u001b[0;34m(\u001b[0m\u001b[0mfig\u001b[0m\u001b[0;34m,\u001b[0m \u001b[0;34m**\u001b[0m\u001b[0mkwargs\u001b[0m\u001b[0;34m)\u001b[0m\u001b[0;34m)\u001b[0m\u001b[0;34m\u001b[0m\u001b[0;34m\u001b[0m\u001b[0m\n",
            "\u001b[0;32m/usr/local/lib/python3.8/dist-packages/IPython/core/pylabtools.py\u001b[0m in \u001b[0;36mprint_figure\u001b[0;34m(fig, fmt, bbox_inches, **kwargs)\u001b[0m\n\u001b[1;32m    126\u001b[0m \u001b[0;34m\u001b[0m\u001b[0m\n\u001b[1;32m    127\u001b[0m     \u001b[0mbytes_io\u001b[0m \u001b[0;34m=\u001b[0m \u001b[0mBytesIO\u001b[0m\u001b[0;34m(\u001b[0m\u001b[0;34m)\u001b[0m\u001b[0;34m\u001b[0m\u001b[0;34m\u001b[0m\u001b[0m\n\u001b[0;32m--> 128\u001b[0;31m     \u001b[0mfig\u001b[0m\u001b[0;34m.\u001b[0m\u001b[0mcanvas\u001b[0m\u001b[0;34m.\u001b[0m\u001b[0mprint_figure\u001b[0m\u001b[0;34m(\u001b[0m\u001b[0mbytes_io\u001b[0m\u001b[0;34m,\u001b[0m \u001b[0;34m**\u001b[0m\u001b[0mkw\u001b[0m\u001b[0;34m)\u001b[0m\u001b[0;34m\u001b[0m\u001b[0;34m\u001b[0m\u001b[0m\n\u001b[0m\u001b[1;32m    129\u001b[0m     \u001b[0mdata\u001b[0m \u001b[0;34m=\u001b[0m \u001b[0mbytes_io\u001b[0m\u001b[0;34m.\u001b[0m\u001b[0mgetvalue\u001b[0m\u001b[0;34m(\u001b[0m\u001b[0;34m)\u001b[0m\u001b[0;34m\u001b[0m\u001b[0;34m\u001b[0m\u001b[0m\n\u001b[1;32m    130\u001b[0m     \u001b[0;32mif\u001b[0m \u001b[0mfmt\u001b[0m \u001b[0;34m==\u001b[0m \u001b[0;34m'svg'\u001b[0m\u001b[0;34m:\u001b[0m\u001b[0;34m\u001b[0m\u001b[0;34m\u001b[0m\u001b[0m\n",
            "\u001b[0;32m/usr/local/lib/python3.8/dist-packages/matplotlib/backend_bases.py\u001b[0m in \u001b[0;36mprint_figure\u001b[0;34m(self, filename, dpi, facecolor, edgecolor, orientation, format, bbox_inches, **kwargs)\u001b[0m\n\u001b[1;32m   2098\u001b[0m                            else suppress())\n\u001b[1;32m   2099\u001b[0m                     \u001b[0;32mwith\u001b[0m \u001b[0mctx\u001b[0m\u001b[0;34m:\u001b[0m\u001b[0;34m\u001b[0m\u001b[0;34m\u001b[0m\u001b[0m\n\u001b[0;32m-> 2100\u001b[0;31m                         \u001b[0mself\u001b[0m\u001b[0;34m.\u001b[0m\u001b[0mfigure\u001b[0m\u001b[0;34m.\u001b[0m\u001b[0mdraw\u001b[0m\u001b[0;34m(\u001b[0m\u001b[0mrenderer\u001b[0m\u001b[0;34m)\u001b[0m\u001b[0;34m\u001b[0m\u001b[0;34m\u001b[0m\u001b[0m\n\u001b[0m\u001b[1;32m   2101\u001b[0m                     \u001b[0mbbox_artists\u001b[0m \u001b[0;34m=\u001b[0m \u001b[0mkwargs\u001b[0m\u001b[0;34m.\u001b[0m\u001b[0mpop\u001b[0m\u001b[0;34m(\u001b[0m\u001b[0;34m\"bbox_extra_artists\"\u001b[0m\u001b[0;34m,\u001b[0m \u001b[0;32mNone\u001b[0m\u001b[0;34m)\u001b[0m\u001b[0;34m\u001b[0m\u001b[0;34m\u001b[0m\u001b[0m\n\u001b[1;32m   2102\u001b[0m                     bbox_inches = self.figure.get_tightbbox(renderer,\n",
            "\u001b[0;32m/usr/local/lib/python3.8/dist-packages/matplotlib/artist.py\u001b[0m in \u001b[0;36mdraw_wrapper\u001b[0;34m(artist, renderer, *args, **kwargs)\u001b[0m\n\u001b[1;32m     36\u001b[0m                 \u001b[0mrenderer\u001b[0m\u001b[0;34m.\u001b[0m\u001b[0mstart_filter\u001b[0m\u001b[0;34m(\u001b[0m\u001b[0;34m)\u001b[0m\u001b[0;34m\u001b[0m\u001b[0;34m\u001b[0m\u001b[0m\n\u001b[1;32m     37\u001b[0m \u001b[0;34m\u001b[0m\u001b[0m\n\u001b[0;32m---> 38\u001b[0;31m             \u001b[0;32mreturn\u001b[0m \u001b[0mdraw\u001b[0m\u001b[0;34m(\u001b[0m\u001b[0martist\u001b[0m\u001b[0;34m,\u001b[0m \u001b[0mrenderer\u001b[0m\u001b[0;34m,\u001b[0m \u001b[0;34m*\u001b[0m\u001b[0margs\u001b[0m\u001b[0;34m,\u001b[0m \u001b[0;34m**\u001b[0m\u001b[0mkwargs\u001b[0m\u001b[0;34m)\u001b[0m\u001b[0;34m\u001b[0m\u001b[0;34m\u001b[0m\u001b[0m\n\u001b[0m\u001b[1;32m     39\u001b[0m         \u001b[0;32mfinally\u001b[0m\u001b[0;34m:\u001b[0m\u001b[0;34m\u001b[0m\u001b[0;34m\u001b[0m\u001b[0m\n\u001b[1;32m     40\u001b[0m             \u001b[0;32mif\u001b[0m \u001b[0martist\u001b[0m\u001b[0;34m.\u001b[0m\u001b[0mget_agg_filter\u001b[0m\u001b[0;34m(\u001b[0m\u001b[0;34m)\u001b[0m \u001b[0;32mis\u001b[0m \u001b[0;32mnot\u001b[0m \u001b[0;32mNone\u001b[0m\u001b[0;34m:\u001b[0m\u001b[0;34m\u001b[0m\u001b[0;34m\u001b[0m\u001b[0m\n",
            "\u001b[0;32m/usr/local/lib/python3.8/dist-packages/matplotlib/figure.py\u001b[0m in \u001b[0;36mdraw\u001b[0;34m(self, renderer)\u001b[0m\n\u001b[1;32m   1733\u001b[0m \u001b[0;34m\u001b[0m\u001b[0m\n\u001b[1;32m   1734\u001b[0m             \u001b[0mself\u001b[0m\u001b[0;34m.\u001b[0m\u001b[0mpatch\u001b[0m\u001b[0;34m.\u001b[0m\u001b[0mdraw\u001b[0m\u001b[0;34m(\u001b[0m\u001b[0mrenderer\u001b[0m\u001b[0;34m)\u001b[0m\u001b[0;34m\u001b[0m\u001b[0;34m\u001b[0m\u001b[0m\n\u001b[0;32m-> 1735\u001b[0;31m             mimage._draw_list_compositing_images(\n\u001b[0m\u001b[1;32m   1736\u001b[0m                 renderer, self, artists, self.suppressComposite)\n\u001b[1;32m   1737\u001b[0m \u001b[0;34m\u001b[0m\u001b[0m\n",
            "\u001b[0;32m/usr/local/lib/python3.8/dist-packages/matplotlib/image.py\u001b[0m in \u001b[0;36m_draw_list_compositing_images\u001b[0;34m(renderer, parent, artists, suppress_composite)\u001b[0m\n\u001b[1;32m    135\u001b[0m     \u001b[0;32mif\u001b[0m \u001b[0mnot_composite\u001b[0m \u001b[0;32mor\u001b[0m \u001b[0;32mnot\u001b[0m \u001b[0mhas_images\u001b[0m\u001b[0;34m:\u001b[0m\u001b[0;34m\u001b[0m\u001b[0;34m\u001b[0m\u001b[0m\n\u001b[1;32m    136\u001b[0m         \u001b[0;32mfor\u001b[0m \u001b[0ma\u001b[0m \u001b[0;32min\u001b[0m \u001b[0martists\u001b[0m\u001b[0;34m:\u001b[0m\u001b[0;34m\u001b[0m\u001b[0;34m\u001b[0m\u001b[0m\n\u001b[0;32m--> 137\u001b[0;31m             \u001b[0ma\u001b[0m\u001b[0;34m.\u001b[0m\u001b[0mdraw\u001b[0m\u001b[0;34m(\u001b[0m\u001b[0mrenderer\u001b[0m\u001b[0;34m)\u001b[0m\u001b[0;34m\u001b[0m\u001b[0;34m\u001b[0m\u001b[0m\n\u001b[0m\u001b[1;32m    138\u001b[0m     \u001b[0;32melse\u001b[0m\u001b[0;34m:\u001b[0m\u001b[0;34m\u001b[0m\u001b[0;34m\u001b[0m\u001b[0m\n\u001b[1;32m    139\u001b[0m         \u001b[0;31m# Composite any adjacent images together\u001b[0m\u001b[0;34m\u001b[0m\u001b[0;34m\u001b[0m\u001b[0;34m\u001b[0m\u001b[0m\n",
            "\u001b[0;32m/usr/local/lib/python3.8/dist-packages/matplotlib/artist.py\u001b[0m in \u001b[0;36mdraw_wrapper\u001b[0;34m(artist, renderer, *args, **kwargs)\u001b[0m\n\u001b[1;32m     36\u001b[0m                 \u001b[0mrenderer\u001b[0m\u001b[0;34m.\u001b[0m\u001b[0mstart_filter\u001b[0m\u001b[0;34m(\u001b[0m\u001b[0;34m)\u001b[0m\u001b[0;34m\u001b[0m\u001b[0;34m\u001b[0m\u001b[0m\n\u001b[1;32m     37\u001b[0m \u001b[0;34m\u001b[0m\u001b[0m\n\u001b[0;32m---> 38\u001b[0;31m             \u001b[0;32mreturn\u001b[0m \u001b[0mdraw\u001b[0m\u001b[0;34m(\u001b[0m\u001b[0martist\u001b[0m\u001b[0;34m,\u001b[0m \u001b[0mrenderer\u001b[0m\u001b[0;34m,\u001b[0m \u001b[0;34m*\u001b[0m\u001b[0margs\u001b[0m\u001b[0;34m,\u001b[0m \u001b[0;34m**\u001b[0m\u001b[0mkwargs\u001b[0m\u001b[0;34m)\u001b[0m\u001b[0;34m\u001b[0m\u001b[0;34m\u001b[0m\u001b[0m\n\u001b[0m\u001b[1;32m     39\u001b[0m         \u001b[0;32mfinally\u001b[0m\u001b[0;34m:\u001b[0m\u001b[0;34m\u001b[0m\u001b[0;34m\u001b[0m\u001b[0m\n\u001b[1;32m     40\u001b[0m             \u001b[0;32mif\u001b[0m \u001b[0martist\u001b[0m\u001b[0;34m.\u001b[0m\u001b[0mget_agg_filter\u001b[0m\u001b[0;34m(\u001b[0m\u001b[0;34m)\u001b[0m \u001b[0;32mis\u001b[0m \u001b[0;32mnot\u001b[0m \u001b[0;32mNone\u001b[0m\u001b[0;34m:\u001b[0m\u001b[0;34m\u001b[0m\u001b[0;34m\u001b[0m\u001b[0m\n",
            "\u001b[0;32m/usr/local/lib/python3.8/dist-packages/matplotlib/axes/_base.py\u001b[0m in \u001b[0;36mdraw\u001b[0;34m(self, renderer, inframe)\u001b[0m\n\u001b[1;32m   2628\u001b[0m             \u001b[0mrenderer\u001b[0m\u001b[0;34m.\u001b[0m\u001b[0mstop_rasterizing\u001b[0m\u001b[0;34m(\u001b[0m\u001b[0;34m)\u001b[0m\u001b[0;34m\u001b[0m\u001b[0;34m\u001b[0m\u001b[0m\n\u001b[1;32m   2629\u001b[0m \u001b[0;34m\u001b[0m\u001b[0m\n\u001b[0;32m-> 2630\u001b[0;31m         \u001b[0mmimage\u001b[0m\u001b[0;34m.\u001b[0m\u001b[0m_draw_list_compositing_images\u001b[0m\u001b[0;34m(\u001b[0m\u001b[0mrenderer\u001b[0m\u001b[0;34m,\u001b[0m \u001b[0mself\u001b[0m\u001b[0;34m,\u001b[0m \u001b[0martists\u001b[0m\u001b[0;34m)\u001b[0m\u001b[0;34m\u001b[0m\u001b[0;34m\u001b[0m\u001b[0m\n\u001b[0m\u001b[1;32m   2631\u001b[0m \u001b[0;34m\u001b[0m\u001b[0m\n\u001b[1;32m   2632\u001b[0m         \u001b[0mrenderer\u001b[0m\u001b[0;34m.\u001b[0m\u001b[0mclose_group\u001b[0m\u001b[0;34m(\u001b[0m\u001b[0;34m'axes'\u001b[0m\u001b[0;34m)\u001b[0m\u001b[0;34m\u001b[0m\u001b[0;34m\u001b[0m\u001b[0m\n",
            "\u001b[0;32m/usr/local/lib/python3.8/dist-packages/matplotlib/image.py\u001b[0m in \u001b[0;36m_draw_list_compositing_images\u001b[0;34m(renderer, parent, artists, suppress_composite)\u001b[0m\n\u001b[1;32m    135\u001b[0m     \u001b[0;32mif\u001b[0m \u001b[0mnot_composite\u001b[0m \u001b[0;32mor\u001b[0m \u001b[0;32mnot\u001b[0m \u001b[0mhas_images\u001b[0m\u001b[0;34m:\u001b[0m\u001b[0;34m\u001b[0m\u001b[0;34m\u001b[0m\u001b[0m\n\u001b[1;32m    136\u001b[0m         \u001b[0;32mfor\u001b[0m \u001b[0ma\u001b[0m \u001b[0;32min\u001b[0m \u001b[0martists\u001b[0m\u001b[0;34m:\u001b[0m\u001b[0;34m\u001b[0m\u001b[0;34m\u001b[0m\u001b[0m\n\u001b[0;32m--> 137\u001b[0;31m             \u001b[0ma\u001b[0m\u001b[0;34m.\u001b[0m\u001b[0mdraw\u001b[0m\u001b[0;34m(\u001b[0m\u001b[0mrenderer\u001b[0m\u001b[0;34m)\u001b[0m\u001b[0;34m\u001b[0m\u001b[0;34m\u001b[0m\u001b[0m\n\u001b[0m\u001b[1;32m    138\u001b[0m     \u001b[0;32melse\u001b[0m\u001b[0;34m:\u001b[0m\u001b[0;34m\u001b[0m\u001b[0;34m\u001b[0m\u001b[0m\n\u001b[1;32m    139\u001b[0m         \u001b[0;31m# Composite any adjacent images together\u001b[0m\u001b[0;34m\u001b[0m\u001b[0;34m\u001b[0m\u001b[0;34m\u001b[0m\u001b[0m\n",
            "\u001b[0;32m/usr/local/lib/python3.8/dist-packages/matplotlib/artist.py\u001b[0m in \u001b[0;36mdraw_wrapper\u001b[0;34m(artist, renderer, *args, **kwargs)\u001b[0m\n\u001b[1;32m     36\u001b[0m                 \u001b[0mrenderer\u001b[0m\u001b[0;34m.\u001b[0m\u001b[0mstart_filter\u001b[0m\u001b[0;34m(\u001b[0m\u001b[0;34m)\u001b[0m\u001b[0;34m\u001b[0m\u001b[0;34m\u001b[0m\u001b[0m\n\u001b[1;32m     37\u001b[0m \u001b[0;34m\u001b[0m\u001b[0m\n\u001b[0;32m---> 38\u001b[0;31m             \u001b[0;32mreturn\u001b[0m \u001b[0mdraw\u001b[0m\u001b[0;34m(\u001b[0m\u001b[0martist\u001b[0m\u001b[0;34m,\u001b[0m \u001b[0mrenderer\u001b[0m\u001b[0;34m,\u001b[0m \u001b[0;34m*\u001b[0m\u001b[0margs\u001b[0m\u001b[0;34m,\u001b[0m \u001b[0;34m**\u001b[0m\u001b[0mkwargs\u001b[0m\u001b[0;34m)\u001b[0m\u001b[0;34m\u001b[0m\u001b[0;34m\u001b[0m\u001b[0m\n\u001b[0m\u001b[1;32m     39\u001b[0m         \u001b[0;32mfinally\u001b[0m\u001b[0;34m:\u001b[0m\u001b[0;34m\u001b[0m\u001b[0;34m\u001b[0m\u001b[0m\n\u001b[1;32m     40\u001b[0m             \u001b[0;32mif\u001b[0m \u001b[0martist\u001b[0m\u001b[0;34m.\u001b[0m\u001b[0mget_agg_filter\u001b[0m\u001b[0;34m(\u001b[0m\u001b[0;34m)\u001b[0m \u001b[0;32mis\u001b[0m \u001b[0;32mnot\u001b[0m \u001b[0;32mNone\u001b[0m\u001b[0;34m:\u001b[0m\u001b[0;34m\u001b[0m\u001b[0;34m\u001b[0m\u001b[0m\n",
            "\u001b[0;32m/usr/local/lib/python3.8/dist-packages/matplotlib/axis.py\u001b[0m in \u001b[0;36mdraw\u001b[0;34m(self, renderer, *args, **kwargs)\u001b[0m\n\u001b[1;32m   1239\u001b[0m         \u001b[0mself\u001b[0m\u001b[0;34m.\u001b[0m\u001b[0m_update_label_position\u001b[0m\u001b[0;34m(\u001b[0m\u001b[0mrenderer\u001b[0m\u001b[0;34m)\u001b[0m\u001b[0;34m\u001b[0m\u001b[0;34m\u001b[0m\u001b[0m\n\u001b[1;32m   1240\u001b[0m \u001b[0;34m\u001b[0m\u001b[0m\n\u001b[0;32m-> 1241\u001b[0;31m         \u001b[0mself\u001b[0m\u001b[0;34m.\u001b[0m\u001b[0mlabel\u001b[0m\u001b[0;34m.\u001b[0m\u001b[0mdraw\u001b[0m\u001b[0;34m(\u001b[0m\u001b[0mrenderer\u001b[0m\u001b[0;34m)\u001b[0m\u001b[0;34m\u001b[0m\u001b[0;34m\u001b[0m\u001b[0m\n\u001b[0m\u001b[1;32m   1242\u001b[0m \u001b[0;34m\u001b[0m\u001b[0m\n\u001b[1;32m   1243\u001b[0m         \u001b[0mself\u001b[0m\u001b[0;34m.\u001b[0m\u001b[0m_update_offset_text_position\u001b[0m\u001b[0;34m(\u001b[0m\u001b[0mticklabelBoxes\u001b[0m\u001b[0;34m,\u001b[0m \u001b[0mticklabelBoxes2\u001b[0m\u001b[0;34m)\u001b[0m\u001b[0;34m\u001b[0m\u001b[0;34m\u001b[0m\u001b[0m\n",
            "\u001b[0;32m/usr/local/lib/python3.8/dist-packages/matplotlib/artist.py\u001b[0m in \u001b[0;36mdraw_wrapper\u001b[0;34m(artist, renderer, *args, **kwargs)\u001b[0m\n\u001b[1;32m     36\u001b[0m                 \u001b[0mrenderer\u001b[0m\u001b[0;34m.\u001b[0m\u001b[0mstart_filter\u001b[0m\u001b[0;34m(\u001b[0m\u001b[0;34m)\u001b[0m\u001b[0;34m\u001b[0m\u001b[0;34m\u001b[0m\u001b[0m\n\u001b[1;32m     37\u001b[0m \u001b[0;34m\u001b[0m\u001b[0m\n\u001b[0;32m---> 38\u001b[0;31m             \u001b[0;32mreturn\u001b[0m \u001b[0mdraw\u001b[0m\u001b[0;34m(\u001b[0m\u001b[0martist\u001b[0m\u001b[0;34m,\u001b[0m \u001b[0mrenderer\u001b[0m\u001b[0;34m,\u001b[0m \u001b[0;34m*\u001b[0m\u001b[0margs\u001b[0m\u001b[0;34m,\u001b[0m \u001b[0;34m**\u001b[0m\u001b[0mkwargs\u001b[0m\u001b[0;34m)\u001b[0m\u001b[0;34m\u001b[0m\u001b[0;34m\u001b[0m\u001b[0m\n\u001b[0m\u001b[1;32m     39\u001b[0m         \u001b[0;32mfinally\u001b[0m\u001b[0;34m:\u001b[0m\u001b[0;34m\u001b[0m\u001b[0;34m\u001b[0m\u001b[0m\n\u001b[1;32m     40\u001b[0m             \u001b[0;32mif\u001b[0m \u001b[0martist\u001b[0m\u001b[0;34m.\u001b[0m\u001b[0mget_agg_filter\u001b[0m\u001b[0;34m(\u001b[0m\u001b[0;34m)\u001b[0m \u001b[0;32mis\u001b[0m \u001b[0;32mnot\u001b[0m \u001b[0;32mNone\u001b[0m\u001b[0;34m:\u001b[0m\u001b[0;34m\u001b[0m\u001b[0;34m\u001b[0m\u001b[0m\n",
            "\u001b[0;32m/usr/local/lib/python3.8/dist-packages/matplotlib/text.py\u001b[0m in \u001b[0;36mdraw\u001b[0;34m(self, renderer)\u001b[0m\n\u001b[1;32m    683\u001b[0m \u001b[0;34m\u001b[0m\u001b[0m\n\u001b[1;32m    684\u001b[0m         \u001b[0;32mwith\u001b[0m \u001b[0m_wrap_text\u001b[0m\u001b[0;34m(\u001b[0m\u001b[0mself\u001b[0m\u001b[0;34m)\u001b[0m \u001b[0;32mas\u001b[0m \u001b[0mtextobj\u001b[0m\u001b[0;34m:\u001b[0m\u001b[0;34m\u001b[0m\u001b[0;34m\u001b[0m\u001b[0m\n\u001b[0;32m--> 685\u001b[0;31m             \u001b[0mbbox\u001b[0m\u001b[0;34m,\u001b[0m \u001b[0minfo\u001b[0m\u001b[0;34m,\u001b[0m \u001b[0mdescent\u001b[0m \u001b[0;34m=\u001b[0m \u001b[0mtextobj\u001b[0m\u001b[0;34m.\u001b[0m\u001b[0m_get_layout\u001b[0m\u001b[0;34m(\u001b[0m\u001b[0mrenderer\u001b[0m\u001b[0;34m)\u001b[0m\u001b[0;34m\u001b[0m\u001b[0;34m\u001b[0m\u001b[0m\n\u001b[0m\u001b[1;32m    686\u001b[0m             \u001b[0mtrans\u001b[0m \u001b[0;34m=\u001b[0m \u001b[0mtextobj\u001b[0m\u001b[0;34m.\u001b[0m\u001b[0mget_transform\u001b[0m\u001b[0;34m(\u001b[0m\u001b[0;34m)\u001b[0m\u001b[0;34m\u001b[0m\u001b[0;34m\u001b[0m\u001b[0m\n\u001b[1;32m    687\u001b[0m \u001b[0;34m\u001b[0m\u001b[0m\n",
            "\u001b[0;32m/usr/local/lib/python3.8/dist-packages/matplotlib/text.py\u001b[0m in \u001b[0;36m_get_layout\u001b[0;34m(self, renderer)\u001b[0m\n\u001b[1;32m    338\u001b[0m \u001b[0;34m\u001b[0m\u001b[0m\n\u001b[1;32m    339\u001b[0m         \u001b[0;31m# get the rotation matrix\u001b[0m\u001b[0;34m\u001b[0m\u001b[0;34m\u001b[0m\u001b[0;34m\u001b[0m\u001b[0m\n\u001b[0;32m--> 340\u001b[0;31m         \u001b[0mM\u001b[0m \u001b[0;34m=\u001b[0m \u001b[0mAffine2D\u001b[0m\u001b[0;34m(\u001b[0m\u001b[0;34m)\u001b[0m\u001b[0;34m.\u001b[0m\u001b[0mrotate_deg\u001b[0m\u001b[0;34m(\u001b[0m\u001b[0mself\u001b[0m\u001b[0;34m.\u001b[0m\u001b[0mget_rotation\u001b[0m\u001b[0;34m(\u001b[0m\u001b[0;34m)\u001b[0m\u001b[0;34m)\u001b[0m\u001b[0;34m\u001b[0m\u001b[0;34m\u001b[0m\u001b[0m\n\u001b[0m\u001b[1;32m    341\u001b[0m \u001b[0;34m\u001b[0m\u001b[0m\n\u001b[1;32m    342\u001b[0m         \u001b[0;31m# now offset the individual text lines within the box\u001b[0m\u001b[0;34m\u001b[0m\u001b[0;34m\u001b[0m\u001b[0;34m\u001b[0m\u001b[0m\n",
            "\u001b[0;32m/usr/local/lib/python3.8/dist-packages/matplotlib/transforms.py\u001b[0m in \u001b[0;36mrotate_deg\u001b[0;34m(self, degrees)\u001b[0m\n\u001b[1;32m   1946\u001b[0m         \u001b[0;32mand\u001b[0m \u001b[0;34m:\u001b[0m\u001b[0mmeth\u001b[0m\u001b[0;34m:\u001b[0m\u001b[0;31m`\u001b[0m\u001b[0mscale\u001b[0m\u001b[0;31m`\u001b[0m\u001b[0;34m.\u001b[0m\u001b[0;34m\u001b[0m\u001b[0;34m\u001b[0m\u001b[0m\n\u001b[1;32m   1947\u001b[0m         \"\"\"\n\u001b[0;32m-> 1948\u001b[0;31m         \u001b[0;32mreturn\u001b[0m \u001b[0mself\u001b[0m\u001b[0;34m.\u001b[0m\u001b[0mrotate\u001b[0m\u001b[0;34m(\u001b[0m\u001b[0mnp\u001b[0m\u001b[0;34m.\u001b[0m\u001b[0mdeg2rad\u001b[0m\u001b[0;34m(\u001b[0m\u001b[0mdegrees\u001b[0m\u001b[0;34m)\u001b[0m\u001b[0;34m)\u001b[0m\u001b[0;34m\u001b[0m\u001b[0;34m\u001b[0m\u001b[0m\n\u001b[0m\u001b[1;32m   1949\u001b[0m \u001b[0;34m\u001b[0m\u001b[0m\n\u001b[1;32m   1950\u001b[0m     \u001b[0;32mdef\u001b[0m \u001b[0mrotate_around\u001b[0m\u001b[0;34m(\u001b[0m\u001b[0mself\u001b[0m\u001b[0;34m,\u001b[0m \u001b[0mx\u001b[0m\u001b[0;34m,\u001b[0m \u001b[0my\u001b[0m\u001b[0;34m,\u001b[0m \u001b[0mtheta\u001b[0m\u001b[0;34m)\u001b[0m\u001b[0;34m:\u001b[0m\u001b[0;34m\u001b[0m\u001b[0;34m\u001b[0m\u001b[0m\n",
            "\u001b[0;32m/usr/local/lib/python3.8/dist-packages/matplotlib/transforms.py\u001b[0m in \u001b[0;36mrotate\u001b[0;34m(self, theta)\u001b[0m\n\u001b[1;32m   1934\u001b[0m         rotate_mtx = np.array([[a, -b, 0.0], [b, a, 0.0], [0.0, 0.0, 1.0]],\n\u001b[1;32m   1935\u001b[0m                               float)\n\u001b[0;32m-> 1936\u001b[0;31m         \u001b[0mself\u001b[0m\u001b[0;34m.\u001b[0m\u001b[0m_mtx\u001b[0m \u001b[0;34m=\u001b[0m \u001b[0mnp\u001b[0m\u001b[0;34m.\u001b[0m\u001b[0mdot\u001b[0m\u001b[0;34m(\u001b[0m\u001b[0mrotate_mtx\u001b[0m\u001b[0;34m,\u001b[0m \u001b[0mself\u001b[0m\u001b[0;34m.\u001b[0m\u001b[0m_mtx\u001b[0m\u001b[0;34m)\u001b[0m\u001b[0;34m\u001b[0m\u001b[0;34m\u001b[0m\u001b[0m\n\u001b[0m\u001b[1;32m   1937\u001b[0m         \u001b[0mself\u001b[0m\u001b[0;34m.\u001b[0m\u001b[0minvalidate\u001b[0m\u001b[0;34m(\u001b[0m\u001b[0;34m)\u001b[0m\u001b[0;34m\u001b[0m\u001b[0;34m\u001b[0m\u001b[0m\n\u001b[1;32m   1938\u001b[0m         \u001b[0;32mreturn\u001b[0m \u001b[0mself\u001b[0m\u001b[0;34m\u001b[0m\u001b[0;34m\u001b[0m\u001b[0m\n",
            "\u001b[0;32m<__array_function__ internals>\u001b[0m in \u001b[0;36mdot\u001b[0;34m(*args, **kwargs)\u001b[0m\n",
            "\u001b[0;31mKeyboardInterrupt\u001b[0m: "
          ]
        }
      ],
      "source": [
        "from keras.callbacks import ModelCheckpoint\n",
        "from IPython.display import SVG, display, clear_output\n",
        "\n",
        "start = time.perf_counter()\n",
        "results=pd.DataFrame()\n",
        "modelpath=\"model_current_best.h5\"\n",
        "\n",
        "checkpoint = ModelCheckpoint(modelpath, monitor='val_categorical_accuracy', verbose=1,\n",
        "                             save_best_only=True,\n",
        "                             mode='max') # graba sólo los que mejoran en validación\n",
        "callbacks_list = [checkpoint]\n",
        "for e in range(n_epochs):\n",
        "\n",
        "    history = model.fit(x_train, t_train, \n",
        "                    batch_size = batch_size, \n",
        "                    epochs = 1,\n",
        "                    callbacks=callbacks_list,\n",
        "                    verbose = 1, \n",
        "                    shuffle = True,\n",
        "                    validation_data = (x_dev, t_dev))\n",
        "   \n",
        "    if history.history['val_categorical_accuracy'][-1] > best_val_acc:\n",
        "        print(\"Validation accuracy improved from\",\n",
        "            best_val_acc, 'to', history.history['val_categorical_accuracy'])\n",
        "        print(\"saving weights\")\n",
        "        best_val_acc = history.history['val_categorical_accuracy'][-1]\n",
        "        best_model=history.history\n",
        "        best_time=time.perf_counter() - start\n",
        "    \n",
        "    acum_tr_acc.append(history.history['categorical_accuracy'][0])\n",
        "    acum_val_acc.append(history.history['val_categorical_accuracy'][0])\n",
        "    acum_tr_loss.append(history.history['loss'][0])\n",
        "    acum_val_loss.append(history.history['val_loss'][0])\n",
        "    \n",
        "    if len(acum_tr_acc) > 1:\n",
        "        clear_output()\n",
        "        best_i = np.argmax(acum_val_acc)\n",
        "        grafica_entrenamiento(acum_tr_acc, acum_val_acc, acum_tr_loss, acum_val_loss, best_i)\n",
        "\n",
        "    \n",
        "    results=pd.concat([results,pd.DataFrame(history.history)])\n",
        "    results_temp = pd.DataFrame(history.history)\n",
        "    last_model=history.history\n",
        "    last_time=time.perf_counter() - start"
      ]
    },
    {
      "cell_type": "code",
      "execution_count": null,
      "metadata": {
        "id": "ChJ-Eee6fw4I"
      },
      "outputs": [],
      "source": [
        "results=results.reset_index(drop=True)"
      ]
    },
    {
      "cell_type": "markdown",
      "source": [
        "### Best model"
      ],
      "metadata": {
        "id": "u_1FsQzRgu8E"
      }
    },
    {
      "cell_type": "code",
      "execution_count": null,
      "metadata": {
        "colab": {
          "base_uri": "https://localhost:8080/"
        },
        "id": "mEsz9N7HeGF-",
        "outputId": "766025fd-e88f-4c9e-b10d-72601a8efc3d"
      },
      "outputs": [
        {
          "output_type": "stream",
          "name": "stdout",
          "text": [
            "Time:  80.57097825799974 seconds\n",
            "Training Set Error:  19.68674659729004 %\n",
            "Development Set Test Error:  19.032859802246094 %\n",
            "Bias:  9.686746597290039 %\n",
            "Variance:  -0.6538867950439453 %\n"
          ]
        }
      ],
      "source": [
        "print (\"Time: \", best_time, \"seconds\")\n",
        "\n",
        "human_error = 10\n",
        "train_error = 100 - (best_model['categorical_accuracy'][0] * 100)\n",
        "test_error = 100 - (best_model['val_categorical_accuracy'][0] * 100)\n",
        "\n",
        "print (\"Training Set Error: \", train_error, \"%\")\n",
        "print (\"Development Set Test Error: \", test_error, \"%\")\n",
        "print (\"Bias: \", train_error - human_error, \"%\")\n",
        "print (\"Variance: \", test_error - train_error, \"%\")"
      ]
    },
    {
      "cell_type": "markdown",
      "source": [
        "### Last model"
      ],
      "metadata": {
        "id": "ppL0B_JOgzw7"
      }
    },
    {
      "cell_type": "code",
      "execution_count": null,
      "metadata": {
        "colab": {
          "base_uri": "https://localhost:8080/"
        },
        "outputId": "409e013a-b1ab-4260-d221-ad9f13715bed",
        "id": "DYrRz8bwf75O"
      },
      "outputs": [
        {
          "output_type": "stream",
          "name": "stdout",
          "text": [
            "Time:  323.9777936850005 seconds\n",
            "Training Set Error:  17.732805013656616 %\n",
            "Development Set Test Error:  21.016740798950195 %\n",
            "Bias:  7.732805013656616 %\n",
            "Variance:  3.283935785293579 %\n"
          ]
        }
      ],
      "source": [
        "print (\"Time: \", last_time, \"seconds\")\n",
        "\n",
        "human_error = 10\n",
        "train_error = 100 - (last_model['categorical_accuracy'][0] * 100)\n",
        "test_error = 100 - (last_model['val_categorical_accuracy'][0] * 100)\n",
        "\n",
        "print (\"Training Set Error: \", train_error, \"%\")\n",
        "print (\"Development Set Test Error: \", test_error, \"%\")\n",
        "print (\"Bias: \", train_error - human_error, \"%\")\n",
        "print (\"Variance: \", test_error - train_error, \"%\")"
      ]
    },
    {
      "cell_type": "code",
      "execution_count": null,
      "metadata": {
        "id": "KE9aMUOjFvzu",
        "outputId": "36467355-8e84-4e55-86a7-ee9fd805d203",
        "colab": {
          "base_uri": "https://localhost:8080/",
          "height": 206
        }
      },
      "outputs": [
        {
          "output_type": "execute_result",
          "data": {
            "text/plain": [
              "       loss  categorical_accuracy  val_loss  val_categorical_accuracy\n",
              "0  1.371889              0.341242  1.335614                  0.552387\n",
              "1  1.230315              0.471583  1.009278                  0.526348\n",
              "2  0.931882              0.577421  0.743182                  0.657781\n",
              "3  0.789663              0.642320  0.641336                  0.704898\n",
              "4  0.726393              0.667675  0.594579                  0.735896"
            ],
            "text/html": [
              "\n",
              "  <div id=\"df-26ebba5c-56d1-495b-8651-924e61f758bf\">\n",
              "    <div class=\"colab-df-container\">\n",
              "      <div>\n",
              "<style scoped>\n",
              "    .dataframe tbody tr th:only-of-type {\n",
              "        vertical-align: middle;\n",
              "    }\n",
              "\n",
              "    .dataframe tbody tr th {\n",
              "        vertical-align: top;\n",
              "    }\n",
              "\n",
              "    .dataframe thead th {\n",
              "        text-align: right;\n",
              "    }\n",
              "</style>\n",
              "<table border=\"1\" class=\"dataframe\">\n",
              "  <thead>\n",
              "    <tr style=\"text-align: right;\">\n",
              "      <th></th>\n",
              "      <th>loss</th>\n",
              "      <th>categorical_accuracy</th>\n",
              "      <th>val_loss</th>\n",
              "      <th>val_categorical_accuracy</th>\n",
              "    </tr>\n",
              "  </thead>\n",
              "  <tbody>\n",
              "    <tr>\n",
              "      <th>0</th>\n",
              "      <td>1.371889</td>\n",
              "      <td>0.341242</td>\n",
              "      <td>1.335614</td>\n",
              "      <td>0.552387</td>\n",
              "    </tr>\n",
              "    <tr>\n",
              "      <th>1</th>\n",
              "      <td>1.230315</td>\n",
              "      <td>0.471583</td>\n",
              "      <td>1.009278</td>\n",
              "      <td>0.526348</td>\n",
              "    </tr>\n",
              "    <tr>\n",
              "      <th>2</th>\n",
              "      <td>0.931882</td>\n",
              "      <td>0.577421</td>\n",
              "      <td>0.743182</td>\n",
              "      <td>0.657781</td>\n",
              "    </tr>\n",
              "    <tr>\n",
              "      <th>3</th>\n",
              "      <td>0.789663</td>\n",
              "      <td>0.642320</td>\n",
              "      <td>0.641336</td>\n",
              "      <td>0.704898</td>\n",
              "    </tr>\n",
              "    <tr>\n",
              "      <th>4</th>\n",
              "      <td>0.726393</td>\n",
              "      <td>0.667675</td>\n",
              "      <td>0.594579</td>\n",
              "      <td>0.735896</td>\n",
              "    </tr>\n",
              "  </tbody>\n",
              "</table>\n",
              "</div>\n",
              "      <button class=\"colab-df-convert\" onclick=\"convertToInteractive('df-26ebba5c-56d1-495b-8651-924e61f758bf')\"\n",
              "              title=\"Convert this dataframe to an interactive table.\"\n",
              "              style=\"display:none;\">\n",
              "        \n",
              "  <svg xmlns=\"http://www.w3.org/2000/svg\" height=\"24px\"viewBox=\"0 0 24 24\"\n",
              "       width=\"24px\">\n",
              "    <path d=\"M0 0h24v24H0V0z\" fill=\"none\"/>\n",
              "    <path d=\"M18.56 5.44l.94 2.06.94-2.06 2.06-.94-2.06-.94-.94-2.06-.94 2.06-2.06.94zm-11 1L8.5 8.5l.94-2.06 2.06-.94-2.06-.94L8.5 2.5l-.94 2.06-2.06.94zm10 10l.94 2.06.94-2.06 2.06-.94-2.06-.94-.94-2.06-.94 2.06-2.06.94z\"/><path d=\"M17.41 7.96l-1.37-1.37c-.4-.4-.92-.59-1.43-.59-.52 0-1.04.2-1.43.59L10.3 9.45l-7.72 7.72c-.78.78-.78 2.05 0 2.83L4 21.41c.39.39.9.59 1.41.59.51 0 1.02-.2 1.41-.59l7.78-7.78 2.81-2.81c.8-.78.8-2.07 0-2.86zM5.41 20L4 18.59l7.72-7.72 1.47 1.35L5.41 20z\"/>\n",
              "  </svg>\n",
              "      </button>\n",
              "      \n",
              "  <style>\n",
              "    .colab-df-container {\n",
              "      display:flex;\n",
              "      flex-wrap:wrap;\n",
              "      gap: 12px;\n",
              "    }\n",
              "\n",
              "    .colab-df-convert {\n",
              "      background-color: #E8F0FE;\n",
              "      border: none;\n",
              "      border-radius: 50%;\n",
              "      cursor: pointer;\n",
              "      display: none;\n",
              "      fill: #1967D2;\n",
              "      height: 32px;\n",
              "      padding: 0 0 0 0;\n",
              "      width: 32px;\n",
              "    }\n",
              "\n",
              "    .colab-df-convert:hover {\n",
              "      background-color: #E2EBFA;\n",
              "      box-shadow: 0px 1px 2px rgba(60, 64, 67, 0.3), 0px 1px 3px 1px rgba(60, 64, 67, 0.15);\n",
              "      fill: #174EA6;\n",
              "    }\n",
              "\n",
              "    [theme=dark] .colab-df-convert {\n",
              "      background-color: #3B4455;\n",
              "      fill: #D2E3FC;\n",
              "    }\n",
              "\n",
              "    [theme=dark] .colab-df-convert:hover {\n",
              "      background-color: #434B5C;\n",
              "      box-shadow: 0px 1px 3px 1px rgba(0, 0, 0, 0.15);\n",
              "      filter: drop-shadow(0px 1px 2px rgba(0, 0, 0, 0.3));\n",
              "      fill: #FFFFFF;\n",
              "    }\n",
              "  </style>\n",
              "\n",
              "      <script>\n",
              "        const buttonEl =\n",
              "          document.querySelector('#df-26ebba5c-56d1-495b-8651-924e61f758bf button.colab-df-convert');\n",
              "        buttonEl.style.display =\n",
              "          google.colab.kernel.accessAllowed ? 'block' : 'none';\n",
              "\n",
              "        async function convertToInteractive(key) {\n",
              "          const element = document.querySelector('#df-26ebba5c-56d1-495b-8651-924e61f758bf');\n",
              "          const dataTable =\n",
              "            await google.colab.kernel.invokeFunction('convertToInteractive',\n",
              "                                                     [key], {});\n",
              "          if (!dataTable) return;\n",
              "\n",
              "          const docLinkHtml = 'Like what you see? Visit the ' +\n",
              "            '<a target=\"_blank\" href=https://colab.research.google.com/notebooks/data_table.ipynb>data table notebook</a>'\n",
              "            + ' to learn more about interactive tables.';\n",
              "          element.innerHTML = '';\n",
              "          dataTable['output_type'] = 'display_data';\n",
              "          await google.colab.output.renderOutput(dataTable, element);\n",
              "          const docLink = document.createElement('div');\n",
              "          docLink.innerHTML = docLinkHtml;\n",
              "          element.appendChild(docLink);\n",
              "        }\n",
              "      </script>\n",
              "    </div>\n",
              "  </div>\n",
              "  "
            ]
          },
          "metadata": {},
          "execution_count": 250
        }
      ],
      "source": [
        "results.head()"
      ]
    },
    {
      "cell_type": "code",
      "execution_count": null,
      "metadata": {
        "colab": {
          "base_uri": "https://localhost:8080/",
          "height": 338
        },
        "id": "pinNhY1Cf0Tb",
        "outputId": "08f2a5bf-0dc9-4355-c47a-3e7fbf389adf"
      },
      "outputs": [
        {
          "output_type": "display_data",
          "data": {
            "text/plain": [
              "<Figure size 576x360 with 1 Axes>"
            ],
            "image/png": "[encoded data removed]"
          },
          "metadata": {
            "needs_background": "light"
          }
        }
      ],
      "source": [
        "results.plot(figsize = (8, 5))\n",
        "plt.grid(True)\n",
        "plt.xlabel (\"Epochs\")\n",
        "plt.ylabel (\"Accuracy - Mean Log Loss\")\n",
        "plt.gca().set_ylim(0, 1)\n",
        "plt.show()"
      ]
    },
    {
      "cell_type": "markdown",
      "source": [
        "### Best model"
      ],
      "metadata": {
        "id": "hUj7eyEnkX1N"
      }
    },
    {
      "cell_type": "code",
      "execution_count": null,
      "metadata": {
        "id": "e4VwKnPwFvzt"
      },
      "outputs": [],
      "source": [
        "from keras.models import load_model\n",
        "best_model = load_model(modelpath)"
      ]
    },
    {
      "cell_type": "code",
      "execution_count": null,
      "metadata": {
        "colab": {
          "base_uri": "https://localhost:8080/"
        },
        "id": "UuXsm8acA93F",
        "outputId": "f19c2172-d78a-40eb-e4e0-4d1f222cdb8d"
      },
      "outputs": [
        {
          "output_type": "stream",
          "name": "stdout",
          "text": [
            "51/51 [==============================] - 0s 2ms/step\n"
          ]
        },
        {
          "output_type": "execute_result",
          "data": {
            "text/plain": [
              "array([[0.  , 0.  , 0.27, 0.73],\n",
              "       [0.01, 0.9 , 0.09, 0.  ],\n",
              "       [0.03, 0.95, 0.03, 0.  ],\n",
              "       [0.31, 0.65, 0.05, 0.  ],\n",
              "       [0.21, 0.72, 0.07, 0.  ],\n",
              "       [0.  , 0.  , 0.  , 1.  ],\n",
              "       [0.92, 0.08, 0.  , 0.  ],\n",
              "       [0.93, 0.07, 0.  , 0.  ],\n",
              "       [0.  , 0.  , 0.02, 0.98],\n",
              "       [0.3 , 0.7 , 0.01, 0.  ],\n",
              "       [0.02, 0.91, 0.08, 0.  ],\n",
              "       [0.99, 0.01, 0.  , 0.  ],\n",
              "       [0.  , 0.53, 0.47, 0.  ],\n",
              "       [0.  , 0.  , 0.68, 0.32],\n",
              "       [0.15, 0.83, 0.02, 0.  ],\n",
              "       [0.04, 0.91, 0.05, 0.  ],\n",
              "       [0.  , 0.  , 0.03, 0.97],\n",
              "       [0.  , 0.  , 0.54, 0.46],\n",
              "       [0.  , 0.  , 0.19, 0.81],\n",
              "       [1.  , 0.  , 0.  , 0.  ]], dtype=float32)"
            ]
          },
          "metadata": {},
          "execution_count": 265
        }
      ],
      "source": [
        "dev_predictions=best_model.predict(x_dev).round(2)\n",
        "dev_predictions[:20]"
      ]
    },
    {
      "cell_type": "code",
      "execution_count": null,
      "metadata": {
        "colab": {
          "base_uri": "https://localhost:8080/"
        },
        "id": "TXx_47NaA97W",
        "outputId": "b1cd763d-115d-44a2-e891-b8b56444415c"
      },
      "outputs": [
        {
          "output_type": "execute_result",
          "data": {
            "text/plain": [
              "array([[0., 0., 0., 1.],\n",
              "       [0., 1., 0., 0.],\n",
              "       [0., 1., 0., 0.],\n",
              "       [0., 1., 0., 0.],\n",
              "       [0., 1., 0., 0.],\n",
              "       [0., 0., 0., 1.],\n",
              "       [1., 0., 0., 0.],\n",
              "       [1., 0., 0., 0.],\n",
              "       [0., 0., 0., 1.],\n",
              "       [0., 1., 0., 0.],\n",
              "       [0., 1., 0., 0.],\n",
              "       [1., 0., 0., 0.],\n",
              "       [0., 1., 0., 0.],\n",
              "       [0., 0., 1., 0.],\n",
              "       [0., 1., 0., 0.],\n",
              "       [0., 1., 0., 0.],\n",
              "       [0., 0., 0., 1.],\n",
              "       [0., 0., 1., 0.],\n",
              "       [0., 0., 0., 1.],\n",
              "       [1., 0., 0., 0.]], dtype=float32)"
            ]
          },
          "metadata": {},
          "execution_count": 266
        }
      ],
      "source": [
        "dev_rounded_predictions=np.round(dev_predictions)\n",
        "indices = np.argmax(dev_predictions,1)\n",
        "for row, index in zip(dev_rounded_predictions, indices): row[index]=1\n",
        "dev_rounded_predictions[:20]"
      ]
    },
    {
      "cell_type": "code",
      "execution_count": null,
      "metadata": {
        "colab": {
          "base_uri": "https://localhost:8080/",
          "height": 676
        },
        "id": "WT618l0cBNjw",
        "outputId": "bebcf104-d4e4-4489-de72-9c002ab139e5"
      },
      "outputs": [
        {
          "output_type": "execute_result",
          "data": {
            "text/plain": [
              "       Poor:[46.0, 62.0]  Interm:[63.0, 66.0]  Good:[67.0, 71.0]  \\\n",
              "5703                 0.0                  0.0                0.0   \n",
              "12414                0.0                  0.0                1.0   \n",
              "8634                 0.0                  1.0                0.0   \n",
              "9379                 0.0                  1.0                0.0   \n",
              "10159                0.0                  1.0                0.0   \n",
              "6673                 0.0                  0.0                0.0   \n",
              "8069                 1.0                  0.0                0.0   \n",
              "7964                 0.0                  1.0                0.0   \n",
              "4867                 0.0                  0.0                0.0   \n",
              "1997                 0.0                  1.0                0.0   \n",
              "6093                 0.0                  1.0                0.0   \n",
              "14504                1.0                  0.0                0.0   \n",
              "14379                0.0                  1.0                0.0   \n",
              "14416                0.0                  0.0                1.0   \n",
              "5495                 0.0                  1.0                0.0   \n",
              "702                  0.0                  1.0                0.0   \n",
              "7985                 0.0                  0.0                0.0   \n",
              "13356                0.0                  0.0                1.0   \n",
              "3027                 0.0                  0.0                0.0   \n",
              "8190                 1.0                  0.0                0.0   \n",
              "\n",
              "       Excel:[72.0, 94.0]  \n",
              "5703                  1.0  \n",
              "12414                 0.0  \n",
              "8634                  0.0  \n",
              "9379                  0.0  \n",
              "10159                 0.0  \n",
              "6673                  1.0  \n",
              "8069                  0.0  \n",
              "7964                  0.0  \n",
              "4867                  1.0  \n",
              "1997                  0.0  \n",
              "6093                  0.0  \n",
              "14504                 0.0  \n",
              "14379                 0.0  \n",
              "14416                 0.0  \n",
              "5495                  0.0  \n",
              "702                   0.0  \n",
              "7985                  1.0  \n",
              "13356                 0.0  \n",
              "3027                  1.0  \n",
              "8190                  0.0  "
            ],
            "text/html": [
              "\n",
              "  <div id=\"df-2c82e530-7d08-4674-94e0-65e5232f2de0\">\n",
              "    <div class=\"colab-df-container\">\n",
              "      <div>\n",
              "<style scoped>\n",
              "    .dataframe tbody tr th:only-of-type {\n",
              "        vertical-align: middle;\n",
              "    }\n",
              "\n",
              "    .dataframe tbody tr th {\n",
              "        vertical-align: top;\n",
              "    }\n",
              "\n",
              "    .dataframe thead th {\n",
              "        text-align: right;\n",
              "    }\n",
              "</style>\n",
              "<table border=\"1\" class=\"dataframe\">\n",
              "  <thead>\n",
              "    <tr style=\"text-align: right;\">\n",
              "      <th></th>\n",
              "      <th>Poor:[46.0, 62.0]</th>\n",
              "      <th>Interm:[63.0, 66.0]</th>\n",
              "      <th>Good:[67.0, 71.0]</th>\n",
              "      <th>Excel:[72.0, 94.0]</th>\n",
              "    </tr>\n",
              "  </thead>\n",
              "  <tbody>\n",
              "    <tr>\n",
              "      <th>5703</th>\n",
              "      <td>0.0</td>\n",
              "      <td>0.0</td>\n",
              "      <td>0.0</td>\n",
              "      <td>1.0</td>\n",
              "    </tr>\n",
              "    <tr>\n",
              "      <th>12414</th>\n",
              "      <td>0.0</td>\n",
              "      <td>0.0</td>\n",
              "      <td>1.0</td>\n",
              "      <td>0.0</td>\n",
              "    </tr>\n",
              "    <tr>\n",
              "      <th>8634</th>\n",
              "      <td>0.0</td>\n",
              "      <td>1.0</td>\n",
              "      <td>0.0</td>\n",
              "      <td>0.0</td>\n",
              "    </tr>\n",
              "    <tr>\n",
              "      <th>9379</th>\n",
              "      <td>0.0</td>\n",
              "      <td>1.0</td>\n",
              "      <td>0.0</td>\n",
              "      <td>0.0</td>\n",
              "    </tr>\n",
              "    <tr>\n",
              "      <th>10159</th>\n",
              "      <td>0.0</td>\n",
              "      <td>1.0</td>\n",
              "      <td>0.0</td>\n",
              "      <td>0.0</td>\n",
              "    </tr>\n",
              "    <tr>\n",
              "      <th>6673</th>\n",
              "      <td>0.0</td>\n",
              "      <td>0.0</td>\n",
              "      <td>0.0</td>\n",
              "      <td>1.0</td>\n",
              "    </tr>\n",
              "    <tr>\n",
              "      <th>8069</th>\n",
              "      <td>1.0</td>\n",
              "      <td>0.0</td>\n",
              "      <td>0.0</td>\n",
              "      <td>0.0</td>\n",
              "    </tr>\n",
              "    <tr>\n",
              "      <th>7964</th>\n",
              "      <td>0.0</td>\n",
              "      <td>1.0</td>\n",
              "      <td>0.0</td>\n",
              "      <td>0.0</td>\n",
              "    </tr>\n",
              "    <tr>\n",
              "      <th>4867</th>\n",
              "      <td>0.0</td>\n",
              "      <td>0.0</td>\n",
              "      <td>0.0</td>\n",
              "      <td>1.0</td>\n",
              "    </tr>\n",
              "    <tr>\n",
              "      <th>1997</th>\n",
              "      <td>0.0</td>\n",
              "      <td>1.0</td>\n",
              "      <td>0.0</td>\n",
              "      <td>0.0</td>\n",
              "    </tr>\n",
              "    <tr>\n",
              "      <th>6093</th>\n",
              "      <td>0.0</td>\n",
              "      <td>1.0</td>\n",
              "      <td>0.0</td>\n",
              "      <td>0.0</td>\n",
              "    </tr>\n",
              "    <tr>\n",
              "      <th>14504</th>\n",
              "      <td>1.0</td>\n",
              "      <td>0.0</td>\n",
              "      <td>0.0</td>\n",
              "      <td>0.0</td>\n",
              "    </tr>\n",
              "    <tr>\n",
              "      <th>14379</th>\n",
              "      <td>0.0</td>\n",
              "      <td>1.0</td>\n",
              "      <td>0.0</td>\n",
              "      <td>0.0</td>\n",
              "    </tr>\n",
              "    <tr>\n",
              "      <th>14416</th>\n",
              "      <td>0.0</td>\n",
              "      <td>0.0</td>\n",
              "      <td>1.0</td>\n",
              "      <td>0.0</td>\n",
              "    </tr>\n",
              "    <tr>\n",
              "      <th>5495</th>\n",
              "      <td>0.0</td>\n",
              "      <td>1.0</td>\n",
              "      <td>0.0</td>\n",
              "      <td>0.0</td>\n",
              "    </tr>\n",
              "    <tr>\n",
              "      <th>702</th>\n",
              "      <td>0.0</td>\n",
              "      <td>1.0</td>\n",
              "      <td>0.0</td>\n",
              "      <td>0.0</td>\n",
              "    </tr>\n",
              "    <tr>\n",
              "      <th>7985</th>\n",
              "      <td>0.0</td>\n",
              "      <td>0.0</td>\n",
              "      <td>0.0</td>\n",
              "      <td>1.0</td>\n",
              "    </tr>\n",
              "    <tr>\n",
              "      <th>13356</th>\n",
              "      <td>0.0</td>\n",
              "      <td>0.0</td>\n",
              "      <td>1.0</td>\n",
              "      <td>0.0</td>\n",
              "    </tr>\n",
              "    <tr>\n",
              "      <th>3027</th>\n",
              "      <td>0.0</td>\n",
              "      <td>0.0</td>\n",
              "      <td>0.0</td>\n",
              "      <td>1.0</td>\n",
              "    </tr>\n",
              "    <tr>\n",
              "      <th>8190</th>\n",
              "      <td>1.0</td>\n",
              "      <td>0.0</td>\n",
              "      <td>0.0</td>\n",
              "      <td>0.0</td>\n",
              "    </tr>\n",
              "  </tbody>\n",
              "</table>\n",
              "</div>\n",
              "      <button class=\"colab-df-convert\" onclick=\"convertToInteractive('df-2c82e530-7d08-4674-94e0-65e5232f2de0')\"\n",
              "              title=\"Convert this dataframe to an interactive table.\"\n",
              "              style=\"display:none;\">\n",
              "        \n",
              "  <svg xmlns=\"http://www.w3.org/2000/svg\" height=\"24px\"viewBox=\"0 0 24 24\"\n",
              "       width=\"24px\">\n",
              "    <path d=\"M0 0h24v24H0V0z\" fill=\"none\"/>\n",
              "    <path d=\"M18.56 5.44l.94 2.06.94-2.06 2.06-.94-2.06-.94-.94-2.06-.94 2.06-2.06.94zm-11 1L8.5 8.5l.94-2.06 2.06-.94-2.06-.94L8.5 2.5l-.94 2.06-2.06.94zm10 10l.94 2.06.94-2.06 2.06-.94-2.06-.94-.94-2.06-.94 2.06-2.06.94z\"/><path d=\"M17.41 7.96l-1.37-1.37c-.4-.4-.92-.59-1.43-.59-.52 0-1.04.2-1.43.59L10.3 9.45l-7.72 7.72c-.78.78-.78 2.05 0 2.83L4 21.41c.39.39.9.59 1.41.59.51 0 1.02-.2 1.41-.59l7.78-7.78 2.81-2.81c.8-.78.8-2.07 0-2.86zM5.41 20L4 18.59l7.72-7.72 1.47 1.35L5.41 20z\"/>\n",
              "  </svg>\n",
              "      </button>\n",
              "      \n",
              "  <style>\n",
              "    .colab-df-container {\n",
              "      display:flex;\n",
              "      flex-wrap:wrap;\n",
              "      gap: 12px;\n",
              "    }\n",
              "\n",
              "    .colab-df-convert {\n",
              "      background-color: #E8F0FE;\n",
              "      border: none;\n",
              "      border-radius: 50%;\n",
              "      cursor: pointer;\n",
              "      display: none;\n",
              "      fill: #1967D2;\n",
              "      height: 32px;\n",
              "      padding: 0 0 0 0;\n",
              "      width: 32px;\n",
              "    }\n",
              "\n",
              "    .colab-df-convert:hover {\n",
              "      background-color: #E2EBFA;\n",
              "      box-shadow: 0px 1px 2px rgba(60, 64, 67, 0.3), 0px 1px 3px 1px rgba(60, 64, 67, 0.15);\n",
              "      fill: #174EA6;\n",
              "    }\n",
              "\n",
              "    [theme=dark] .colab-df-convert {\n",
              "      background-color: #3B4455;\n",
              "      fill: #D2E3FC;\n",
              "    }\n",
              "\n",
              "    [theme=dark] .colab-df-convert:hover {\n",
              "      background-color: #434B5C;\n",
              "      box-shadow: 0px 1px 3px 1px rgba(0, 0, 0, 0.15);\n",
              "      filter: drop-shadow(0px 1px 2px rgba(0, 0, 0, 0.3));\n",
              "      fill: #FFFFFF;\n",
              "    }\n",
              "  </style>\n",
              "\n",
              "      <script>\n",
              "        const buttonEl =\n",
              "          document.querySelector('#df-2c82e530-7d08-4674-94e0-65e5232f2de0 button.colab-df-convert');\n",
              "        buttonEl.style.display =\n",
              "          google.colab.kernel.accessAllowed ? 'block' : 'none';\n",
              "\n",
              "        async function convertToInteractive(key) {\n",
              "          const element = document.querySelector('#df-2c82e530-7d08-4674-94e0-65e5232f2de0');\n",
              "          const dataTable =\n",
              "            await google.colab.kernel.invokeFunction('convertToInteractive',\n",
              "                                                     [key], {});\n",
              "          if (!dataTable) return;\n",
              "\n",
              "          const docLinkHtml = 'Like what you see? Visit the ' +\n",
              "            '<a target=\"_blank\" href=https://colab.research.google.com/notebooks/data_table.ipynb>data table notebook</a>'\n",
              "            + ' to learn more about interactive tables.';\n",
              "          element.innerHTML = '';\n",
              "          dataTable['output_type'] = 'display_data';\n",
              "          await google.colab.output.renderOutput(dataTable, element);\n",
              "          const docLink = document.createElement('div');\n",
              "          docLink.innerHTML = docLinkHtml;\n",
              "          element.appendChild(docLink);\n",
              "        }\n",
              "      </script>\n",
              "    </div>\n",
              "  </div>\n",
              "  "
            ]
          },
          "metadata": {},
          "execution_count": 267
        }
      ],
      "source": [
        "t_dev[:20] #target classes"
      ]
    },
    {
      "cell_type": "code",
      "execution_count": null,
      "metadata": {
        "colab": {
          "base_uri": "https://localhost:8080/"
        },
        "id": "QsEkALnZBTOf",
        "outputId": "75278f13-f151-44d7-d444-c34539558fa5"
      },
      "outputs": [
        {
          "output_type": "stream",
          "name": "stdout",
          "text": [
            "[ True False  True  True  True  True  True False  True  True  True  True\n",
            "  True  True  True  True  True  True  True  True  True  True  True  True\n",
            " False False False  True  True  True]\n"
          ]
        }
      ],
      "source": [
        "dev_correct_predictions = np.equal(np.argmax(dev_rounded_predictions,1),np.argmax(np.array(t_dev),1))\n",
        "print (dev_correct_predictions[:30])"
      ]
    },
    {
      "cell_type": "code",
      "execution_count": null,
      "metadata": {
        "colab": {
          "base_uri": "https://localhost:8080/"
        },
        "id": "XJ4L_Tw8BXpd",
        "outputId": "f1a35e3e-1ea8-43a9-9536-795540b5aa77"
      },
      "outputs": [
        {
          "output_type": "execute_result",
          "data": {
            "text/plain": [
              "Counter({True: 1309, False: 304})"
            ]
          },
          "metadata": {},
          "execution_count": 269
        }
      ],
      "source": [
        "from collections import Counter\n",
        "Counter (dev_correct_predictions)"
      ]
    },
    {
      "cell_type": "markdown",
      "source": [
        "### Last model"
      ],
      "metadata": {
        "id": "3FIOczv7kk_J"
      }
    },
    {
      "cell_type": "code",
      "execution_count": null,
      "metadata": {
        "colab": {
          "base_uri": "https://localhost:8080/"
        },
        "outputId": "afe5edf9-6de6-426e-dccf-38b91cfa644a",
        "id": "F5bOxwnwklQr"
      },
      "outputs": [
        {
          "output_type": "stream",
          "name": "stdout",
          "text": [
            "51/51 [==============================] - 0s 2ms/step\n"
          ]
        },
        {
          "output_type": "execute_result",
          "data": {
            "text/plain": [
              "array([[0.  , 0.  , 0.4 , 0.6 ],\n",
              "       [0.01, 0.81, 0.18, 0.  ],\n",
              "       [0.02, 0.91, 0.07, 0.  ],\n",
              "       [0.21, 0.69, 0.1 , 0.  ],\n",
              "       [0.12, 0.74, 0.14, 0.  ],\n",
              "       [0.  , 0.  , 0.  , 1.  ],\n",
              "       [0.82, 0.18, 0.  , 0.  ],\n",
              "       [0.83, 0.17, 0.  , 0.  ],\n",
              "       [0.  , 0.  , 0.07, 0.93],\n",
              "       [0.13, 0.84, 0.04, 0.  ],\n",
              "       [0.01, 0.82, 0.17, 0.  ],\n",
              "       [0.97, 0.03, 0.  , 0.  ],\n",
              "       [0.  , 0.5 , 0.49, 0.  ],\n",
              "       [0.  , 0.  , 0.75, 0.25],\n",
              "       [0.08, 0.87, 0.05, 0.  ],\n",
              "       [0.02, 0.81, 0.17, 0.  ],\n",
              "       [0.  , 0.  , 0.08, 0.92],\n",
              "       [0.  , 0.  , 0.61, 0.39],\n",
              "       [0.  , 0.  , 0.37, 0.63],\n",
              "       [1.  , 0.  , 0.  , 0.  ]], dtype=float32)"
            ]
          },
          "metadata": {},
          "execution_count": 270
        }
      ],
      "source": [
        "dev_predictions=model.predict(x_dev).round(2)\n",
        "dev_predictions[:20]"
      ]
    },
    {
      "cell_type": "code",
      "execution_count": null,
      "metadata": {
        "colab": {
          "base_uri": "https://localhost:8080/"
        },
        "outputId": "7435473f-3a2f-4d77-ddec-a7fc0cc84eb3",
        "id": "EiiHYx0EklQr"
      },
      "outputs": [
        {
          "output_type": "execute_result",
          "data": {
            "text/plain": [
              "array([[0., 0., 0., 1.],\n",
              "       [0., 1., 0., 0.],\n",
              "       [0., 1., 0., 0.],\n",
              "       [0., 1., 0., 0.],\n",
              "       [0., 1., 0., 0.],\n",
              "       [0., 0., 0., 1.],\n",
              "       [1., 0., 0., 0.],\n",
              "       [1., 0., 0., 0.],\n",
              "       [0., 0., 0., 1.],\n",
              "       [0., 1., 0., 0.],\n",
              "       [0., 1., 0., 0.],\n",
              "       [1., 0., 0., 0.],\n",
              "       [0., 1., 0., 0.],\n",
              "       [0., 0., 1., 0.],\n",
              "       [0., 1., 0., 0.],\n",
              "       [0., 1., 0., 0.],\n",
              "       [0., 0., 0., 1.],\n",
              "       [0., 0., 1., 0.],\n",
              "       [0., 0., 0., 1.],\n",
              "       [1., 0., 0., 0.]], dtype=float32)"
            ]
          },
          "metadata": {},
          "execution_count": 271
        }
      ],
      "source": [
        "dev_rounded_predictions=np.round(dev_predictions)\n",
        "indices = np.argmax(dev_predictions,1)\n",
        "for row, index in zip(dev_rounded_predictions, indices): row[index]=1\n",
        "dev_rounded_predictions[:20]"
      ]
    },
    {
      "cell_type": "code",
      "execution_count": null,
      "metadata": {
        "colab": {
          "base_uri": "https://localhost:8080/",
          "height": 676
        },
        "outputId": "825d3b78-5a4f-4b4f-d172-0480a043c830",
        "id": "Zq3xL8yXklQr"
      },
      "outputs": [
        {
          "output_type": "execute_result",
          "data": {
            "text/plain": [
              "       Poor:[46.0, 62.0]  Interm:[63.0, 66.0]  Good:[67.0, 71.0]  \\\n",
              "5703                 0.0                  0.0                0.0   \n",
              "12414                0.0                  0.0                1.0   \n",
              "8634                 0.0                  1.0                0.0   \n",
              "9379                 0.0                  1.0                0.0   \n",
              "10159                0.0                  1.0                0.0   \n",
              "6673                 0.0                  0.0                0.0   \n",
              "8069                 1.0                  0.0                0.0   \n",
              "7964                 0.0                  1.0                0.0   \n",
              "4867                 0.0                  0.0                0.0   \n",
              "1997                 0.0                  1.0                0.0   \n",
              "6093                 0.0                  1.0                0.0   \n",
              "14504                1.0                  0.0                0.0   \n",
              "14379                0.0                  1.0                0.0   \n",
              "14416                0.0                  0.0                1.0   \n",
              "5495                 0.0                  1.0                0.0   \n",
              "702                  0.0                  1.0                0.0   \n",
              "7985                 0.0                  0.0                0.0   \n",
              "13356                0.0                  0.0                1.0   \n",
              "3027                 0.0                  0.0                0.0   \n",
              "8190                 1.0                  0.0                0.0   \n",
              "\n",
              "       Excel:[72.0, 94.0]  \n",
              "5703                  1.0  \n",
              "12414                 0.0  \n",
              "8634                  0.0  \n",
              "9379                  0.0  \n",
              "10159                 0.0  \n",
              "6673                  1.0  \n",
              "8069                  0.0  \n",
              "7964                  0.0  \n",
              "4867                  1.0  \n",
              "1997                  0.0  \n",
              "6093                  0.0  \n",
              "14504                 0.0  \n",
              "14379                 0.0  \n",
              "14416                 0.0  \n",
              "5495                  0.0  \n",
              "702                   0.0  \n",
              "7985                  1.0  \n",
              "13356                 0.0  \n",
              "3027                  1.0  \n",
              "8190                  0.0  "
            ],
            "text/html": [
              "\n",
              "  <div id=\"df-d164fb12-fb46-4c08-bbfd-a83d4ad13bfe\">\n",
              "    <div class=\"colab-df-container\">\n",
              "      <div>\n",
              "<style scoped>\n",
              "    .dataframe tbody tr th:only-of-type {\n",
              "        vertical-align: middle;\n",
              "    }\n",
              "\n",
              "    .dataframe tbody tr th {\n",
              "        vertical-align: top;\n",
              "    }\n",
              "\n",
              "    .dataframe thead th {\n",
              "        text-align: right;\n",
              "    }\n",
              "</style>\n",
              "<table border=\"1\" class=\"dataframe\">\n",
              "  <thead>\n",
              "    <tr style=\"text-align: right;\">\n",
              "      <th></th>\n",
              "      <th>Poor:[46.0, 62.0]</th>\n",
              "      <th>Interm:[63.0, 66.0]</th>\n",
              "      <th>Good:[67.0, 71.0]</th>\n",
              "      <th>Excel:[72.0, 94.0]</th>\n",
              "    </tr>\n",
              "  </thead>\n",
              "  <tbody>\n",
              "    <tr>\n",
              "      <th>5703</th>\n",
              "      <td>0.0</td>\n",
              "      <td>0.0</td>\n",
              "      <td>0.0</td>\n",
              "      <td>1.0</td>\n",
              "    </tr>\n",
              "    <tr>\n",
              "      <th>12414</th>\n",
              "      <td>0.0</td>\n",
              "      <td>0.0</td>\n",
              "      <td>1.0</td>\n",
              "      <td>0.0</td>\n",
              "    </tr>\n",
              "    <tr>\n",
              "      <th>8634</th>\n",
              "      <td>0.0</td>\n",
              "      <td>1.0</td>\n",
              "      <td>0.0</td>\n",
              "      <td>0.0</td>\n",
              "    </tr>\n",
              "    <tr>\n",
              "      <th>9379</th>\n",
              "      <td>0.0</td>\n",
              "      <td>1.0</td>\n",
              "      <td>0.0</td>\n",
              "      <td>0.0</td>\n",
              "    </tr>\n",
              "    <tr>\n",
              "      <th>10159</th>\n",
              "      <td>0.0</td>\n",
              "      <td>1.0</td>\n",
              "      <td>0.0</td>\n",
              "      <td>0.0</td>\n",
              "    </tr>\n",
              "    <tr>\n",
              "      <th>6673</th>\n",
              "      <td>0.0</td>\n",
              "      <td>0.0</td>\n",
              "      <td>0.0</td>\n",
              "      <td>1.0</td>\n",
              "    </tr>\n",
              "    <tr>\n",
              "      <th>8069</th>\n",
              "      <td>1.0</td>\n",
              "      <td>0.0</td>\n",
              "      <td>0.0</td>\n",
              "      <td>0.0</td>\n",
              "    </tr>\n",
              "    <tr>\n",
              "      <th>7964</th>\n",
              "      <td>0.0</td>\n",
              "      <td>1.0</td>\n",
              "      <td>0.0</td>\n",
              "      <td>0.0</td>\n",
              "    </tr>\n",
              "    <tr>\n",
              "      <th>4867</th>\n",
              "      <td>0.0</td>\n",
              "      <td>0.0</td>\n",
              "      <td>0.0</td>\n",
              "      <td>1.0</td>\n",
              "    </tr>\n",
              "    <tr>\n",
              "      <th>1997</th>\n",
              "      <td>0.0</td>\n",
              "      <td>1.0</td>\n",
              "      <td>0.0</td>\n",
              "      <td>0.0</td>\n",
              "    </tr>\n",
              "    <tr>\n",
              "      <th>6093</th>\n",
              "      <td>0.0</td>\n",
              "      <td>1.0</td>\n",
              "      <td>0.0</td>\n",
              "      <td>0.0</td>\n",
              "    </tr>\n",
              "    <tr>\n",
              "      <th>14504</th>\n",
              "      <td>1.0</td>\n",
              "      <td>0.0</td>\n",
              "      <td>0.0</td>\n",
              "      <td>0.0</td>\n",
              "    </tr>\n",
              "    <tr>\n",
              "      <th>14379</th>\n",
              "      <td>0.0</td>\n",
              "      <td>1.0</td>\n",
              "      <td>0.0</td>\n",
              "      <td>0.0</td>\n",
              "    </tr>\n",
              "    <tr>\n",
              "      <th>14416</th>\n",
              "      <td>0.0</td>\n",
              "      <td>0.0</td>\n",
              "      <td>1.0</td>\n",
              "      <td>0.0</td>\n",
              "    </tr>\n",
              "    <tr>\n",
              "      <th>5495</th>\n",
              "      <td>0.0</td>\n",
              "      <td>1.0</td>\n",
              "      <td>0.0</td>\n",
              "      <td>0.0</td>\n",
              "    </tr>\n",
              "    <tr>\n",
              "      <th>702</th>\n",
              "      <td>0.0</td>\n",
              "      <td>1.0</td>\n",
              "      <td>0.0</td>\n",
              "      <td>0.0</td>\n",
              "    </tr>\n",
              "    <tr>\n",
              "      <th>7985</th>\n",
              "      <td>0.0</td>\n",
              "      <td>0.0</td>\n",
              "      <td>0.0</td>\n",
              "      <td>1.0</td>\n",
              "    </tr>\n",
              "    <tr>\n",
              "      <th>13356</th>\n",
              "      <td>0.0</td>\n",
              "      <td>0.0</td>\n",
              "      <td>1.0</td>\n",
              "      <td>0.0</td>\n",
              "    </tr>\n",
              "    <tr>\n",
              "      <th>3027</th>\n",
              "      <td>0.0</td>\n",
              "      <td>0.0</td>\n",
              "      <td>0.0</td>\n",
              "      <td>1.0</td>\n",
              "    </tr>\n",
              "    <tr>\n",
              "      <th>8190</th>\n",
              "      <td>1.0</td>\n",
              "      <td>0.0</td>\n",
              "      <td>0.0</td>\n",
              "      <td>0.0</td>\n",
              "    </tr>\n",
              "  </tbody>\n",
              "</table>\n",
              "</div>\n",
              "      <button class=\"colab-df-convert\" onclick=\"convertToInteractive('df-d164fb12-fb46-4c08-bbfd-a83d4ad13bfe')\"\n",
              "              title=\"Convert this dataframe to an interactive table.\"\n",
              "              style=\"display:none;\">\n",
              "        \n",
              "  <svg xmlns=\"http://www.w3.org/2000/svg\" height=\"24px\"viewBox=\"0 0 24 24\"\n",
              "       width=\"24px\">\n",
              "    <path d=\"M0 0h24v24H0V0z\" fill=\"none\"/>\n",
              "    <path d=\"M18.56 5.44l.94 2.06.94-2.06 2.06-.94-2.06-.94-.94-2.06-.94 2.06-2.06.94zm-11 1L8.5 8.5l.94-2.06 2.06-.94-2.06-.94L8.5 2.5l-.94 2.06-2.06.94zm10 10l.94 2.06.94-2.06 2.06-.94-2.06-.94-.94-2.06-.94 2.06-2.06.94z\"/><path d=\"M17.41 7.96l-1.37-1.37c-.4-.4-.92-.59-1.43-.59-.52 0-1.04.2-1.43.59L10.3 9.45l-7.72 7.72c-.78.78-.78 2.05 0 2.83L4 21.41c.39.39.9.59 1.41.59.51 0 1.02-.2 1.41-.59l7.78-7.78 2.81-2.81c.8-.78.8-2.07 0-2.86zM5.41 20L4 18.59l7.72-7.72 1.47 1.35L5.41 20z\"/>\n",
              "  </svg>\n",
              "      </button>\n",
              "      \n",
              "  <style>\n",
              "    .colab-df-container {\n",
              "      display:flex;\n",
              "      flex-wrap:wrap;\n",
              "      gap: 12px;\n",
              "    }\n",
              "\n",
              "    .colab-df-convert {\n",
              "      background-color: #E8F0FE;\n",
              "      border: none;\n",
              "      border-radius: 50%;\n",
              "      cursor: pointer;\n",
              "      display: none;\n",
              "      fill: #1967D2;\n",
              "      height: 32px;\n",
              "      padding: 0 0 0 0;\n",
              "      width: 32px;\n",
              "    }\n",
              "\n",
              "    .colab-df-convert:hover {\n",
              "      background-color: #E2EBFA;\n",
              "      box-shadow: 0px 1px 2px rgba(60, 64, 67, 0.3), 0px 1px 3px 1px rgba(60, 64, 67, 0.15);\n",
              "      fill: #174EA6;\n",
              "    }\n",
              "\n",
              "    [theme=dark] .colab-df-convert {\n",
              "      background-color: #3B4455;\n",
              "      fill: #D2E3FC;\n",
              "    }\n",
              "\n",
              "    [theme=dark] .colab-df-convert:hover {\n",
              "      background-color: #434B5C;\n",
              "      box-shadow: 0px 1px 3px 1px rgba(0, 0, 0, 0.15);\n",
              "      filter: drop-shadow(0px 1px 2px rgba(0, 0, 0, 0.3));\n",
              "      fill: #FFFFFF;\n",
              "    }\n",
              "  </style>\n",
              "\n",
              "      <script>\n",
              "        const buttonEl =\n",
              "          document.querySelector('#df-d164fb12-fb46-4c08-bbfd-a83d4ad13bfe button.colab-df-convert');\n",
              "        buttonEl.style.display =\n",
              "          google.colab.kernel.accessAllowed ? 'block' : 'none';\n",
              "\n",
              "        async function convertToInteractive(key) {\n",
              "          const element = document.querySelector('#df-d164fb12-fb46-4c08-bbfd-a83d4ad13bfe');\n",
              "          const dataTable =\n",
              "            await google.colab.kernel.invokeFunction('convertToInteractive',\n",
              "                                                     [key], {});\n",
              "          if (!dataTable) return;\n",
              "\n",
              "          const docLinkHtml = 'Like what you see? Visit the ' +\n",
              "            '<a target=\"_blank\" href=https://colab.research.google.com/notebooks/data_table.ipynb>data table notebook</a>'\n",
              "            + ' to learn more about interactive tables.';\n",
              "          element.innerHTML = '';\n",
              "          dataTable['output_type'] = 'display_data';\n",
              "          await google.colab.output.renderOutput(dataTable, element);\n",
              "          const docLink = document.createElement('div');\n",
              "          docLink.innerHTML = docLinkHtml;\n",
              "          element.appendChild(docLink);\n",
              "        }\n",
              "      </script>\n",
              "    </div>\n",
              "  </div>\n",
              "  "
            ]
          },
          "metadata": {},
          "execution_count": 272
        }
      ],
      "source": [
        "t_dev[:20] #target classes"
      ]
    },
    {
      "cell_type": "code",
      "execution_count": null,
      "metadata": {
        "colab": {
          "base_uri": "https://localhost:8080/"
        },
        "outputId": "def449e8-e722-48a9-f648-971568f2d66a",
        "id": "nEnLAPWlklQr"
      },
      "outputs": [
        {
          "output_type": "stream",
          "name": "stdout",
          "text": [
            "[ True False  True  True  True  True  True False  True  True  True  True\n",
            "  True  True  True  True  True  True  True  True  True False  True  True\n",
            " False  True False  True  True False]\n"
          ]
        }
      ],
      "source": [
        "dev_correct_predictions = np.equal(np.argmax(dev_rounded_predictions,1),np.argmax(np.array(t_dev),1))\n",
        "print (dev_correct_predictions[:30])"
      ]
    },
    {
      "cell_type": "code",
      "execution_count": null,
      "metadata": {
        "colab": {
          "base_uri": "https://localhost:8080/"
        },
        "outputId": "d6bf0d38-0059-4aec-8e41-7abed8c61474",
        "id": "kTt9pDxaklQr"
      },
      "outputs": [
        {
          "output_type": "execute_result",
          "data": {
            "text/plain": [
              "Counter({True: 1272, False: 341})"
            ]
          },
          "metadata": {},
          "execution_count": 274
        }
      ],
      "source": [
        "from collections import Counter\n",
        "Counter (dev_correct_predictions)"
      ]
    },
    {
      "cell_type": "markdown",
      "metadata": {
        "id": "X18ko6cKgbol"
      },
      "source": [
        "## Final Test"
      ]
    },
    {
      "cell_type": "markdown",
      "source": [
        "### Best_model"
      ],
      "metadata": {
        "id": "XlvXakmyqxpE"
      }
    },
    {
      "cell_type": "code",
      "execution_count": null,
      "metadata": {
        "colab": {
          "base_uri": "https://localhost:8080/"
        },
        "id": "NrQEjtx3genT",
        "outputId": "b4865b78-5e72-4219-d919-95e826d3c5f3"
      },
      "outputs": [
        {
          "output_type": "stream",
          "name": "stdout",
          "text": [
            "51/51 [==============================] - 0s 2ms/step - loss: 0.4492 - categorical_accuracy: 0.8071\n",
            "Final Test Accuracy:  80.70719838142395 %\n"
          ]
        }
      ],
      "source": [
        "final_results = best_model.evaluate(x_final_test, t_final_test)\n",
        "\n",
        "print (\"Final Test Accuracy: \", final_results[1] * 100, \"%\")"
      ]
    },
    {
      "cell_type": "markdown",
      "source": [
        "### Last model"
      ],
      "metadata": {
        "id": "WZEwfqAdqyds"
      }
    },
    {
      "cell_type": "code",
      "execution_count": null,
      "metadata": {
        "id": "Di1LD9y6GoDA",
        "colab": {
          "base_uri": "https://localhost:8080/"
        },
        "outputId": "4a3457e5-9d0c-479c-acbc-630fc0d0b796"
      },
      "outputs": [
        {
          "output_type": "stream",
          "name": "stdout",
          "text": [
            "51/51 [==============================] - 0s 3ms/step - loss: 0.4669 - categorical_accuracy: 0.7971\n",
            "Final Test Accuracy:  79.71463799476624 %\n"
          ]
        }
      ],
      "source": [
        "final_results = model.evaluate(x_final_test, t_final_test)\n",
        "\n",
        "print (\"Final Test Accuracy: \", final_results[1] * 100, \"%\")"
      ]
    },
    {
      "cell_type": "code",
      "source": [],
      "metadata": {
        "id": "IMrURBAIlM54"
      },
      "execution_count": null,
      "outputs": []
    }
  ],
  "metadata": {
    "colab": {
      "provenance": []
    },
    "kernelspec": {
      "display_name": "Python 3 (ipykernel)",
      "language": "python",
      "name": "python3"
    },
    "language_info": {
      "codemirror_mode": {
        "name": "ipython",
        "version": 3
      },
      "file_extension": ".py",
      "mimetype": "text/x-python",
      "name": "python",
      "nbconvert_exporter": "python",
      "pygments_lexer": "ipython3",
      "version": "3.8.10"
    },
    "accelerator": "GPU",
    "gpuClass": "standard"
  },
  "nbformat": 4,
  "nbformat_minor": 0
}