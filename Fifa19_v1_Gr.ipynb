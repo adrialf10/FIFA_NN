{
 "cells": [
  {
   "cell_type": "code",
   "execution_count": 1,
   "metadata": {
    "colab": {
     "base_uri": "https://localhost:8080/"
    },
    "executionInfo": {
     "elapsed": 5116,
     "status": "ok",
     "timestamp": 1669635933788,
     "user": {
      "displayName": "Adrian Alfaro",
      "userId": "00261737086905202432"
     },
     "user_tz": -60
    },
    "id": "CWfFqhFQ-ZXW",
    "outputId": "bc195e63-f057-465f-e2e3-3af0aba8585a"
   },
   "outputs": [
    {
     "name": "stderr",
     "output_type": "stream",
     "text": [
      "2022-12-04 01:56:04.797511: I tensorflow/core/platform/cpu_feature_guard.cc:193] This TensorFlow binary is optimized with oneAPI Deep Neural Network Library (oneDNN) to use the following CPU instructions in performance-critical operations:  AVX2 FMA\n",
      "To enable them in other operations, rebuild TensorFlow with the appropriate compiler flags.\n",
      "2022-12-04 01:56:04.944595: W tensorflow/compiler/xla/stream_executor/platform/default/dso_loader.cc:64] Could not load dynamic library 'libcudart.so.11.0'; dlerror: libcudart.so.11.0: cannot open shared object file: No such file or directory; LD_LIBRARY_PATH: /home/agapo/colcon_coppelia_ws/install/image_transport/lib:/home/agapo/colcon_coppelia_ws/install/camera_info_manager/lib:/home/agapo/colcon_coppelia_ws/install/camera_calibration_parsers/lib:/home/agapo/catkin_coppelia_ws/install/image_transport/lib:/home/agapo/catkin_coppelia_ws/install/camera_info_manager/lib:/home/agapo/catkin_coppelia_ws/install/camera_calibration_parsers/lib:/usr/lib/x86_64-linux-gnu/gazebo-11/plugins:/opt/ros/foxy/opt/yaml_cpp_vendor/lib:/opt/ros/foxy/opt/rviz_ogre_vendor/lib:/opt/ros/foxy/lib/x86_64-linux-gnu:/opt/ros/foxy/lib\n",
      "2022-12-04 01:56:04.944617: I tensorflow/compiler/xla/stream_executor/cuda/cudart_stub.cc:29] Ignore above cudart dlerror if you do not have a GPU set up on your machine.\n",
      "2022-12-04 01:56:05.685135: W tensorflow/compiler/xla/stream_executor/platform/default/dso_loader.cc:64] Could not load dynamic library 'libnvinfer.so.7'; dlerror: libnvinfer.so.7: cannot open shared object file: No such file or directory; LD_LIBRARY_PATH: /home/agapo/colcon_coppelia_ws/install/image_transport/lib:/home/agapo/colcon_coppelia_ws/install/camera_info_manager/lib:/home/agapo/colcon_coppelia_ws/install/camera_calibration_parsers/lib:/home/agapo/catkin_coppelia_ws/install/image_transport/lib:/home/agapo/catkin_coppelia_ws/install/camera_info_manager/lib:/home/agapo/catkin_coppelia_ws/install/camera_calibration_parsers/lib:/usr/lib/x86_64-linux-gnu/gazebo-11/plugins:/opt/ros/foxy/opt/yaml_cpp_vendor/lib:/opt/ros/foxy/opt/rviz_ogre_vendor/lib:/opt/ros/foxy/lib/x86_64-linux-gnu:/opt/ros/foxy/lib\n",
      "2022-12-04 01:56:05.685287: W tensorflow/compiler/xla/stream_executor/platform/default/dso_loader.cc:64] Could not load dynamic library 'libnvinfer_plugin.so.7'; dlerror: libnvinfer_plugin.so.7: cannot open shared object file: No such file or directory; LD_LIBRARY_PATH: /home/agapo/colcon_coppelia_ws/install/image_transport/lib:/home/agapo/colcon_coppelia_ws/install/camera_info_manager/lib:/home/agapo/colcon_coppelia_ws/install/camera_calibration_parsers/lib:/home/agapo/catkin_coppelia_ws/install/image_transport/lib:/home/agapo/catkin_coppelia_ws/install/camera_info_manager/lib:/home/agapo/catkin_coppelia_ws/install/camera_calibration_parsers/lib:/usr/lib/x86_64-linux-gnu/gazebo-11/plugins:/opt/ros/foxy/opt/yaml_cpp_vendor/lib:/opt/ros/foxy/opt/rviz_ogre_vendor/lib:/opt/ros/foxy/lib/x86_64-linux-gnu:/opt/ros/foxy/lib\n",
      "2022-12-04 01:56:05.685296: W tensorflow/compiler/tf2tensorrt/utils/py_utils.cc:38] TF-TRT Warning: Cannot dlopen some TensorRT libraries. If you would like to use Nvidia GPU with TensorRT, please make sure the missing libraries mentioned above are installed properly.\n"
     ]
    }
   ],
   "source": [
    "import tensorflow as tf\n",
    "from tensorflow import keras\n",
    "import pandas as pd\n",
    "import matplotlib.pyplot as plt\n",
    "import time\n",
    "import numpy as np\n",
    "\n",
    "#print(\"Tensorflow version: \"+ tf.__version__)"
   ]
  },
  {
   "cell_type": "code",
   "execution_count": 2,
   "metadata": {
    "colab": {
     "base_uri": "https://localhost:8080/"
    },
    "executionInfo": {
     "elapsed": 112169,
     "status": "ok",
     "timestamp": 1669636045948,
     "user": {
      "displayName": "Adrian Alfaro",
      "userId": "00261737086905202432"
     },
     "user_tz": -60
    },
    "id": "kbUTGBou-4Zh",
    "outputId": "7d5f7b21-0255-499f-f74f-ccf93c863a2d"
   },
   "outputs": [],
   "source": [
    "# Google file system\n",
    "COLAB=False\n",
    "if COLAB==True:\n",
    "    from google.colab import drive\n",
    "    drive.mount('/GoogleDrive', force_remount=True)\n",
    "\n",
    "ATT_FILE =   \"datasets/FootballPlayerPreparedCleanAttributes.csv\"\n",
    "LABEL_FILE = \"datasets/FootballPlayerOneHotEncodedClasses.csv\"\n",
    "\n",
    "attributes = pd.read_csv(ATT_FILE)\n",
    "label =      pd.read_csv(LABEL_FILE)"
   ]
  },
  {
   "cell_type": "markdown",
   "metadata": {
    "id": "r1Njeo4rNWjS"
   },
   "source": [
    "## Datasets"
   ]
  },
  {
   "cell_type": "code",
   "execution_count": 3,
   "metadata": {
    "executionInfo": {
     "elapsed": 26,
     "status": "ok",
     "timestamp": 1669636045949,
     "user": {
      "displayName": "Adrian Alfaro",
      "userId": "00261737086905202432"
     },
     "user_tz": -60
    },
    "id": "cn2D4GXyGysi"
   },
   "outputs": [],
   "source": [
    "TRAIN_RATE = 0.8\n",
    "\n",
    "n_instances = attributes.shape[0]\n",
    "\n",
    "n_train = int(n_instances*TRAIN_RATE)\n",
    "n_dev = int((n_instances-n_train)/2)\n",
    "n_final_test = n_instances-n_train-n_dev"
   ]
  },
  {
   "cell_type": "code",
   "execution_count": 4,
   "metadata": {
    "colab": {
     "base_uri": "https://localhost:8080/"
    },
    "executionInfo": {
     "elapsed": 23,
     "status": "ok",
     "timestamp": 1669636045950,
     "user": {
      "displayName": "Adrian Alfaro",
      "userId": "00261737086905202432"
     },
     "user_tz": -60
    },
    "id": "OYYe1D8qG8Ly",
    "outputId": "43581345-0d4a-46a0-8e82-91fb6ceff6e4"
   },
   "outputs": [
    {
     "name": "stdout",
     "output_type": "stream",
     "text": [
      "Total: 16122 | Train: 12897 | Dev Test: 1612  | Final Test: 1613\n"
     ]
    }
   ],
   "source": [
    "print(\"Total:\", n_instances, \"| Train:\", n_train, \"| Dev Test:\", n_dev,\" | Final Test:\", n_final_test)"
   ]
  },
  {
   "cell_type": "code",
   "execution_count": 5,
   "metadata": {
    "executionInfo": {
     "elapsed": 17,
     "status": "ok",
     "timestamp": 1669636045950,
     "user": {
      "displayName": "Adrian Alfaro",
      "userId": "00261737086905202432"
     },
     "user_tz": -60
    },
    "id": "7VJf-ISmJuFz"
   },
   "outputs": [],
   "source": [
    "x_train = attributes.values[:n_train]\n",
    "t_train = label.values[:n_train]\n",
    "\n",
    "x_dev = attributes.values[n_train:n_train + n_dev]\n",
    "t_dev = label.values[n_train:n_train + n_dev]\n",
    "\n",
    "x_final_test = attributes.values[n_train+n_dev:n_instances]\n",
    "t_final_test = label.values[n_train+n_dev:n_instances]\n",
    "\n",
    "INPUTS = x_train.shape[1]\n",
    "OUTPUTS = t_train.shape[1]"
   ]
  },
  {
   "cell_type": "code",
   "execution_count": 6,
   "metadata": {
    "colab": {
     "base_uri": "https://localhost:8080/"
    },
    "executionInfo": {
     "elapsed": 17,
     "status": "ok",
     "timestamp": 1669636045951,
     "user": {
      "displayName": "Adrian Alfaro",
      "userId": "00261737086905202432"
     },
     "user_tz": -60
    },
    "id": "rln6gYncKDQG",
    "outputId": "594ff864-9796-416f-b833-cac245da1a95"
   },
   "outputs": [
    {
     "name": "stdout",
     "output_type": "stream",
     "text": [
      "X_train: (12897, 17) | T_train: (12897, 4)\n",
      "X_dev: (1612, 17) | T_dev: (1612, 4)\n",
      "X_test: (1613, 17) | T_test: (1613, 4)\n"
     ]
    }
   ],
   "source": [
    "print (\"X_train:\", x_train.shape, \"| T_train:\", t_train.shape)\n",
    "print (\"X_dev:\", x_dev.shape, \"| T_dev:\", t_dev.shape)\n",
    "print (\"X_test:\", x_final_test.shape, \"| T_test:\", t_final_test.shape)"
   ]
  },
  {
   "cell_type": "markdown",
   "metadata": {
    "id": "WehesXz6NcVX"
   },
   "source": [
    "## Model"
   ]
  },
  {
   "cell_type": "code",
   "execution_count": 7,
   "metadata": {
    "executionInfo": {
     "elapsed": 16,
     "status": "ok",
     "timestamp": 1669636045953,
     "user": {
      "displayName": "Adrian Alfaro",
      "userId": "00261737086905202432"
     },
     "user_tz": -60
    },
    "id": "jS07DPaeNs6N"
   },
   "outputs": [],
   "source": [
    "n_neurons_per_layer = [500, 250, 75, 25]\n",
    "learning_rate = 0.1\n",
    "n_epochs = 500\n",
    "batch_size = 512"
   ]
  },
  {
   "cell_type": "code",
   "execution_count": 8,
   "metadata": {
    "executionInfo": {
     "elapsed": 14,
     "status": "ok",
     "timestamp": 1669636045954,
     "user": {
      "displayName": "Adrian Alfaro",
      "userId": "00261737086905202432"
     },
     "user_tz": -60
    },
    "id": "cqumzJEGWw1k"
   },
   "outputs": [
    {
     "name": "stderr",
     "output_type": "stream",
     "text": [
      "2022-12-04 01:56:09.051905: I tensorflow/compiler/xla/stream_executor/cuda/cuda_gpu_executor.cc:981] successful NUMA node read from SysFS had negative value (-1), but there must be at least one NUMA node, so returning NUMA node zero\n",
      "2022-12-04 01:56:09.052327: W tensorflow/compiler/xla/stream_executor/platform/default/dso_loader.cc:64] Could not load dynamic library 'libcudart.so.11.0'; dlerror: libcudart.so.11.0: cannot open shared object file: No such file or directory; LD_LIBRARY_PATH: /home/agapo/colcon_coppelia_ws/install/image_transport/lib:/home/agapo/colcon_coppelia_ws/install/camera_info_manager/lib:/home/agapo/colcon_coppelia_ws/install/camera_calibration_parsers/lib:/home/agapo/catkin_coppelia_ws/install/image_transport/lib:/home/agapo/catkin_coppelia_ws/install/camera_info_manager/lib:/home/agapo/catkin_coppelia_ws/install/camera_calibration_parsers/lib:/usr/lib/x86_64-linux-gnu/gazebo-11/plugins:/opt/ros/foxy/opt/yaml_cpp_vendor/lib:/opt/ros/foxy/opt/rviz_ogre_vendor/lib:/opt/ros/foxy/lib/x86_64-linux-gnu:/opt/ros/foxy/lib\n",
      "2022-12-04 01:56:09.052492: W tensorflow/compiler/xla/stream_executor/platform/default/dso_loader.cc:64] Could not load dynamic library 'libcublas.so.11'; dlerror: libcublas.so.11: cannot open shared object file: No such file or directory; LD_LIBRARY_PATH: /home/agapo/colcon_coppelia_ws/install/image_transport/lib:/home/agapo/colcon_coppelia_ws/install/camera_info_manager/lib:/home/agapo/colcon_coppelia_ws/install/camera_calibration_parsers/lib:/home/agapo/catkin_coppelia_ws/install/image_transport/lib:/home/agapo/catkin_coppelia_ws/install/camera_info_manager/lib:/home/agapo/catkin_coppelia_ws/install/camera_calibration_parsers/lib:/usr/lib/x86_64-linux-gnu/gazebo-11/plugins:/opt/ros/foxy/opt/yaml_cpp_vendor/lib:/opt/ros/foxy/opt/rviz_ogre_vendor/lib:/opt/ros/foxy/lib/x86_64-linux-gnu:/opt/ros/foxy/lib\n",
      "2022-12-04 01:56:09.052642: W tensorflow/compiler/xla/stream_executor/platform/default/dso_loader.cc:64] Could not load dynamic library 'libcublasLt.so.11'; dlerror: libcublasLt.so.11: cannot open shared object file: No such file or directory; LD_LIBRARY_PATH: /home/agapo/colcon_coppelia_ws/install/image_transport/lib:/home/agapo/colcon_coppelia_ws/install/camera_info_manager/lib:/home/agapo/colcon_coppelia_ws/install/camera_calibration_parsers/lib:/home/agapo/catkin_coppelia_ws/install/image_transport/lib:/home/agapo/catkin_coppelia_ws/install/camera_info_manager/lib:/home/agapo/catkin_coppelia_ws/install/camera_calibration_parsers/lib:/usr/lib/x86_64-linux-gnu/gazebo-11/plugins:/opt/ros/foxy/opt/yaml_cpp_vendor/lib:/opt/ros/foxy/opt/rviz_ogre_vendor/lib:/opt/ros/foxy/lib/x86_64-linux-gnu:/opt/ros/foxy/lib\n",
      "2022-12-04 01:56:09.052790: W tensorflow/compiler/xla/stream_executor/platform/default/dso_loader.cc:64] Could not load dynamic library 'libcufft.so.10'; dlerror: libcufft.so.10: cannot open shared object file: No such file or directory; LD_LIBRARY_PATH: /home/agapo/colcon_coppelia_ws/install/image_transport/lib:/home/agapo/colcon_coppelia_ws/install/camera_info_manager/lib:/home/agapo/colcon_coppelia_ws/install/camera_calibration_parsers/lib:/home/agapo/catkin_coppelia_ws/install/image_transport/lib:/home/agapo/catkin_coppelia_ws/install/camera_info_manager/lib:/home/agapo/catkin_coppelia_ws/install/camera_calibration_parsers/lib:/usr/lib/x86_64-linux-gnu/gazebo-11/plugins:/opt/ros/foxy/opt/yaml_cpp_vendor/lib:/opt/ros/foxy/opt/rviz_ogre_vendor/lib:/opt/ros/foxy/lib/x86_64-linux-gnu:/opt/ros/foxy/lib\n",
      "2022-12-04 01:56:09.052936: W tensorflow/compiler/xla/stream_executor/platform/default/dso_loader.cc:64] Could not load dynamic library 'libcurand.so.10'; dlerror: libcurand.so.10: cannot open shared object file: No such file or directory; LD_LIBRARY_PATH: /home/agapo/colcon_coppelia_ws/install/image_transport/lib:/home/agapo/colcon_coppelia_ws/install/camera_info_manager/lib:/home/agapo/colcon_coppelia_ws/install/camera_calibration_parsers/lib:/home/agapo/catkin_coppelia_ws/install/image_transport/lib:/home/agapo/catkin_coppelia_ws/install/camera_info_manager/lib:/home/agapo/catkin_coppelia_ws/install/camera_calibration_parsers/lib:/usr/lib/x86_64-linux-gnu/gazebo-11/plugins:/opt/ros/foxy/opt/yaml_cpp_vendor/lib:/opt/ros/foxy/opt/rviz_ogre_vendor/lib:/opt/ros/foxy/lib/x86_64-linux-gnu:/opt/ros/foxy/lib\n",
      "2022-12-04 01:56:09.053083: W tensorflow/compiler/xla/stream_executor/platform/default/dso_loader.cc:64] Could not load dynamic library 'libcusolver.so.11'; dlerror: libcusolver.so.11: cannot open shared object file: No such file or directory; LD_LIBRARY_PATH: /home/agapo/colcon_coppelia_ws/install/image_transport/lib:/home/agapo/colcon_coppelia_ws/install/camera_info_manager/lib:/home/agapo/colcon_coppelia_ws/install/camera_calibration_parsers/lib:/home/agapo/catkin_coppelia_ws/install/image_transport/lib:/home/agapo/catkin_coppelia_ws/install/camera_info_manager/lib:/home/agapo/catkin_coppelia_ws/install/camera_calibration_parsers/lib:/usr/lib/x86_64-linux-gnu/gazebo-11/plugins:/opt/ros/foxy/opt/yaml_cpp_vendor/lib:/opt/ros/foxy/opt/rviz_ogre_vendor/lib:/opt/ros/foxy/lib/x86_64-linux-gnu:/opt/ros/foxy/lib\n",
      "2022-12-04 01:56:09.053231: W tensorflow/compiler/xla/stream_executor/platform/default/dso_loader.cc:64] Could not load dynamic library 'libcusparse.so.11'; dlerror: libcusparse.so.11: cannot open shared object file: No such file or directory; LD_LIBRARY_PATH: /home/agapo/colcon_coppelia_ws/install/image_transport/lib:/home/agapo/colcon_coppelia_ws/install/camera_info_manager/lib:/home/agapo/colcon_coppelia_ws/install/camera_calibration_parsers/lib:/home/agapo/catkin_coppelia_ws/install/image_transport/lib:/home/agapo/catkin_coppelia_ws/install/camera_info_manager/lib:/home/agapo/catkin_coppelia_ws/install/camera_calibration_parsers/lib:/usr/lib/x86_64-linux-gnu/gazebo-11/plugins:/opt/ros/foxy/opt/yaml_cpp_vendor/lib:/opt/ros/foxy/opt/rviz_ogre_vendor/lib:/opt/ros/foxy/lib/x86_64-linux-gnu:/opt/ros/foxy/lib\n",
      "2022-12-04 01:56:09.053374: W tensorflow/compiler/xla/stream_executor/platform/default/dso_loader.cc:64] Could not load dynamic library 'libcudnn.so.8'; dlerror: libcudnn.so.8: cannot open shared object file: No such file or directory; LD_LIBRARY_PATH: /home/agapo/colcon_coppelia_ws/install/image_transport/lib:/home/agapo/colcon_coppelia_ws/install/camera_info_manager/lib:/home/agapo/colcon_coppelia_ws/install/camera_calibration_parsers/lib:/home/agapo/catkin_coppelia_ws/install/image_transport/lib:/home/agapo/catkin_coppelia_ws/install/camera_info_manager/lib:/home/agapo/catkin_coppelia_ws/install/camera_calibration_parsers/lib:/usr/lib/x86_64-linux-gnu/gazebo-11/plugins:/opt/ros/foxy/opt/yaml_cpp_vendor/lib:/opt/ros/foxy/opt/rviz_ogre_vendor/lib:/opt/ros/foxy/lib/x86_64-linux-gnu:/opt/ros/foxy/lib\n",
      "2022-12-04 01:56:09.053396: W tensorflow/core/common_runtime/gpu/gpu_device.cc:1934] Cannot dlopen some GPU libraries. Please make sure the missing libraries mentioned above are installed properly if you would like to use GPU. Follow the guide at https://www.tensorflow.org/install/gpu for how to download and setup the required libraries for your platform.\n",
      "Skipping registering GPU devices...\n",
      "2022-12-04 01:56:09.053912: I tensorflow/core/platform/cpu_feature_guard.cc:193] This TensorFlow binary is optimized with oneAPI Deep Neural Network Library (oneDNN) to use the following CPU instructions in performance-critical operations:  AVX2 FMA\n",
      "To enable them in other operations, rebuild TensorFlow with the appropriate compiler flags.\n"
     ]
    }
   ],
   "source": [
    "model = keras.Sequential(name = \"FifaNetwork\")"
   ]
  },
  {
   "cell_type": "code",
   "execution_count": 9,
   "metadata": {
    "executionInfo": {
     "elapsed": 439,
     "status": "ok",
     "timestamp": 1669636046382,
     "user": {
      "displayName": "Adrian Alfaro",
      "userId": "00261737086905202432"
     },
     "user_tz": -60
    },
    "id": "mYJoEVA0Xj_A"
   },
   "outputs": [],
   "source": [
    "model.add(keras.layers.InputLayer(input_shape=(INPUTS,)))\n",
    "\n",
    "for neurons in n_neurons_per_layer:\n",
    "  model.add(keras.layers.Dense(neurons, activation=\"relu\"))\n",
    "\n",
    "model.add(keras.layers.Dense(OUTPUTS, activation=\"softmax\"))"
   ]
  },
  {
   "cell_type": "code",
   "execution_count": 10,
   "metadata": {
    "colab": {
     "base_uri": "https://localhost:8080/"
    },
    "executionInfo": {
     "elapsed": 17,
     "status": "ok",
     "timestamp": 1669636046383,
     "user": {
      "displayName": "Adrian Alfaro",
      "userId": "00261737086905202432"
     },
     "user_tz": -60
    },
    "id": "Dw12jcQxZOT_",
    "outputId": "b0805fb0-5dad-4e77-fb63-cd4b77c5e0bb"
   },
   "outputs": [
    {
     "name": "stdout",
     "output_type": "stream",
     "text": [
      "Model: \"FifaNetwork\"\n",
      "_________________________________________________________________\n",
      " Layer (type)                Output Shape              Param #   \n",
      "=================================================================\n",
      " dense (Dense)               (None, 500)               9000      \n",
      "                                                                 \n",
      " dense_1 (Dense)             (None, 250)               125250    \n",
      "                                                                 \n",
      " dense_2 (Dense)             (None, 75)                18825     \n",
      "                                                                 \n",
      " dense_3 (Dense)             (None, 25)                1900      \n",
      "                                                                 \n",
      " dense_4 (Dense)             (None, 4)                 104       \n",
      "                                                                 \n",
      "=================================================================\n",
      "Total params: 155,079\n",
      "Trainable params: 155,079\n",
      "Non-trainable params: 0\n",
      "_________________________________________________________________\n"
     ]
    }
   ],
   "source": [
    "model.summary()"
   ]
  },
  {
   "cell_type": "code",
   "execution_count": 17,
   "metadata": {},
   "outputs": [],
   "source": [
    "\n",
    "num_train_steps=(n_train // batch_size)*n_epochs\n",
    "lr_scheduler = tf.keras.optimizers.schedules.PolynomialDecay(initial_learning_rate=0.1,\n",
    "                               end_learning_rate=1e-8,\n",
    "                               decay_steps=num_train_steps)"
   ]
  },
  {
   "cell_type": "code",
   "execution_count": 18,
   "metadata": {
    "executionInfo": {
     "elapsed": 9,
     "status": "ok",
     "timestamp": 1669636046383,
     "user": {
      "displayName": "Adrian Alfaro",
      "userId": "00261737086905202432"
     },
     "user_tz": -60
    },
    "id": "GVfGbkr0b1Vl"
   },
   "outputs": [],
   "source": [
    "model.compile(optimizer = tf.keras.optimizers.SGD(learning_rate = lr_scheduler),\n",
    "              loss = tf.keras.losses.categorical_crossentropy,\n",
    "              metrics = [\"categorical_accuracy\"])"
   ]
  },
  {
   "cell_type": "code",
   "execution_count": 19,
   "metadata": {},
   "outputs": [
    {
     "data": {
      "image/svg+xml": [
       "<svg xmlns=\"http://www.w3.org/2000/svg\" xmlns:xlink=\"http://www.w3.org/1999/xlink\" width=\"364pt\" height=\"627pt\" viewBox=\"0.00 0.00 273.00 470.00\">\n",
       "<g id=\"graph0\" class=\"graph\" transform=\"scale(0.75 0.75) rotate(0) translate(4 466)\">\n",
       "<title>G</title>\n",
       "<polygon fill=\"white\" stroke=\"transparent\" points=\"-4,4 -4,-466 269,-466 269,4 -4,4\"/>\n",
       "<!-- 139662745878336 -->\n",
       "<g id=\"node1\" class=\"node\">\n",
       "<title>139662745878336</title>\n",
       "<polygon fill=\"none\" stroke=\"black\" points=\"0,-415.5 0,-461.5 265,-461.5 265,-415.5 0,-415.5\"/>\n",
       "<text text-anchor=\"middle\" x=\"47.5\" y=\"-446.3\" font-family=\"Times,serif\" font-size=\"14.00\">input_1</text>\n",
       "<polyline fill=\"none\" stroke=\"black\" points=\"0,-438.5 95,-438.5 \"/>\n",
       "<text text-anchor=\"middle\" x=\"47.5\" y=\"-423.3\" font-family=\"Times,serif\" font-size=\"14.00\">InputLayer</text>\n",
       "<polyline fill=\"none\" stroke=\"black\" points=\"95,-415.5 95,-461.5 \"/>\n",
       "<text text-anchor=\"middle\" x=\"129\" y=\"-446.3\" font-family=\"Times,serif\" font-size=\"14.00\">input:</text>\n",
       "<polyline fill=\"none\" stroke=\"black\" points=\"95,-438.5 163,-438.5 \"/>\n",
       "<text text-anchor=\"middle\" x=\"129\" y=\"-423.3\" font-family=\"Times,serif\" font-size=\"14.00\">output:</text>\n",
       "<polyline fill=\"none\" stroke=\"black\" points=\"163,-415.5 163,-461.5 \"/>\n",
       "<text text-anchor=\"middle\" x=\"214\" y=\"-446.3\" font-family=\"Times,serif\" font-size=\"14.00\">[(None, 17)]</text>\n",
       "<polyline fill=\"none\" stroke=\"black\" points=\"163,-438.5 265,-438.5 \"/>\n",
       "<text text-anchor=\"middle\" x=\"214\" y=\"-423.3\" font-family=\"Times,serif\" font-size=\"14.00\">[(None, 17)]</text>\n",
       "</g>\n",
       "<!-- 139662745965952 -->\n",
       "<g id=\"node2\" class=\"node\">\n",
       "<title>139662745965952</title>\n",
       "<polygon fill=\"none\" stroke=\"black\" points=\"17.5,-332.5 17.5,-378.5 247.5,-378.5 247.5,-332.5 17.5,-332.5\"/>\n",
       "<text text-anchor=\"middle\" x=\"48\" y=\"-363.3\" font-family=\"Times,serif\" font-size=\"14.00\">dense</text>\n",
       "<polyline fill=\"none\" stroke=\"black\" points=\"17.5,-355.5 78.5,-355.5 \"/>\n",
       "<text text-anchor=\"middle\" x=\"48\" y=\"-340.3\" font-family=\"Times,serif\" font-size=\"14.00\">Dense</text>\n",
       "<polyline fill=\"none\" stroke=\"black\" points=\"78.5,-332.5 78.5,-378.5 \"/>\n",
       "<text text-anchor=\"middle\" x=\"112.5\" y=\"-363.3\" font-family=\"Times,serif\" font-size=\"14.00\">input:</text>\n",
       "<polyline fill=\"none\" stroke=\"black\" points=\"78.5,-355.5 146.5,-355.5 \"/>\n",
       "<text text-anchor=\"middle\" x=\"112.5\" y=\"-340.3\" font-family=\"Times,serif\" font-size=\"14.00\">output:</text>\n",
       "<polyline fill=\"none\" stroke=\"black\" points=\"146.5,-332.5 146.5,-378.5 \"/>\n",
       "<text text-anchor=\"middle\" x=\"197\" y=\"-363.3\" font-family=\"Times,serif\" font-size=\"14.00\">(None, 17)</text>\n",
       "<polyline fill=\"none\" stroke=\"black\" points=\"146.5,-355.5 247.5,-355.5 \"/>\n",
       "<text text-anchor=\"middle\" x=\"197\" y=\"-340.3\" font-family=\"Times,serif\" font-size=\"14.00\">(None, 500)</text>\n",
       "</g>\n",
       "<!-- 139662745878336&#45;&gt;139662745965952 -->\n",
       "<g id=\"edge1\" class=\"edge\">\n",
       "<title>139662745878336-&gt;139662745965952</title>\n",
       "<path fill=\"none\" stroke=\"black\" d=\"M132.5,-415.37C132.5,-407.15 132.5,-397.66 132.5,-388.73\"/>\n",
       "<polygon fill=\"black\" stroke=\"black\" points=\"136,-388.61 132.5,-378.61 129,-388.61 136,-388.61\"/>\n",
       "</g>\n",
       "<!-- 139660181402816 -->\n",
       "<g id=\"node3\" class=\"node\">\n",
       "<title>139660181402816</title>\n",
       "<polygon fill=\"none\" stroke=\"black\" points=\"11,-249.5 11,-295.5 254,-295.5 254,-249.5 11,-249.5\"/>\n",
       "<text text-anchor=\"middle\" x=\"48\" y=\"-280.3\" font-family=\"Times,serif\" font-size=\"14.00\">dense_1</text>\n",
       "<polyline fill=\"none\" stroke=\"black\" points=\"11,-272.5 85,-272.5 \"/>\n",
       "<text text-anchor=\"middle\" x=\"48\" y=\"-257.3\" font-family=\"Times,serif\" font-size=\"14.00\">Dense</text>\n",
       "<polyline fill=\"none\" stroke=\"black\" points=\"85,-249.5 85,-295.5 \"/>\n",
       "<text text-anchor=\"middle\" x=\"119\" y=\"-280.3\" font-family=\"Times,serif\" font-size=\"14.00\">input:</text>\n",
       "<polyline fill=\"none\" stroke=\"black\" points=\"85,-272.5 153,-272.5 \"/>\n",
       "<text text-anchor=\"middle\" x=\"119\" y=\"-257.3\" font-family=\"Times,serif\" font-size=\"14.00\">output:</text>\n",
       "<polyline fill=\"none\" stroke=\"black\" points=\"153,-249.5 153,-295.5 \"/>\n",
       "<text text-anchor=\"middle\" x=\"203.5\" y=\"-280.3\" font-family=\"Times,serif\" font-size=\"14.00\">(None, 500)</text>\n",
       "<polyline fill=\"none\" stroke=\"black\" points=\"153,-272.5 254,-272.5 \"/>\n",
       "<text text-anchor=\"middle\" x=\"203.5\" y=\"-257.3\" font-family=\"Times,serif\" font-size=\"14.00\">(None, 250)</text>\n",
       "</g>\n",
       "<!-- 139662745965952&#45;&gt;139660181402816 -->\n",
       "<g id=\"edge2\" class=\"edge\">\n",
       "<title>139662745965952-&gt;139660181402816</title>\n",
       "<path fill=\"none\" stroke=\"black\" d=\"M132.5,-332.37C132.5,-324.15 132.5,-314.66 132.5,-305.73\"/>\n",
       "<polygon fill=\"black\" stroke=\"black\" points=\"136,-305.61 132.5,-295.61 129,-305.61 136,-305.61\"/>\n",
       "</g>\n",
       "<!-- 139660181403584 -->\n",
       "<g id=\"node4\" class=\"node\">\n",
       "<title>139660181403584</title>\n",
       "<polygon fill=\"none\" stroke=\"black\" points=\"11,-166.5 11,-212.5 254,-212.5 254,-166.5 11,-166.5\"/>\n",
       "<text text-anchor=\"middle\" x=\"48\" y=\"-197.3\" font-family=\"Times,serif\" font-size=\"14.00\">dense_2</text>\n",
       "<polyline fill=\"none\" stroke=\"black\" points=\"11,-189.5 85,-189.5 \"/>\n",
       "<text text-anchor=\"middle\" x=\"48\" y=\"-174.3\" font-family=\"Times,serif\" font-size=\"14.00\">Dense</text>\n",
       "<polyline fill=\"none\" stroke=\"black\" points=\"85,-166.5 85,-212.5 \"/>\n",
       "<text text-anchor=\"middle\" x=\"119\" y=\"-197.3\" font-family=\"Times,serif\" font-size=\"14.00\">input:</text>\n",
       "<polyline fill=\"none\" stroke=\"black\" points=\"85,-189.5 153,-189.5 \"/>\n",
       "<text text-anchor=\"middle\" x=\"119\" y=\"-174.3\" font-family=\"Times,serif\" font-size=\"14.00\">output:</text>\n",
       "<polyline fill=\"none\" stroke=\"black\" points=\"153,-166.5 153,-212.5 \"/>\n",
       "<text text-anchor=\"middle\" x=\"203.5\" y=\"-197.3\" font-family=\"Times,serif\" font-size=\"14.00\">(None, 250)</text>\n",
       "<polyline fill=\"none\" stroke=\"black\" points=\"153,-189.5 254,-189.5 \"/>\n",
       "<text text-anchor=\"middle\" x=\"203.5\" y=\"-174.3\" font-family=\"Times,serif\" font-size=\"14.00\">(None, 75)</text>\n",
       "</g>\n",
       "<!-- 139660181402816&#45;&gt;139660181403584 -->\n",
       "<g id=\"edge3\" class=\"edge\">\n",
       "<title>139660181402816-&gt;139660181403584</title>\n",
       "<path fill=\"none\" stroke=\"black\" d=\"M132.5,-249.37C132.5,-241.15 132.5,-231.66 132.5,-222.73\"/>\n",
       "<polygon fill=\"black\" stroke=\"black\" points=\"136,-222.61 132.5,-212.61 129,-222.61 136,-222.61\"/>\n",
       "</g>\n",
       "<!-- 139660125421232 -->\n",
       "<g id=\"node5\" class=\"node\">\n",
       "<title>139660125421232</title>\n",
       "<polygon fill=\"none\" stroke=\"black\" points=\"15.5,-83.5 15.5,-129.5 249.5,-129.5 249.5,-83.5 15.5,-83.5\"/>\n",
       "<text text-anchor=\"middle\" x=\"52.5\" y=\"-114.3\" font-family=\"Times,serif\" font-size=\"14.00\">dense_3</text>\n",
       "<polyline fill=\"none\" stroke=\"black\" points=\"15.5,-106.5 89.5,-106.5 \"/>\n",
       "<text text-anchor=\"middle\" x=\"52.5\" y=\"-91.3\" font-family=\"Times,serif\" font-size=\"14.00\">Dense</text>\n",
       "<polyline fill=\"none\" stroke=\"black\" points=\"89.5,-83.5 89.5,-129.5 \"/>\n",
       "<text text-anchor=\"middle\" x=\"123.5\" y=\"-114.3\" font-family=\"Times,serif\" font-size=\"14.00\">input:</text>\n",
       "<polyline fill=\"none\" stroke=\"black\" points=\"89.5,-106.5 157.5,-106.5 \"/>\n",
       "<text text-anchor=\"middle\" x=\"123.5\" y=\"-91.3\" font-family=\"Times,serif\" font-size=\"14.00\">output:</text>\n",
       "<polyline fill=\"none\" stroke=\"black\" points=\"157.5,-83.5 157.5,-129.5 \"/>\n",
       "<text text-anchor=\"middle\" x=\"203.5\" y=\"-114.3\" font-family=\"Times,serif\" font-size=\"14.00\">(None, 75)</text>\n",
       "<polyline fill=\"none\" stroke=\"black\" points=\"157.5,-106.5 249.5,-106.5 \"/>\n",
       "<text text-anchor=\"middle\" x=\"203.5\" y=\"-91.3\" font-family=\"Times,serif\" font-size=\"14.00\">(None, 25)</text>\n",
       "</g>\n",
       "<!-- 139660181403584&#45;&gt;139660125421232 -->\n",
       "<g id=\"edge4\" class=\"edge\">\n",
       "<title>139660181403584-&gt;139660125421232</title>\n",
       "<path fill=\"none\" stroke=\"black\" d=\"M132.5,-166.37C132.5,-158.15 132.5,-148.66 132.5,-139.73\"/>\n",
       "<polygon fill=\"black\" stroke=\"black\" points=\"136,-139.61 132.5,-129.61 129,-139.61 136,-139.61\"/>\n",
       "</g>\n",
       "<!-- 139660182122160 -->\n",
       "<g id=\"node6\" class=\"node\">\n",
       "<title>139660182122160</title>\n",
       "<polygon fill=\"none\" stroke=\"black\" points=\"15.5,-0.5 15.5,-46.5 249.5,-46.5 249.5,-0.5 15.5,-0.5\"/>\n",
       "<text text-anchor=\"middle\" x=\"52.5\" y=\"-31.3\" font-family=\"Times,serif\" font-size=\"14.00\">dense_4</text>\n",
       "<polyline fill=\"none\" stroke=\"black\" points=\"15.5,-23.5 89.5,-23.5 \"/>\n",
       "<text text-anchor=\"middle\" x=\"52.5\" y=\"-8.3\" font-family=\"Times,serif\" font-size=\"14.00\">Dense</text>\n",
       "<polyline fill=\"none\" stroke=\"black\" points=\"89.5,-0.5 89.5,-46.5 \"/>\n",
       "<text text-anchor=\"middle\" x=\"123.5\" y=\"-31.3\" font-family=\"Times,serif\" font-size=\"14.00\">input:</text>\n",
       "<polyline fill=\"none\" stroke=\"black\" points=\"89.5,-23.5 157.5,-23.5 \"/>\n",
       "<text text-anchor=\"middle\" x=\"123.5\" y=\"-8.3\" font-family=\"Times,serif\" font-size=\"14.00\">output:</text>\n",
       "<polyline fill=\"none\" stroke=\"black\" points=\"157.5,-0.5 157.5,-46.5 \"/>\n",
       "<text text-anchor=\"middle\" x=\"203.5\" y=\"-31.3\" font-family=\"Times,serif\" font-size=\"14.00\">(None, 25)</text>\n",
       "<polyline fill=\"none\" stroke=\"black\" points=\"157.5,-23.5 249.5,-23.5 \"/>\n",
       "<text text-anchor=\"middle\" x=\"203.5\" y=\"-8.3\" font-family=\"Times,serif\" font-size=\"14.00\">(None, 4)</text>\n",
       "</g>\n",
       "<!-- 139660125421232&#45;&gt;139660182122160 -->\n",
       "<g id=\"edge5\" class=\"edge\">\n",
       "<title>139660125421232-&gt;139660182122160</title>\n",
       "<path fill=\"none\" stroke=\"black\" d=\"M132.5,-83.37C132.5,-75.15 132.5,-65.66 132.5,-56.73\"/>\n",
       "<polygon fill=\"black\" stroke=\"black\" points=\"136,-56.61 132.5,-46.61 129,-56.61 136,-56.61\"/>\n",
       "</g>\n",
       "</g>\n",
       "</svg>"
      ],
      "text/plain": [
       "<IPython.core.display.SVG object>"
      ]
     },
     "metadata": {},
     "output_type": "display_data"
    }
   ],
   "source": [
    "from IPython.display import SVG\n",
    "from keras.utils.vis_utils import model_to_dot\n",
    "\n",
    "if COLAB:\n",
    "    display(SVG(model_to_dot(model, show_shapes=True,dpi=72).create(prog='dot', format='svg')))\n",
    "else:\n",
    "    display(SVG(model_to_dot(model, show_shapes=True).create(prog='dot', format='svg')))"
   ]
  },
  {
   "cell_type": "markdown",
   "metadata": {
    "id": "u53L_NrodLFj"
   },
   "source": [
    "## Training"
   ]
  },
  {
   "cell_type": "code",
   "execution_count": 20,
   "metadata": {},
   "outputs": [],
   "source": [
    "from matplotlib.ticker import MaxNLocator\n",
    "\n",
    "def grafica_entrenamiento(tr_acc, val_acc, tr_loss, val_loss, best_i,\n",
    "                          figsize=(10,4)):\n",
    "    plt.figure(figsize=figsize)\n",
    "    ax = plt.subplot(1,2,1)\n",
    "    plt.plot(1+np.arange(len(tr_acc)),  100*np.array(tr_acc))\n",
    "    plt.plot(1+np.arange(len(val_acc)), 100*np.array(val_acc))\n",
    "    plt.plot(1+best_i, 100*val_acc[best_i], 'or')\n",
    "    plt.title('tasa de acierto del modelo (%)', fontsize=18)\n",
    "    plt.ylabel('tasa de acierto (%)', fontsize=18)\n",
    "    plt.xlabel('época', fontsize=18)\n",
    "    plt.legend(['entrenamiento', 'validación'], loc='upper left')\n",
    "    ax.xaxis.set_major_locator(MaxNLocator(integer=True))\n",
    "\n",
    "    plt.subplot(1,2,2)\n",
    "    plt.plot(1+np.arange(len(tr_acc)), np.array(tr_loss))\n",
    "    plt.plot(1+np.arange(len(val_acc)), np.array(val_loss))\n",
    "    plt.plot(1+best_i, val_loss[best_i], 'or')\n",
    "    plt.title('loss del modelo', fontsize=18)\n",
    "    plt.ylabel('loss', fontsize=18)\n",
    "    plt.xlabel('época', fontsize=18)\n",
    "    plt.legend(['entrenamiento', 'validación'], loc='upper left')\n",
    "    ax.xaxis.set_major_locator(MaxNLocator(integer=True))\n",
    "    plt.show()"
   ]
  },
  {
   "cell_type": "code",
   "execution_count": 21,
   "metadata": {},
   "outputs": [],
   "source": [
    "acum_tr_acc = []\n",
    "acum_val_acc = []\n",
    "best_val_acc = -1000\n",
    "acum_tr_loss  = []\n",
    "acum_val_loss = []"
   ]
  },
  {
   "cell_type": "code",
   "execution_count": null,
   "metadata": {},
   "outputs": [],
   "source": []
  },
  {
   "cell_type": "code",
   "execution_count": 22,
   "metadata": {},
   "outputs": [
    {
     "data": {
      "image/png": "[encoded data removed]",
      "text/plain": [
       "<Figure size 1000x400 with 2 Axes>"
      ]
     },
     "metadata": {},
     "output_type": "display_data"
    }
   ],
   "source": [
    "from keras.callbacks import ModelCheckpoint\n",
    "from IPython.display import SVG, display, clear_output\n",
    "\n",
    "start = time.perf_counter()\n",
    "results=pd.DataFrame()\n",
    "modelpath=\"model_current_best.h5\"\n",
    "\n",
    "checkpoint = ModelCheckpoint(modelpath, monitor='val_accuracy', verbose=1,\n",
    "                             save_best_only=True,\n",
    "                             mode='max') # graba sólo los que mejoran en validación\n",
    "callbacks_list = [checkpoint]\n",
    "for e in range(n_epochs):\n",
    "\n",
    "    history = model.fit(x_train, t_train, \n",
    "                    batch_size = batch_size, \n",
    "                    epochs = 1, \n",
    "                    verbose = 1, \n",
    "                    validation_data = (x_dev, t_dev))\n",
    "   \n",
    "    if history.history['val_categorical_accuracy'][-1] > best_val_acc:\n",
    "        print(\"Validation accuracy improved from\",\n",
    "            best_val_acc, 'to', history.history['val_categorical_accuracy'])\n",
    "        print(\"saving weights\")\n",
    "        best_val_acc = history.history['val_categorical_accuracy'][-1]\n",
    "    \n",
    "    acum_tr_acc.append(history.history['categorical_accuracy'][0])\n",
    "    acum_val_acc.append(history.history['val_categorical_accuracy'][0])\n",
    "    acum_tr_loss.append(history.history['loss'][0])\n",
    "    acum_val_loss.append(history.history['val_loss'][0])\n",
    "    \n",
    "    if len(acum_tr_acc) > 1:\n",
    "        clear_output()\n",
    "        best_i = np.argmax(acum_val_acc)\n",
    "        grafica_entrenamiento(acum_tr_acc, acum_val_acc, acum_tr_loss, acum_val_loss, best_i)\n",
    "\n",
    "    \n",
    "    results=pd.concat([results,pd.DataFrame(history.history)])\n",
    "    results_temp = pd.DataFrame(history.history)"
   ]
  },
  {
   "cell_type": "code",
   "execution_count": 23,
   "metadata": {
    "executionInfo": {
     "elapsed": 24,
     "status": "ok",
     "timestamp": 1669636668891,
     "user": {
      "displayName": "Adrian Alfaro",
      "userId": "00261737086905202432"
     },
     "user_tz": -60
    },
    "id": "ChJ-Eee6fw4I"
   },
   "outputs": [],
   "source": [
    "results=results.reset_index(drop=True)"
   ]
  },
  {
   "cell_type": "code",
   "execution_count": 24,
   "metadata": {
    "colab": {
     "base_uri": "https://localhost:8080/"
    },
    "executionInfo": {
     "elapsed": 213,
     "status": "ok",
     "timestamp": 1669636707230,
     "user": {
      "displayName": "Adrian Alfaro",
      "userId": "00261737086905202432"
     },
     "user_tz": -60
    },
    "id": "mEsz9N7HeGF-",
    "outputId": "dbc47f21-9939-4056-eb5a-7e737bfc806c"
   },
   "outputs": [
    {
     "name": "stdout",
     "output_type": "stream",
     "text": [
      "Time:  245.60668730199905 seconds\n",
      "Training Set Error:  9.971308708190918 %\n",
      "Development Set Test Error:  18.734490871429443 %\n",
      "Bias:  -0.02869129180908203 %\n",
      "Variance:  8.763182163238525 %\n"
     ]
    }
   ],
   "source": [
    "print (\"Time: \", time.perf_counter() - start, \"seconds\")\n",
    "\n",
    "human_error = 10\n",
    "train_error = 100 - (results.categorical_accuracy.values[-1:][0] * 100)\n",
    "test_error = 100 - (results.val_categorical_accuracy.values[-1:][0] * 100)\n",
    "\n",
    "print (\"Training Set Error: \", train_error, \"%\")\n",
    "print (\"Development Set Test Error: \", test_error, \"%\")\n",
    "print (\"Bias: \", train_error - human_error, \"%\")\n",
    "print (\"Variance: \", test_error - train_error, \"%\")"
   ]
  },
  {
   "cell_type": "code",
   "execution_count": 25,
   "metadata": {},
   "outputs": [
    {
     "data": {
      "text/html": [
       "<div>\n",
       "<style scoped>\n",
       "    .dataframe tbody tr th:only-of-type {\n",
       "        vertical-align: middle;\n",
       "    }\n",
       "\n",
       "    .dataframe tbody tr th {\n",
       "        vertical-align: top;\n",
       "    }\n",
       "\n",
       "    .dataframe thead th {\n",
       "        text-align: right;\n",
       "    }\n",
       "</style>\n",
       "<table border=\"1\" class=\"dataframe\">\n",
       "  <thead>\n",
       "    <tr style=\"text-align: right;\">\n",
       "      <th></th>\n",
       "      <th>loss</th>\n",
       "      <th>categorical_accuracy</th>\n",
       "      <th>val_loss</th>\n",
       "      <th>val_categorical_accuracy</th>\n",
       "    </tr>\n",
       "  </thead>\n",
       "  <tbody>\n",
       "    <tr>\n",
       "      <th>0</th>\n",
       "      <td>1.311455</td>\n",
       "      <td>0.498643</td>\n",
       "      <td>1.203780</td>\n",
       "      <td>0.534119</td>\n",
       "    </tr>\n",
       "    <tr>\n",
       "      <th>1</th>\n",
       "      <td>1.078293</td>\n",
       "      <td>0.551446</td>\n",
       "      <td>0.929605</td>\n",
       "      <td>0.592432</td>\n",
       "    </tr>\n",
       "    <tr>\n",
       "      <th>2</th>\n",
       "      <td>0.829425</td>\n",
       "      <td>0.647515</td>\n",
       "      <td>0.737943</td>\n",
       "      <td>0.687345</td>\n",
       "    </tr>\n",
       "    <tr>\n",
       "      <th>3</th>\n",
       "      <td>0.679931</td>\n",
       "      <td>0.713887</td>\n",
       "      <td>0.633137</td>\n",
       "      <td>0.740074</td>\n",
       "    </tr>\n",
       "    <tr>\n",
       "      <th>4</th>\n",
       "      <td>0.597853</td>\n",
       "      <td>0.745367</td>\n",
       "      <td>0.769295</td>\n",
       "      <td>0.628412</td>\n",
       "    </tr>\n",
       "  </tbody>\n",
       "</table>\n",
       "</div>"
      ],
      "text/plain": [
       "       loss  categorical_accuracy  val_loss  val_categorical_accuracy\n",
       "0  1.311455              0.498643  1.203780                  0.534119\n",
       "1  1.078293              0.551446  0.929605                  0.592432\n",
       "2  0.829425              0.647515  0.737943                  0.687345\n",
       "3  0.679931              0.713887  0.633137                  0.740074\n",
       "4  0.597853              0.745367  0.769295                  0.628412"
      ]
     },
     "execution_count": 25,
     "metadata": {},
     "output_type": "execute_result"
    }
   ],
   "source": [
    "results.head()"
   ]
  },
  {
   "cell_type": "code",
   "execution_count": 26,
   "metadata": {
    "colab": {
     "base_uri": "https://localhost:8080/",
     "height": 338
    },
    "executionInfo": {
     "elapsed": 471,
     "status": "ok",
     "timestamp": 1669636712872,
     "user": {
      "displayName": "Adrian Alfaro",
      "userId": "00261737086905202432"
     },
     "user_tz": -60
    },
    "id": "pinNhY1Cf0Tb",
    "outputId": "e86e67d1-1718-4b96-e193-bdfd572e33af"
   },
   "outputs": [
    {
     "data": {
      "image/png": "[encoded data removed]",
      "text/plain": [
       "<Figure size 800x500 with 1 Axes>"
      ]
     },
     "metadata": {},
     "output_type": "display_data"
    }
   ],
   "source": [
    "results.plot(figsize = (8, 5))\n",
    "plt.grid(True)\n",
    "plt.xlabel (\"Epochs\")\n",
    "plt.ylabel (\"Accuracy - Mean Log Loss\")\n",
    "plt.gca().set_ylim(0, 1)\n",
    "plt.show()"
   ]
  },
  {
   "cell_type": "code",
   "execution_count": 27,
   "metadata": {
    "colab": {
     "base_uri": "https://localhost:8080/"
    },
    "executionInfo": {
     "elapsed": 5,
     "status": "ok",
     "timestamp": 1669636713170,
     "user": {
      "displayName": "Adrian Alfaro",
      "userId": "00261737086905202432"
     },
     "user_tz": -60
    },
    "id": "UuXsm8acA93F",
    "outputId": "f032aa89-2adc-4f56-b1b8-0dc08ac7930f"
   },
   "outputs": [
    {
     "name": "stdout",
     "output_type": "stream",
     "text": [
      "51/51 [==============================] - 0s 1ms/step\n"
     ]
    },
    {
     "data": {
      "text/plain": [
       "array([[0.  , 0.  , 0.18, 0.82],\n",
       "       [0.97, 0.03, 0.  , 0.  ],\n",
       "       [0.01, 0.49, 0.5 , 0.  ],\n",
       "       [0.  , 0.58, 0.42, 0.  ],\n",
       "       [1.  , 0.  , 0.  , 0.  ],\n",
       "       [0.  , 0.  , 0.  , 1.  ],\n",
       "       [0.77, 0.23, 0.  , 0.  ],\n",
       "       [0.02, 0.41, 0.57, 0.  ],\n",
       "       [0.  , 0.01, 0.99, 0.  ],\n",
       "       [0.  , 0.41, 0.59, 0.  ],\n",
       "       [0.  , 0.  , 0.05, 0.95],\n",
       "       [0.  , 0.39, 0.61, 0.  ],\n",
       "       [0.  , 0.01, 0.92, 0.07],\n",
       "       [0.  , 0.99, 0.01, 0.  ],\n",
       "       [0.85, 0.15, 0.  , 0.  ],\n",
       "       [1.  , 0.  , 0.  , 0.  ],\n",
       "       [0.  , 0.  , 0.  , 1.  ],\n",
       "       [0.  , 0.  , 0.01, 0.99],\n",
       "       [0.  , 0.  , 0.  , 1.  ],\n",
       "       [0.  , 0.03, 0.64, 0.33]], dtype=float32)"
      ]
     },
     "execution_count": 27,
     "metadata": {},
     "output_type": "execute_result"
    }
   ],
   "source": [
    "dev_predictions=model.predict(x_dev).round(2)\n",
    "dev_predictions[:20]"
   ]
  },
  {
   "cell_type": "code",
   "execution_count": 28,
   "metadata": {
    "colab": {
     "base_uri": "https://localhost:8080/"
    },
    "executionInfo": {
     "elapsed": 5,
     "status": "ok",
     "timestamp": 1669636713171,
     "user": {
      "displayName": "Adrian Alfaro",
      "userId": "00261737086905202432"
     },
     "user_tz": -60
    },
    "id": "TXx_47NaA97W",
    "outputId": "c92933cb-78be-4883-b8ab-bb590e0103b0"
   },
   "outputs": [
    {
     "data": {
      "text/plain": [
       "array([[0., 0., 0., 1.],\n",
       "       [1., 0., 0., 0.],\n",
       "       [0., 0., 1., 0.],\n",
       "       [0., 1., 0., 0.],\n",
       "       [1., 0., 0., 0.],\n",
       "       [0., 0., 0., 1.],\n",
       "       [1., 0., 0., 0.],\n",
       "       [0., 0., 1., 0.],\n",
       "       [0., 0., 1., 0.],\n",
       "       [0., 0., 1., 0.],\n",
       "       [0., 0., 0., 1.],\n",
       "       [0., 0., 1., 0.],\n",
       "       [0., 0., 1., 0.],\n",
       "       [0., 1., 0., 0.],\n",
       "       [1., 0., 0., 0.],\n",
       "       [1., 0., 0., 0.],\n",
       "       [0., 0., 0., 1.],\n",
       "       [0., 0., 0., 1.],\n",
       "       [0., 0., 0., 1.],\n",
       "       [0., 0., 1., 0.]], dtype=float32)"
      ]
     },
     "execution_count": 28,
     "metadata": {},
     "output_type": "execute_result"
    }
   ],
   "source": [
    "dev_rounded_predictions=np.round(dev_predictions)\n",
    "indices = np.argmax(dev_predictions,1)\n",
    "for row, index in zip(dev_rounded_predictions, indices): row[index]=1\n",
    "dev_rounded_predictions[:20]"
   ]
  },
  {
   "cell_type": "code",
   "execution_count": 29,
   "metadata": {
    "colab": {
     "base_uri": "https://localhost:8080/"
    },
    "executionInfo": {
     "elapsed": 3,
     "status": "ok",
     "timestamp": 1669636713484,
     "user": {
      "displayName": "Adrian Alfaro",
      "userId": "00261737086905202432"
     },
     "user_tz": -60
    },
    "id": "WT618l0cBNjw",
    "outputId": "c24d0cf3-992a-4cf1-9a1e-d0eba7a28ba9"
   },
   "outputs": [
    {
     "data": {
      "text/plain": [
       "array([[0., 0., 1., 0.],\n",
       "       [1., 0., 0., 0.],\n",
       "       [0., 1., 0., 0.],\n",
       "       [0., 1., 0., 0.],\n",
       "       [1., 0., 0., 0.],\n",
       "       [0., 0., 0., 1.],\n",
       "       [1., 0., 0., 0.],\n",
       "       [0., 0., 1., 0.],\n",
       "       [0., 1., 0., 0.],\n",
       "       [0., 0., 1., 0.],\n",
       "       [0., 0., 0., 1.],\n",
       "       [0., 0., 1., 0.],\n",
       "       [0., 0., 1., 0.],\n",
       "       [0., 1., 0., 0.],\n",
       "       [1., 0., 0., 0.],\n",
       "       [1., 0., 0., 0.],\n",
       "       [0., 0., 0., 1.],\n",
       "       [0., 0., 0., 1.],\n",
       "       [0., 0., 1., 0.],\n",
       "       [0., 0., 1., 0.]])"
      ]
     },
     "execution_count": 29,
     "metadata": {},
     "output_type": "execute_result"
    }
   ],
   "source": [
    "t_dev[:20] #target classes"
   ]
  },
  {
   "cell_type": "code",
   "execution_count": 30,
   "metadata": {
    "colab": {
     "base_uri": "https://localhost:8080/"
    },
    "executionInfo": {
     "elapsed": 2,
     "status": "ok",
     "timestamp": 1669636713791,
     "user": {
      "displayName": "Adrian Alfaro",
      "userId": "00261737086905202432"
     },
     "user_tz": -60
    },
    "id": "QsEkALnZBTOf",
    "outputId": "b2ac8633-62c3-4416-ab35-6aa659760118"
   },
   "outputs": [
    {
     "name": "stdout",
     "output_type": "stream",
     "text": [
      "[False  True False  True  True  True  True  True False  True  True  True\n",
      "  True  True  True  True  True  True False  True  True  True False False\n",
      "  True False  True  True  True  True]\n"
     ]
    }
   ],
   "source": [
    "dev_correct_predictions = np.equal(np.argmax(dev_rounded_predictions,1),np.argmax(t_dev,1))\n",
    "print (dev_correct_predictions[:30])"
   ]
  },
  {
   "cell_type": "code",
   "execution_count": 31,
   "metadata": {
    "colab": {
     "base_uri": "https://localhost:8080/"
    },
    "executionInfo": {
     "elapsed": 3,
     "status": "ok",
     "timestamp": 1669636717061,
     "user": {
      "displayName": "Adrian Alfaro",
      "userId": "00261737086905202432"
     },
     "user_tz": -60
    },
    "id": "XJ4L_Tw8BXpd",
    "outputId": "4527e23e-b3ab-40a1-d847-36de834f713c"
   },
   "outputs": [
    {
     "data": {
      "text/plain": [
       "Counter({False: 302, True: 1310})"
      ]
     },
     "execution_count": 31,
     "metadata": {},
     "output_type": "execute_result"
    }
   ],
   "source": [
    "from collections import Counter\n",
    "Counter (dev_correct_predictions)"
   ]
  },
  {
   "cell_type": "markdown",
   "metadata": {
    "id": "X18ko6cKgbol"
   },
   "source": [
    "## Final Test"
   ]
  },
  {
   "cell_type": "code",
   "execution_count": 32,
   "metadata": {
    "colab": {
     "base_uri": "https://localhost:8080/"
    },
    "executionInfo": {
     "elapsed": 1264,
     "status": "ok",
     "timestamp": 1669636720712,
     "user": {
      "displayName": "Adrian Alfaro",
      "userId": "00261737086905202432"
     },
     "user_tz": -60
    },
    "id": "NrQEjtx3genT",
    "outputId": "1f7ec8b7-cff4-4077-ecc5-cdd5c23f6184"
   },
   "outputs": [
    {
     "name": "stdout",
     "output_type": "stream",
     "text": [
      "51/51 [==============================] - 0s 2ms/step - loss: 0.4735 - categorical_accuracy: 0.8041\n",
      "Final Test Accuracy:  80.409175157547 %\n"
     ]
    }
   ],
   "source": [
    "final_results = model.evaluate(x_final_test, t_final_test)\n",
    "\n",
    "print (\"Final Test Accuracy: \", final_results[1] * 100, \"%\")"
   ]
  },
  {
   "cell_type": "code",
   "execution_count": null,
   "metadata": {
    "id": "Di1LD9y6GoDA"
   },
   "outputs": [],
   "source": []
  }
 ],
 "metadata": {
  "colab": {
   "authorship_tag": "ABX9TyORe239lEt06lfftzQGjcCi",
   "provenance": []
  },
  "kernelspec": {
   "display_name": "Python 3 (ipykernel)",
   "language": "python",
   "name": "python3"
  },
  "language_info": {
   "codemirror_mode": {
    "name": "ipython",
    "version": 3
   },
   "file_extension": ".py",
   "mimetype": "text/x-python",
   "name": "python",
   "nbconvert_exporter": "python",
   "pygments_lexer": "ipython3",
   "version": "3.8.10"
  }
 },
 "nbformat": 4,
 "nbformat_minor": 4
}
