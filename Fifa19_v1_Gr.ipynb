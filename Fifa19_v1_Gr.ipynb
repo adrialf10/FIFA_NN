{
 "cells": [
  {
   "cell_type": "code",
   "execution_count": 31,
   "metadata": {
    "colab": {
     "base_uri": "https://localhost:8080/"
    },
    "executionInfo": {
     "elapsed": 5116,
     "status": "ok",
     "timestamp": 1669635933788,
     "user": {
      "displayName": "Adrian Alfaro",
      "userId": "00261737086905202432"
     },
     "user_tz": -60
    },
    "id": "CWfFqhFQ-ZXW",
    "outputId": "bc195e63-f057-465f-e2e3-3af0aba8585a"
   },
   "outputs": [],
   "source": [
    "import tensorflow as tf\n",
    "from tensorflow import keras\n",
    "import pandas as pd\n",
    "import matplotlib.pyplot as plt\n",
    "import time\n",
    "import numpy as np\n",
    "from sklearn.model_selection import train_test_split\n",
    "#print(\"Tensorflow version: \"+ tf.__version__)"
   ]
  },
  {
   "cell_type": "code",
   "execution_count": 32,
   "metadata": {
    "colab": {
     "base_uri": "https://localhost:8080/"
    },
    "executionInfo": {
     "elapsed": 112169,
     "status": "ok",
     "timestamp": 1669636045948,
     "user": {
      "displayName": "Adrian Alfaro",
      "userId": "00261737086905202432"
     },
     "user_tz": -60
    },
    "id": "kbUTGBou-4Zh",
    "outputId": "7d5f7b21-0255-499f-f74f-ccf93c863a2d"
   },
   "outputs": [],
   "source": [
    "# Google file system\n",
    "COLAB=False\n",
    "if COLAB==True:\n",
    "    from google.colab import drive\n",
    "    drive.mount('/GoogleDrive', force_remount=True)\n",
    "\n",
    "ATT_FILE =   \"datasets/FootballPlayerPreparedCleanAttributes.csv\"\n",
    "LABEL_FILE = \"datasets/FootballPlayerOneHotEncodedClasses.csv\"\n",
    "\n",
    "attributes = pd.read_csv(ATT_FILE)\n",
    "label =      pd.read_csv(LABEL_FILE)"
   ]
  },
  {
   "cell_type": "markdown",
   "metadata": {
    "id": "r1Njeo4rNWjS"
   },
   "source": [
    "## Datasets"
   ]
  },
  {
   "cell_type": "code",
   "execution_count": 33,
   "metadata": {},
   "outputs": [
    {
     "data": {
      "text/plain": [
       "(16122, 17)"
      ]
     },
     "execution_count": 33,
     "metadata": {},
     "output_type": "execute_result"
    }
   ],
   "source": [
    "attributes.shape"
   ]
  },
  {
   "cell_type": "code",
   "execution_count": 34,
   "metadata": {
    "executionInfo": {
     "elapsed": 26,
     "status": "ok",
     "timestamp": 1669636045949,
     "user": {
      "displayName": "Adrian Alfaro",
      "userId": "00261737086905202432"
     },
     "user_tz": -60
    },
    "id": "cn2D4GXyGysi"
   },
   "outputs": [],
   "source": [
    "TRAIN_RATE = 0.8\n",
    "\n",
    "n_instances = attributes.shape[0]\n",
    "\n",
    "n_train = int(n_instances*TRAIN_RATE)\n",
    "n_dev = int((n_instances-n_train)/2)\n",
    "n_final_test = n_instances-n_train-n_dev"
   ]
  },
  {
   "cell_type": "code",
   "execution_count": 35,
   "metadata": {
    "colab": {
     "base_uri": "https://localhost:8080/"
    },
    "executionInfo": {
     "elapsed": 23,
     "status": "ok",
     "timestamp": 1669636045950,
     "user": {
      "displayName": "Adrian Alfaro",
      "userId": "00261737086905202432"
     },
     "user_tz": -60
    },
    "id": "OYYe1D8qG8Ly",
    "outputId": "43581345-0d4a-46a0-8e82-91fb6ceff6e4"
   },
   "outputs": [
    {
     "name": "stdout",
     "output_type": "stream",
     "text": [
      "Total: 16122 | Train: 12897 | Dev Test: 1612  | Final Test: 1613\n"
     ]
    }
   ],
   "source": [
    "print(\"Total:\", n_instances, \"| Train:\", n_train, \"| Dev Test:\", n_dev,\" | Final Test:\", n_final_test)"
   ]
  },
  {
   "cell_type": "code",
   "execution_count": 36,
   "metadata": {
    "executionInfo": {
     "elapsed": 17,
     "status": "ok",
     "timestamp": 1669636045950,
     "user": {
      "displayName": "Adrian Alfaro",
      "userId": "00261737086905202432"
     },
     "user_tz": -60
    },
    "id": "7VJf-ISmJuFz"
   },
   "outputs": [],
   "source": [
    "x_train, X_test, t_train, y_test = train_test_split(attributes,label,\n",
    "                                                    test_size=1-TRAIN_RATE,\n",
    "                                                    random_state=1992,\n",
    "                                                    stratify=label)\n",
    "\n",
    "x_final_test, x_dev, t_final_test, t_dev = train_test_split(X_test,y_test,\n",
    "                                            test_size=0.5,\n",
    "                                            random_state=1992)\n",
    "INPUTS = x_train.shape[1]\n",
    "OUTPUTS = t_train.shape[1]"
   ]
  },
  {
   "cell_type": "code",
   "execution_count": 37,
   "metadata": {
    "colab": {
     "base_uri": "https://localhost:8080/"
    },
    "executionInfo": {
     "elapsed": 17,
     "status": "ok",
     "timestamp": 1669636045951,
     "user": {
      "displayName": "Adrian Alfaro",
      "userId": "00261737086905202432"
     },
     "user_tz": -60
    },
    "id": "rln6gYncKDQG",
    "outputId": "594ff864-9796-416f-b833-cac245da1a95"
   },
   "outputs": [
    {
     "name": "stdout",
     "output_type": "stream",
     "text": [
      "X_train: (12897, 17) | T_train: (12897, 4)\n",
      "X_dev: (1613, 17) | T_dev: (1613, 4)\n",
      "X_test: (1612, 17) | T_test: (1612, 4)\n"
     ]
    }
   ],
   "source": [
    "print (\"X_train:\", x_train.shape, \"| T_train:\", t_train.shape)\n",
    "print (\"X_dev:\", x_dev.shape, \"| T_dev:\", t_dev.shape)\n",
    "print (\"X_test:\", x_final_test.shape, \"| T_test:\", t_final_test.shape)"
   ]
  },
  {
   "cell_type": "markdown",
   "metadata": {
    "id": "WehesXz6NcVX"
   },
   "source": [
    "## Model"
   ]
  },
  {
   "cell_type": "code",
   "execution_count": 38,
   "metadata": {
    "executionInfo": {
     "elapsed": 16,
     "status": "ok",
     "timestamp": 1669636045953,
     "user": {
      "displayName": "Adrian Alfaro",
      "userId": "00261737086905202432"
     },
     "user_tz": -60
    },
    "id": "jS07DPaeNs6N"
   },
   "outputs": [],
   "source": [
    "n_neurons_per_layer = [128, 64, 32, 16]\n",
    "learning_rate = 0.1\n",
    "n_epochs = 500\n",
    "batch_size = 256"
   ]
  },
  {
   "cell_type": "code",
   "execution_count": 39,
   "metadata": {
    "executionInfo": {
     "elapsed": 14,
     "status": "ok",
     "timestamp": 1669636045954,
     "user": {
      "displayName": "Adrian Alfaro",
      "userId": "00261737086905202432"
     },
     "user_tz": -60
    },
    "id": "cqumzJEGWw1k"
   },
   "outputs": [],
   "source": [
    "model = keras.Sequential(name = \"FifaNetwork\")"
   ]
  },
  {
   "cell_type": "code",
   "execution_count": 40,
   "metadata": {
    "executionInfo": {
     "elapsed": 439,
     "status": "ok",
     "timestamp": 1669636046382,
     "user": {
      "displayName": "Adrian Alfaro",
      "userId": "00261737086905202432"
     },
     "user_tz": -60
    },
    "id": "mYJoEVA0Xj_A"
   },
   "outputs": [],
   "source": [
    "model.add(keras.layers.InputLayer(input_shape=(INPUTS,)))\n",
    "\n",
    "for neurons in n_neurons_per_layer:\n",
    "  model.add(keras.layers.Dense(neurons, activation=\"relu\"))\n",
    "\n",
    "model.add(keras.layers.Dense(OUTPUTS, activation=\"softmax\"))"
   ]
  },
  {
   "cell_type": "code",
   "execution_count": 41,
   "metadata": {
    "colab": {
     "base_uri": "https://localhost:8080/"
    },
    "executionInfo": {
     "elapsed": 17,
     "status": "ok",
     "timestamp": 1669636046383,
     "user": {
      "displayName": "Adrian Alfaro",
      "userId": "00261737086905202432"
     },
     "user_tz": -60
    },
    "id": "Dw12jcQxZOT_",
    "outputId": "b0805fb0-5dad-4e77-fb63-cd4b77c5e0bb"
   },
   "outputs": [
    {
     "name": "stdout",
     "output_type": "stream",
     "text": [
      "Model: \"FifaNetwork\"\n",
      "_________________________________________________________________\n",
      " Layer (type)                Output Shape              Param #   \n",
      "=================================================================\n",
      " dense_5 (Dense)             (None, 128)               2304      \n",
      "                                                                 \n",
      " dense_6 (Dense)             (None, 64)                8256      \n",
      "                                                                 \n",
      " dense_7 (Dense)             (None, 32)                2080      \n",
      "                                                                 \n",
      " dense_8 (Dense)             (None, 16)                528       \n",
      "                                                                 \n",
      " dense_9 (Dense)             (None, 4)                 68        \n",
      "                                                                 \n",
      "=================================================================\n",
      "Total params: 13,236\n",
      "Trainable params: 13,236\n",
      "Non-trainable params: 0\n",
      "_________________________________________________________________\n"
     ]
    }
   ],
   "source": [
    "model.summary()"
   ]
  },
  {
   "cell_type": "code",
   "execution_count": 42,
   "metadata": {},
   "outputs": [],
   "source": [
    "num_train_steps=(n_train // batch_size)*n_epochs\n",
    "lr_scheduler = tf.keras.optimizers.schedules.PolynomialDecay(initial_learning_rate=learning_rate,\n",
    "                               end_learning_rate=1e-6,\n",
    "                               decay_steps=num_train_steps)"
   ]
  },
  {
   "cell_type": "code",
   "execution_count": 43,
   "metadata": {
    "executionInfo": {
     "elapsed": 9,
     "status": "ok",
     "timestamp": 1669636046383,
     "user": {
      "displayName": "Adrian Alfaro",
      "userId": "00261737086905202432"
     },
     "user_tz": -60
    },
    "id": "GVfGbkr0b1Vl"
   },
   "outputs": [],
   "source": [
    "model.compile(optimizer = tf.keras.optimizers.SGD(learning_rate = lr_scheduler),\n",
    "              loss = tf.keras.losses.categorical_crossentropy,\n",
    "              metrics = [\"categorical_accuracy\"])"
   ]
  },
  {
   "cell_type": "code",
   "execution_count": 44,
   "metadata": {},
   "outputs": [
    {
     "data": {
      "image/svg+xml": [
       "<svg xmlns=\"http://www.w3.org/2000/svg\" xmlns:xlink=\"http://www.w3.org/1999/xlink\" width=\"364pt\" height=\"627pt\" viewBox=\"0.00 0.00 273.00 470.00\">\n",
       "<g id=\"graph0\" class=\"graph\" transform=\"scale(0.75 0.75) rotate(0) translate(4 466)\">\n",
       "<title>G</title>\n",
       "<polygon fill=\"white\" stroke=\"transparent\" points=\"-4,4 -4,-466 269,-466 269,4 -4,4\"/>\n",
       "<!-- 140577419203968 -->\n",
       "<g id=\"node1\" class=\"node\">\n",
       "<title>140577419203968</title>\n",
       "<polygon fill=\"none\" stroke=\"black\" points=\"0,-415.5 0,-461.5 265,-461.5 265,-415.5 0,-415.5\"/>\n",
       "<text text-anchor=\"middle\" x=\"47.5\" y=\"-446.3\" font-family=\"Times,serif\" font-size=\"14.00\">input_2</text>\n",
       "<polyline fill=\"none\" stroke=\"black\" points=\"0,-438.5 95,-438.5 \"/>\n",
       "<text text-anchor=\"middle\" x=\"47.5\" y=\"-423.3\" font-family=\"Times,serif\" font-size=\"14.00\">InputLayer</text>\n",
       "<polyline fill=\"none\" stroke=\"black\" points=\"95,-415.5 95,-461.5 \"/>\n",
       "<text text-anchor=\"middle\" x=\"129\" y=\"-446.3\" font-family=\"Times,serif\" font-size=\"14.00\">input:</text>\n",
       "<polyline fill=\"none\" stroke=\"black\" points=\"95,-438.5 163,-438.5 \"/>\n",
       "<text text-anchor=\"middle\" x=\"129\" y=\"-423.3\" font-family=\"Times,serif\" font-size=\"14.00\">output:</text>\n",
       "<polyline fill=\"none\" stroke=\"black\" points=\"163,-415.5 163,-461.5 \"/>\n",
       "<text text-anchor=\"middle\" x=\"214\" y=\"-446.3\" font-family=\"Times,serif\" font-size=\"14.00\">[(None, 17)]</text>\n",
       "<polyline fill=\"none\" stroke=\"black\" points=\"163,-438.5 265,-438.5 \"/>\n",
       "<text text-anchor=\"middle\" x=\"214\" y=\"-423.3\" font-family=\"Times,serif\" font-size=\"14.00\">[(None, 17)]</text>\n",
       "</g>\n",
       "<!-- 140577419204496 -->\n",
       "<g id=\"node2\" class=\"node\">\n",
       "<title>140577419204496</title>\n",
       "<polygon fill=\"none\" stroke=\"black\" points=\"11,-332.5 11,-378.5 254,-378.5 254,-332.5 11,-332.5\"/>\n",
       "<text text-anchor=\"middle\" x=\"48\" y=\"-363.3\" font-family=\"Times,serif\" font-size=\"14.00\">dense_5</text>\n",
       "<polyline fill=\"none\" stroke=\"black\" points=\"11,-355.5 85,-355.5 \"/>\n",
       "<text text-anchor=\"middle\" x=\"48\" y=\"-340.3\" font-family=\"Times,serif\" font-size=\"14.00\">Dense</text>\n",
       "<polyline fill=\"none\" stroke=\"black\" points=\"85,-332.5 85,-378.5 \"/>\n",
       "<text text-anchor=\"middle\" x=\"119\" y=\"-363.3\" font-family=\"Times,serif\" font-size=\"14.00\">input:</text>\n",
       "<polyline fill=\"none\" stroke=\"black\" points=\"85,-355.5 153,-355.5 \"/>\n",
       "<text text-anchor=\"middle\" x=\"119\" y=\"-340.3\" font-family=\"Times,serif\" font-size=\"14.00\">output:</text>\n",
       "<polyline fill=\"none\" stroke=\"black\" points=\"153,-332.5 153,-378.5 \"/>\n",
       "<text text-anchor=\"middle\" x=\"203.5\" y=\"-363.3\" font-family=\"Times,serif\" font-size=\"14.00\">(None, 17)</text>\n",
       "<polyline fill=\"none\" stroke=\"black\" points=\"153,-355.5 254,-355.5 \"/>\n",
       "<text text-anchor=\"middle\" x=\"203.5\" y=\"-340.3\" font-family=\"Times,serif\" font-size=\"14.00\">(None, 128)</text>\n",
       "</g>\n",
       "<!-- 140577419203968&#45;&gt;140577419204496 -->\n",
       "<g id=\"edge1\" class=\"edge\">\n",
       "<title>140577419203968-&gt;140577419204496</title>\n",
       "<path fill=\"none\" stroke=\"black\" d=\"M132.5,-415.37C132.5,-407.15 132.5,-397.66 132.5,-388.73\"/>\n",
       "<polygon fill=\"black\" stroke=\"black\" points=\"136,-388.61 132.5,-378.61 129,-388.61 136,-388.61\"/>\n",
       "</g>\n",
       "<!-- 140577418656928 -->\n",
       "<g id=\"node3\" class=\"node\">\n",
       "<title>140577418656928</title>\n",
       "<polygon fill=\"none\" stroke=\"black\" points=\"11,-249.5 11,-295.5 254,-295.5 254,-249.5 11,-249.5\"/>\n",
       "<text text-anchor=\"middle\" x=\"48\" y=\"-280.3\" font-family=\"Times,serif\" font-size=\"14.00\">dense_6</text>\n",
       "<polyline fill=\"none\" stroke=\"black\" points=\"11,-272.5 85,-272.5 \"/>\n",
       "<text text-anchor=\"middle\" x=\"48\" y=\"-257.3\" font-family=\"Times,serif\" font-size=\"14.00\">Dense</text>\n",
       "<polyline fill=\"none\" stroke=\"black\" points=\"85,-249.5 85,-295.5 \"/>\n",
       "<text text-anchor=\"middle\" x=\"119\" y=\"-280.3\" font-family=\"Times,serif\" font-size=\"14.00\">input:</text>\n",
       "<polyline fill=\"none\" stroke=\"black\" points=\"85,-272.5 153,-272.5 \"/>\n",
       "<text text-anchor=\"middle\" x=\"119\" y=\"-257.3\" font-family=\"Times,serif\" font-size=\"14.00\">output:</text>\n",
       "<polyline fill=\"none\" stroke=\"black\" points=\"153,-249.5 153,-295.5 \"/>\n",
       "<text text-anchor=\"middle\" x=\"203.5\" y=\"-280.3\" font-family=\"Times,serif\" font-size=\"14.00\">(None, 128)</text>\n",
       "<polyline fill=\"none\" stroke=\"black\" points=\"153,-272.5 254,-272.5 \"/>\n",
       "<text text-anchor=\"middle\" x=\"203.5\" y=\"-257.3\" font-family=\"Times,serif\" font-size=\"14.00\">(None, 64)</text>\n",
       "</g>\n",
       "<!-- 140577419204496&#45;&gt;140577418656928 -->\n",
       "<g id=\"edge2\" class=\"edge\">\n",
       "<title>140577419204496-&gt;140577418656928</title>\n",
       "<path fill=\"none\" stroke=\"black\" d=\"M132.5,-332.37C132.5,-324.15 132.5,-314.66 132.5,-305.73\"/>\n",
       "<polygon fill=\"black\" stroke=\"black\" points=\"136,-305.61 132.5,-295.61 129,-305.61 136,-305.61\"/>\n",
       "</g>\n",
       "<!-- 140577414300912 -->\n",
       "<g id=\"node4\" class=\"node\">\n",
       "<title>140577414300912</title>\n",
       "<polygon fill=\"none\" stroke=\"black\" points=\"15.5,-166.5 15.5,-212.5 249.5,-212.5 249.5,-166.5 15.5,-166.5\"/>\n",
       "<text text-anchor=\"middle\" x=\"52.5\" y=\"-197.3\" font-family=\"Times,serif\" font-size=\"14.00\">dense_7</text>\n",
       "<polyline fill=\"none\" stroke=\"black\" points=\"15.5,-189.5 89.5,-189.5 \"/>\n",
       "<text text-anchor=\"middle\" x=\"52.5\" y=\"-174.3\" font-family=\"Times,serif\" font-size=\"14.00\">Dense</text>\n",
       "<polyline fill=\"none\" stroke=\"black\" points=\"89.5,-166.5 89.5,-212.5 \"/>\n",
       "<text text-anchor=\"middle\" x=\"123.5\" y=\"-197.3\" font-family=\"Times,serif\" font-size=\"14.00\">input:</text>\n",
       "<polyline fill=\"none\" stroke=\"black\" points=\"89.5,-189.5 157.5,-189.5 \"/>\n",
       "<text text-anchor=\"middle\" x=\"123.5\" y=\"-174.3\" font-family=\"Times,serif\" font-size=\"14.00\">output:</text>\n",
       "<polyline fill=\"none\" stroke=\"black\" points=\"157.5,-166.5 157.5,-212.5 \"/>\n",
       "<text text-anchor=\"middle\" x=\"203.5\" y=\"-197.3\" font-family=\"Times,serif\" font-size=\"14.00\">(None, 64)</text>\n",
       "<polyline fill=\"none\" stroke=\"black\" points=\"157.5,-189.5 249.5,-189.5 \"/>\n",
       "<text text-anchor=\"middle\" x=\"203.5\" y=\"-174.3\" font-family=\"Times,serif\" font-size=\"14.00\">(None, 32)</text>\n",
       "</g>\n",
       "<!-- 140577418656928&#45;&gt;140577414300912 -->\n",
       "<g id=\"edge3\" class=\"edge\">\n",
       "<title>140577418656928-&gt;140577414300912</title>\n",
       "<path fill=\"none\" stroke=\"black\" d=\"M132.5,-249.37C132.5,-241.15 132.5,-231.66 132.5,-222.73\"/>\n",
       "<polygon fill=\"black\" stroke=\"black\" points=\"136,-222.61 132.5,-212.61 129,-222.61 136,-222.61\"/>\n",
       "</g>\n",
       "<!-- 140577412902432 -->\n",
       "<g id=\"node5\" class=\"node\">\n",
       "<title>140577412902432</title>\n",
       "<polygon fill=\"none\" stroke=\"black\" points=\"15.5,-83.5 15.5,-129.5 249.5,-129.5 249.5,-83.5 15.5,-83.5\"/>\n",
       "<text text-anchor=\"middle\" x=\"52.5\" y=\"-114.3\" font-family=\"Times,serif\" font-size=\"14.00\">dense_8</text>\n",
       "<polyline fill=\"none\" stroke=\"black\" points=\"15.5,-106.5 89.5,-106.5 \"/>\n",
       "<text text-anchor=\"middle\" x=\"52.5\" y=\"-91.3\" font-family=\"Times,serif\" font-size=\"14.00\">Dense</text>\n",
       "<polyline fill=\"none\" stroke=\"black\" points=\"89.5,-83.5 89.5,-129.5 \"/>\n",
       "<text text-anchor=\"middle\" x=\"123.5\" y=\"-114.3\" font-family=\"Times,serif\" font-size=\"14.00\">input:</text>\n",
       "<polyline fill=\"none\" stroke=\"black\" points=\"89.5,-106.5 157.5,-106.5 \"/>\n",
       "<text text-anchor=\"middle\" x=\"123.5\" y=\"-91.3\" font-family=\"Times,serif\" font-size=\"14.00\">output:</text>\n",
       "<polyline fill=\"none\" stroke=\"black\" points=\"157.5,-83.5 157.5,-129.5 \"/>\n",
       "<text text-anchor=\"middle\" x=\"203.5\" y=\"-114.3\" font-family=\"Times,serif\" font-size=\"14.00\">(None, 32)</text>\n",
       "<polyline fill=\"none\" stroke=\"black\" points=\"157.5,-106.5 249.5,-106.5 \"/>\n",
       "<text text-anchor=\"middle\" x=\"203.5\" y=\"-91.3\" font-family=\"Times,serif\" font-size=\"14.00\">(None, 16)</text>\n",
       "</g>\n",
       "<!-- 140577414300912&#45;&gt;140577412902432 -->\n",
       "<g id=\"edge4\" class=\"edge\">\n",
       "<title>140577414300912-&gt;140577412902432</title>\n",
       "<path fill=\"none\" stroke=\"black\" d=\"M132.5,-166.37C132.5,-158.15 132.5,-148.66 132.5,-139.73\"/>\n",
       "<polygon fill=\"black\" stroke=\"black\" points=\"136,-139.61 132.5,-129.61 129,-139.61 136,-139.61\"/>\n",
       "</g>\n",
       "<!-- 140577419205744 -->\n",
       "<g id=\"node6\" class=\"node\">\n",
       "<title>140577419205744</title>\n",
       "<polygon fill=\"none\" stroke=\"black\" points=\"15.5,-0.5 15.5,-46.5 249.5,-46.5 249.5,-0.5 15.5,-0.5\"/>\n",
       "<text text-anchor=\"middle\" x=\"52.5\" y=\"-31.3\" font-family=\"Times,serif\" font-size=\"14.00\">dense_9</text>\n",
       "<polyline fill=\"none\" stroke=\"black\" points=\"15.5,-23.5 89.5,-23.5 \"/>\n",
       "<text text-anchor=\"middle\" x=\"52.5\" y=\"-8.3\" font-family=\"Times,serif\" font-size=\"14.00\">Dense</text>\n",
       "<polyline fill=\"none\" stroke=\"black\" points=\"89.5,-0.5 89.5,-46.5 \"/>\n",
       "<text text-anchor=\"middle\" x=\"123.5\" y=\"-31.3\" font-family=\"Times,serif\" font-size=\"14.00\">input:</text>\n",
       "<polyline fill=\"none\" stroke=\"black\" points=\"89.5,-23.5 157.5,-23.5 \"/>\n",
       "<text text-anchor=\"middle\" x=\"123.5\" y=\"-8.3\" font-family=\"Times,serif\" font-size=\"14.00\">output:</text>\n",
       "<polyline fill=\"none\" stroke=\"black\" points=\"157.5,-0.5 157.5,-46.5 \"/>\n",
       "<text text-anchor=\"middle\" x=\"203.5\" y=\"-31.3\" font-family=\"Times,serif\" font-size=\"14.00\">(None, 16)</text>\n",
       "<polyline fill=\"none\" stroke=\"black\" points=\"157.5,-23.5 249.5,-23.5 \"/>\n",
       "<text text-anchor=\"middle\" x=\"203.5\" y=\"-8.3\" font-family=\"Times,serif\" font-size=\"14.00\">(None, 4)</text>\n",
       "</g>\n",
       "<!-- 140577412902432&#45;&gt;140577419205744 -->\n",
       "<g id=\"edge5\" class=\"edge\">\n",
       "<title>140577412902432-&gt;140577419205744</title>\n",
       "<path fill=\"none\" stroke=\"black\" d=\"M132.5,-83.37C132.5,-75.15 132.5,-65.66 132.5,-56.73\"/>\n",
       "<polygon fill=\"black\" stroke=\"black\" points=\"136,-56.61 132.5,-46.61 129,-56.61 136,-56.61\"/>\n",
       "</g>\n",
       "</g>\n",
       "</svg>"
      ],
      "text/plain": [
       "<IPython.core.display.SVG object>"
      ]
     },
     "metadata": {},
     "output_type": "display_data"
    }
   ],
   "source": [
    "from IPython.display import SVG\n",
    "from keras.utils.vis_utils import model_to_dot\n",
    "\n",
    "if COLAB:\n",
    "    display(SVG(model_to_dot(model, show_shapes=True,dpi=72).create(prog='dot', format='svg')))\n",
    "else:\n",
    "    display(SVG(model_to_dot(model, show_shapes=True).create(prog='dot', format='svg')))"
   ]
  },
  {
   "cell_type": "markdown",
   "metadata": {
    "id": "u53L_NrodLFj"
   },
   "source": [
    "## Training"
   ]
  },
  {
   "cell_type": "code",
   "execution_count": 45,
   "metadata": {},
   "outputs": [],
   "source": [
    "from matplotlib.ticker import MaxNLocator\n",
    "\n",
    "def grafica_entrenamiento(tr_acc, val_acc, tr_loss, val_loss, best_i,\n",
    "                          figsize=(10,4)):\n",
    "    plt.figure(figsize=figsize)\n",
    "    ax = plt.subplot(1,2,1)\n",
    "    plt.plot(1+np.arange(len(tr_acc)),  100*np.array(tr_acc))\n",
    "    plt.plot(1+np.arange(len(val_acc)), 100*np.array(val_acc))\n",
    "    plt.plot(1+best_i, 100*val_acc[best_i], 'or')\n",
    "    plt.title('tasa de acierto del modelo (%)', fontsize=18)\n",
    "    plt.ylabel('tasa de acierto (%)', fontsize=18)\n",
    "    plt.xlabel('época', fontsize=18)\n",
    "    plt.legend(['entrenamiento', 'validación'], loc='upper left')\n",
    "    ax.xaxis.set_major_locator(MaxNLocator(integer=True))\n",
    "\n",
    "    plt.subplot(1,2,2)\n",
    "    plt.plot(1+np.arange(len(tr_acc)), np.array(tr_loss))\n",
    "    plt.plot(1+np.arange(len(val_acc)), np.array(val_loss))\n",
    "    plt.plot(1+best_i, val_loss[best_i], 'or')\n",
    "    plt.title('loss del modelo', fontsize=18)\n",
    "    plt.ylabel('loss', fontsize=18)\n",
    "    plt.xlabel('época', fontsize=18)\n",
    "    plt.legend(['entrenamiento', 'validación'], loc='upper left')\n",
    "    ax.xaxis.set_major_locator(MaxNLocator(integer=True))\n",
    "    plt.show()"
   ]
  },
  {
   "cell_type": "code",
   "execution_count": 46,
   "metadata": {},
   "outputs": [],
   "source": [
    "acum_tr_acc = []\n",
    "acum_val_acc = []\n",
    "best_val_acc = -1000\n",
    "acum_tr_loss  = []\n",
    "acum_val_loss = []"
   ]
  },
  {
   "cell_type": "code",
   "execution_count": null,
   "metadata": {},
   "outputs": [],
   "source": []
  },
  {
   "cell_type": "code",
   "execution_count": 47,
   "metadata": {},
   "outputs": [
    {
     "data": {
      "image/png": "[encoded data removed]",
      "text/plain": [
       "<Figure size 1000x400 with 2 Axes>"
      ]
     },
     "metadata": {},
     "output_type": "display_data"
    }
   ],
   "source": [
    "from keras.callbacks import ModelCheckpoint\n",
    "from IPython.display import SVG, display, clear_output\n",
    "\n",
    "start = time.perf_counter()\n",
    "results=pd.DataFrame()\n",
    "modelpath=\"model_current_best.h5\"\n",
    "\n",
    "checkpoint = ModelCheckpoint(modelpath, monitor='val_categorical_accuracy', verbose=1,\n",
    "                             save_best_only=True,\n",
    "                             mode='max') # graba sólo los que mejoran en validación\n",
    "callbacks_list = [checkpoint]\n",
    "for e in range(n_epochs):\n",
    "\n",
    "    history = model.fit(x_train, t_train, \n",
    "                    batch_size = batch_size, \n",
    "                    epochs = 1,\n",
    "                    callbacks=callbacks_list,\n",
    "                    verbose = 1, \n",
    "                    shuffle = True,\n",
    "                    validation_data = (x_dev, t_dev))\n",
    "   \n",
    "    if history.history['val_categorical_accuracy'][-1] > best_val_acc:\n",
    "        print(\"Validation accuracy improved from\",\n",
    "            best_val_acc, 'to', history.history['val_categorical_accuracy'])\n",
    "        best_model=history\n",
    "        print(\"saving weights\")\n",
    "        best_val_acc = history.history['val_categorical_accuracy'][-1]\n",
    "    \n",
    "    acum_tr_acc.append(history.history['categorical_accuracy'][0])\n",
    "    acum_val_acc.append(history.history['val_categorical_accuracy'][0])\n",
    "    acum_tr_loss.append(history.history['loss'][0])\n",
    "    acum_val_loss.append(history.history['val_loss'][0])\n",
    "    \n",
    "    if len(acum_tr_acc) > 1:\n",
    "        clear_output()\n",
    "        best_i = np.argmax(acum_val_acc)\n",
    "        grafica_entrenamiento(acum_tr_acc, acum_val_acc, acum_tr_loss, acum_val_loss, best_i)\n",
    "\n",
    "    \n",
    "    results=pd.concat([results,pd.DataFrame(history.history)])\n",
    "    results_temp = pd.DataFrame(history.history)"
   ]
  },
  {
   "cell_type": "code",
   "execution_count": 49,
   "metadata": {
    "executionInfo": {
     "elapsed": 24,
     "status": "ok",
     "timestamp": 1669636668891,
     "user": {
      "displayName": "Adrian Alfaro",
      "userId": "00261737086905202432"
     },
     "user_tz": -60
    },
    "id": "ChJ-Eee6fw4I"
   },
   "outputs": [],
   "source": [
    "results=results.reset_index(drop=True)"
   ]
  },
  {
   "cell_type": "code",
   "execution_count": 50,
   "metadata": {},
   "outputs": [],
   "source": [
    "from keras.models import load_model\n",
    "model = load_model(modelpath)"
   ]
  },
  {
   "cell_type": "code",
   "execution_count": 51,
   "metadata": {},
   "outputs": [
    {
     "data": {
      "text/plain": [
       "{'loss': [0.37399762868881226],\n",
       " 'categorical_accuracy': [0.840117871761322],\n",
       " 'val_loss': [0.3912414014339447],\n",
       " 'val_categorical_accuracy': [0.8400496244430542]}"
      ]
     },
     "execution_count": 51,
     "metadata": {},
     "output_type": "execute_result"
    }
   ],
   "source": [
    "best_model.history"
   ]
  },
  {
   "cell_type": "code",
   "execution_count": 52,
   "metadata": {},
   "outputs": [
    {
     "data": {
      "text/plain": [
       "[0.8400496244430542]"
      ]
     },
     "execution_count": 52,
     "metadata": {},
     "output_type": "execute_result"
    }
   ],
   "source": [
    "best_model.history['val_categorical_accuracy']"
   ]
  },
  {
   "cell_type": "code",
   "execution_count": 53,
   "metadata": {
    "colab": {
     "base_uri": "https://localhost:8080/"
    },
    "executionInfo": {
     "elapsed": 213,
     "status": "ok",
     "timestamp": 1669636707230,
     "user": {
      "displayName": "Adrian Alfaro",
      "userId": "00261737086905202432"
     },
     "user_tz": -60
    },
    "id": "mEsz9N7HeGF-",
    "outputId": "dbc47f21-9939-4056-eb5a-7e737bfc806c"
   },
   "outputs": [
    {
     "name": "stdout",
     "output_type": "stream",
     "text": [
      "Time:  248.8866118549995 seconds\n",
      "Training Set Error:  15.988212823867798 %\n",
      "Development Set Test Error:  15.99503755569458 %\n",
      "Bias:  5.988212823867798 %\n",
      "Variance:  0.0068247318267822266 %\n"
     ]
    }
   ],
   "source": [
    "print (\"Time: \", time.perf_counter() - start, \"seconds\")\n",
    "\n",
    "human_error = 10\n",
    "train_error = 100 - (best_model.history['categorical_accuracy'][0] * 100)\n",
    "test_error = 100 - (best_model.history['val_categorical_accuracy'][0] * 100)\n",
    "\n",
    "print (\"Training Set Error: \", train_error, \"%\")\n",
    "print (\"Development Set Test Error: \", test_error, \"%\")\n",
    "print (\"Bias: \", train_error - human_error, \"%\")\n",
    "print (\"Variance: \", test_error - train_error, \"%\")"
   ]
  },
  {
   "cell_type": "code",
   "execution_count": 54,
   "metadata": {},
   "outputs": [
    {
     "data": {
      "text/html": [
       "<div>\n",
       "<style scoped>\n",
       "    .dataframe tbody tr th:only-of-type {\n",
       "        vertical-align: middle;\n",
       "    }\n",
       "\n",
       "    .dataframe tbody tr th {\n",
       "        vertical-align: top;\n",
       "    }\n",
       "\n",
       "    .dataframe thead th {\n",
       "        text-align: right;\n",
       "    }\n",
       "</style>\n",
       "<table border=\"1\" class=\"dataframe\">\n",
       "  <thead>\n",
       "    <tr style=\"text-align: right;\">\n",
       "      <th></th>\n",
       "      <th>loss</th>\n",
       "      <th>categorical_accuracy</th>\n",
       "      <th>val_loss</th>\n",
       "      <th>val_categorical_accuracy</th>\n",
       "    </tr>\n",
       "  </thead>\n",
       "  <tbody>\n",
       "    <tr>\n",
       "      <th>0</th>\n",
       "      <td>1.320905</td>\n",
       "      <td>0.423664</td>\n",
       "      <td>1.163347</td>\n",
       "      <td>0.507750</td>\n",
       "    </tr>\n",
       "    <tr>\n",
       "      <th>1</th>\n",
       "      <td>0.970185</td>\n",
       "      <td>0.560673</td>\n",
       "      <td>0.773174</td>\n",
       "      <td>0.669560</td>\n",
       "    </tr>\n",
       "    <tr>\n",
       "      <th>2</th>\n",
       "      <td>0.681262</td>\n",
       "      <td>0.704195</td>\n",
       "      <td>0.584034</td>\n",
       "      <td>0.753255</td>\n",
       "    </tr>\n",
       "    <tr>\n",
       "      <th>3</th>\n",
       "      <td>0.637213</td>\n",
       "      <td>0.714197</td>\n",
       "      <td>0.534505</td>\n",
       "      <td>0.766894</td>\n",
       "    </tr>\n",
       "    <tr>\n",
       "      <th>4</th>\n",
       "      <td>0.578741</td>\n",
       "      <td>0.741645</td>\n",
       "      <td>0.484233</td>\n",
       "      <td>0.796032</td>\n",
       "    </tr>\n",
       "  </tbody>\n",
       "</table>\n",
       "</div>"
      ],
      "text/plain": [
       "       loss  categorical_accuracy  val_loss  val_categorical_accuracy\n",
       "0  1.320905              0.423664  1.163347                  0.507750\n",
       "1  0.970185              0.560673  0.773174                  0.669560\n",
       "2  0.681262              0.704195  0.584034                  0.753255\n",
       "3  0.637213              0.714197  0.534505                  0.766894\n",
       "4  0.578741              0.741645  0.484233                  0.796032"
      ]
     },
     "execution_count": 54,
     "metadata": {},
     "output_type": "execute_result"
    }
   ],
   "source": [
    "results.head()"
   ]
  },
  {
   "cell_type": "code",
   "execution_count": 55,
   "metadata": {
    "colab": {
     "base_uri": "https://localhost:8080/",
     "height": 338
    },
    "executionInfo": {
     "elapsed": 471,
     "status": "ok",
     "timestamp": 1669636712872,
     "user": {
      "displayName": "Adrian Alfaro",
      "userId": "00261737086905202432"
     },
     "user_tz": -60
    },
    "id": "pinNhY1Cf0Tb",
    "outputId": "e86e67d1-1718-4b96-e193-bdfd572e33af"
   },
   "outputs": [
    {
     "data": {
      "image/png": "[encoded data removed]",
      "text/plain": [
       "<Figure size 800x500 with 1 Axes>"
      ]
     },
     "metadata": {},
     "output_type": "display_data"
    }
   ],
   "source": [
    "results.plot(figsize = (8, 5))\n",
    "plt.grid(True)\n",
    "plt.xlabel (\"Epochs\")\n",
    "plt.ylabel (\"Accuracy - Mean Log Loss\")\n",
    "plt.gca().set_ylim(0, 1)\n",
    "plt.show()"
   ]
  },
  {
   "cell_type": "code",
   "execution_count": 56,
   "metadata": {
    "colab": {
     "base_uri": "https://localhost:8080/"
    },
    "executionInfo": {
     "elapsed": 5,
     "status": "ok",
     "timestamp": 1669636713170,
     "user": {
      "displayName": "Adrian Alfaro",
      "userId": "00261737086905202432"
     },
     "user_tz": -60
    },
    "id": "UuXsm8acA93F",
    "outputId": "f032aa89-2adc-4f56-b1b8-0dc08ac7930f"
   },
   "outputs": [
    {
     "name": "stdout",
     "output_type": "stream",
     "text": [
      "51/51 [==============================] - 0s 949us/step\n"
     ]
    },
    {
     "data": {
      "text/plain": [
       "array([[0.  , 0.  , 0.  , 1.  ],\n",
       "       [0.  , 0.03, 0.63, 0.34],\n",
       "       [0.  , 0.09, 0.89, 0.01],\n",
       "       [0.01, 0.72, 0.27, 0.  ],\n",
       "       [0.09, 0.9 , 0.01, 0.  ],\n",
       "       [0.  , 0.  , 0.  , 1.  ],\n",
       "       [0.84, 0.15, 0.  , 0.  ],\n",
       "       [0.02, 0.5 , 0.48, 0.  ],\n",
       "       [0.  , 0.  , 0.22, 0.78],\n",
       "       [0.12, 0.87, 0.  , 0.  ],\n",
       "       [0.02, 0.9 , 0.08, 0.  ],\n",
       "       [0.04, 0.6 , 0.36, 0.  ],\n",
       "       [0.09, 0.82, 0.09, 0.  ],\n",
       "       [0.  , 0.  , 0.56, 0.44],\n",
       "       [0.25, 0.75, 0.  , 0.  ],\n",
       "       [0.75, 0.25, 0.  , 0.  ],\n",
       "       [0.  , 0.  , 0.01, 0.99],\n",
       "       [0.  , 0.03, 0.96, 0.01],\n",
       "       [0.  , 0.  , 0.19, 0.81],\n",
       "       [0.06, 0.67, 0.28, 0.  ]], dtype=float32)"
      ]
     },
     "execution_count": 56,
     "metadata": {},
     "output_type": "execute_result"
    }
   ],
   "source": [
    "dev_predictions=model.predict(x_dev).round(2)\n",
    "dev_predictions[:20]"
   ]
  },
  {
   "cell_type": "code",
   "execution_count": 57,
   "metadata": {
    "colab": {
     "base_uri": "https://localhost:8080/"
    },
    "executionInfo": {
     "elapsed": 5,
     "status": "ok",
     "timestamp": 1669636713171,
     "user": {
      "displayName": "Adrian Alfaro",
      "userId": "00261737086905202432"
     },
     "user_tz": -60
    },
    "id": "TXx_47NaA97W",
    "outputId": "c92933cb-78be-4883-b8ab-bb590e0103b0"
   },
   "outputs": [
    {
     "data": {
      "text/plain": [
       "array([[0., 0., 0., 1.],\n",
       "       [0., 0., 1., 0.],\n",
       "       [0., 0., 1., 0.],\n",
       "       [0., 1., 0., 0.],\n",
       "       [0., 1., 0., 0.],\n",
       "       [0., 0., 0., 1.],\n",
       "       [1., 0., 0., 0.],\n",
       "       [0., 1., 0., 0.],\n",
       "       [0., 0., 0., 1.],\n",
       "       [0., 1., 0., 0.],\n",
       "       [0., 1., 0., 0.],\n",
       "       [0., 1., 0., 0.],\n",
       "       [0., 1., 0., 0.],\n",
       "       [0., 0., 1., 0.],\n",
       "       [0., 1., 0., 0.],\n",
       "       [1., 0., 0., 0.],\n",
       "       [0., 0., 0., 1.],\n",
       "       [0., 0., 1., 0.],\n",
       "       [0., 0., 0., 1.],\n",
       "       [0., 1., 0., 0.]], dtype=float32)"
      ]
     },
     "execution_count": 57,
     "metadata": {},
     "output_type": "execute_result"
    }
   ],
   "source": [
    "dev_rounded_predictions=np.round(dev_predictions)\n",
    "indices = np.argmax(dev_predictions,1)\n",
    "for row, index in zip(dev_rounded_predictions, indices): row[index]=1\n",
    "dev_rounded_predictions[:20]"
   ]
  },
  {
   "cell_type": "code",
   "execution_count": 58,
   "metadata": {
    "colab": {
     "base_uri": "https://localhost:8080/"
    },
    "executionInfo": {
     "elapsed": 3,
     "status": "ok",
     "timestamp": 1669636713484,
     "user": {
      "displayName": "Adrian Alfaro",
      "userId": "00261737086905202432"
     },
     "user_tz": -60
    },
    "id": "WT618l0cBNjw",
    "outputId": "c24d0cf3-992a-4cf1-9a1e-d0eba7a28ba9"
   },
   "outputs": [
    {
     "data": {
      "text/html": [
       "<div>\n",
       "<style scoped>\n",
       "    .dataframe tbody tr th:only-of-type {\n",
       "        vertical-align: middle;\n",
       "    }\n",
       "\n",
       "    .dataframe tbody tr th {\n",
       "        vertical-align: top;\n",
       "    }\n",
       "\n",
       "    .dataframe thead th {\n",
       "        text-align: right;\n",
       "    }\n",
       "</style>\n",
       "<table border=\"1\" class=\"dataframe\">\n",
       "  <thead>\n",
       "    <tr style=\"text-align: right;\">\n",
       "      <th></th>\n",
       "      <th>Poor:[46.0, 62.0]</th>\n",
       "      <th>Interm:[63.0, 66.0]</th>\n",
       "      <th>Good:[67.0, 71.0]</th>\n",
       "      <th>Excel:[72.0, 94.0]</th>\n",
       "    </tr>\n",
       "  </thead>\n",
       "  <tbody>\n",
       "    <tr>\n",
       "      <th>5668</th>\n",
       "      <td>0.0</td>\n",
       "      <td>0.0</td>\n",
       "      <td>0.0</td>\n",
       "      <td>1.0</td>\n",
       "    </tr>\n",
       "    <tr>\n",
       "      <th>12423</th>\n",
       "      <td>0.0</td>\n",
       "      <td>0.0</td>\n",
       "      <td>1.0</td>\n",
       "      <td>0.0</td>\n",
       "    </tr>\n",
       "    <tr>\n",
       "      <th>8564</th>\n",
       "      <td>0.0</td>\n",
       "      <td>1.0</td>\n",
       "      <td>0.0</td>\n",
       "      <td>0.0</td>\n",
       "    </tr>\n",
       "    <tr>\n",
       "      <th>9360</th>\n",
       "      <td>0.0</td>\n",
       "      <td>1.0</td>\n",
       "      <td>0.0</td>\n",
       "      <td>0.0</td>\n",
       "    </tr>\n",
       "    <tr>\n",
       "      <th>10101</th>\n",
       "      <td>0.0</td>\n",
       "      <td>1.0</td>\n",
       "      <td>0.0</td>\n",
       "      <td>0.0</td>\n",
       "    </tr>\n",
       "    <tr>\n",
       "      <th>6675</th>\n",
       "      <td>0.0</td>\n",
       "      <td>0.0</td>\n",
       "      <td>0.0</td>\n",
       "      <td>1.0</td>\n",
       "    </tr>\n",
       "    <tr>\n",
       "      <th>7926</th>\n",
       "      <td>1.0</td>\n",
       "      <td>0.0</td>\n",
       "      <td>0.0</td>\n",
       "      <td>0.0</td>\n",
       "    </tr>\n",
       "    <tr>\n",
       "      <th>7782</th>\n",
       "      <td>0.0</td>\n",
       "      <td>1.0</td>\n",
       "      <td>0.0</td>\n",
       "      <td>0.0</td>\n",
       "    </tr>\n",
       "    <tr>\n",
       "      <th>4865</th>\n",
       "      <td>0.0</td>\n",
       "      <td>0.0</td>\n",
       "      <td>0.0</td>\n",
       "      <td>1.0</td>\n",
       "    </tr>\n",
       "    <tr>\n",
       "      <th>1934</th>\n",
       "      <td>0.0</td>\n",
       "      <td>1.0</td>\n",
       "      <td>0.0</td>\n",
       "      <td>0.0</td>\n",
       "    </tr>\n",
       "    <tr>\n",
       "      <th>5974</th>\n",
       "      <td>0.0</td>\n",
       "      <td>1.0</td>\n",
       "      <td>0.0</td>\n",
       "      <td>0.0</td>\n",
       "    </tr>\n",
       "    <tr>\n",
       "      <th>14360</th>\n",
       "      <td>1.0</td>\n",
       "      <td>0.0</td>\n",
       "      <td>0.0</td>\n",
       "      <td>0.0</td>\n",
       "    </tr>\n",
       "    <tr>\n",
       "      <th>14351</th>\n",
       "      <td>0.0</td>\n",
       "      <td>1.0</td>\n",
       "      <td>0.0</td>\n",
       "      <td>0.0</td>\n",
       "    </tr>\n",
       "    <tr>\n",
       "      <th>14526</th>\n",
       "      <td>0.0</td>\n",
       "      <td>0.0</td>\n",
       "      <td>1.0</td>\n",
       "      <td>0.0</td>\n",
       "    </tr>\n",
       "    <tr>\n",
       "      <th>5380</th>\n",
       "      <td>0.0</td>\n",
       "      <td>1.0</td>\n",
       "      <td>0.0</td>\n",
       "      <td>0.0</td>\n",
       "    </tr>\n",
       "    <tr>\n",
       "      <th>716</th>\n",
       "      <td>0.0</td>\n",
       "      <td>1.0</td>\n",
       "      <td>0.0</td>\n",
       "      <td>0.0</td>\n",
       "    </tr>\n",
       "    <tr>\n",
       "      <th>8101</th>\n",
       "      <td>0.0</td>\n",
       "      <td>0.0</td>\n",
       "      <td>0.0</td>\n",
       "      <td>1.0</td>\n",
       "    </tr>\n",
       "    <tr>\n",
       "      <th>13344</th>\n",
       "      <td>0.0</td>\n",
       "      <td>0.0</td>\n",
       "      <td>1.0</td>\n",
       "      <td>0.0</td>\n",
       "    </tr>\n",
       "    <tr>\n",
       "      <th>3026</th>\n",
       "      <td>0.0</td>\n",
       "      <td>0.0</td>\n",
       "      <td>0.0</td>\n",
       "      <td>1.0</td>\n",
       "    </tr>\n",
       "    <tr>\n",
       "      <th>8060</th>\n",
       "      <td>1.0</td>\n",
       "      <td>0.0</td>\n",
       "      <td>0.0</td>\n",
       "      <td>0.0</td>\n",
       "    </tr>\n",
       "  </tbody>\n",
       "</table>\n",
       "</div>"
      ],
      "text/plain": [
       "       Poor:[46.0, 62.0]  Interm:[63.0, 66.0]  Good:[67.0, 71.0]  \\\n",
       "5668                 0.0                  0.0                0.0   \n",
       "12423                0.0                  0.0                1.0   \n",
       "8564                 0.0                  1.0                0.0   \n",
       "9360                 0.0                  1.0                0.0   \n",
       "10101                0.0                  1.0                0.0   \n",
       "6675                 0.0                  0.0                0.0   \n",
       "7926                 1.0                  0.0                0.0   \n",
       "7782                 0.0                  1.0                0.0   \n",
       "4865                 0.0                  0.0                0.0   \n",
       "1934                 0.0                  1.0                0.0   \n",
       "5974                 0.0                  1.0                0.0   \n",
       "14360                1.0                  0.0                0.0   \n",
       "14351                0.0                  1.0                0.0   \n",
       "14526                0.0                  0.0                1.0   \n",
       "5380                 0.0                  1.0                0.0   \n",
       "716                  0.0                  1.0                0.0   \n",
       "8101                 0.0                  0.0                0.0   \n",
       "13344                0.0                  0.0                1.0   \n",
       "3026                 0.0                  0.0                0.0   \n",
       "8060                 1.0                  0.0                0.0   \n",
       "\n",
       "       Excel:[72.0, 94.0]  \n",
       "5668                  1.0  \n",
       "12423                 0.0  \n",
       "8564                  0.0  \n",
       "9360                  0.0  \n",
       "10101                 0.0  \n",
       "6675                  1.0  \n",
       "7926                  0.0  \n",
       "7782                  0.0  \n",
       "4865                  1.0  \n",
       "1934                  0.0  \n",
       "5974                  0.0  \n",
       "14360                 0.0  \n",
       "14351                 0.0  \n",
       "14526                 0.0  \n",
       "5380                  0.0  \n",
       "716                   0.0  \n",
       "8101                  1.0  \n",
       "13344                 0.0  \n",
       "3026                  1.0  \n",
       "8060                  0.0  "
      ]
     },
     "execution_count": 58,
     "metadata": {},
     "output_type": "execute_result"
    }
   ],
   "source": [
    "t_dev[:20] #target classes"
   ]
  },
  {
   "cell_type": "code",
   "execution_count": 59,
   "metadata": {
    "colab": {
     "base_uri": "https://localhost:8080/"
    },
    "executionInfo": {
     "elapsed": 2,
     "status": "ok",
     "timestamp": 1669636713791,
     "user": {
      "displayName": "Adrian Alfaro",
      "userId": "00261737086905202432"
     },
     "user_tz": -60
    },
    "id": "QsEkALnZBTOf",
    "outputId": "b2ac8633-62c3-4416-ab35-6aa659760118"
   },
   "outputs": [
    {
     "name": "stdout",
     "output_type": "stream",
     "text": [
      "[ True  True False  True  True  True  True  True  True  True  True False\n",
      "  True  True  True False  True  True  True False False False  True  True\n",
      "  True False  True  True  True  True]\n"
     ]
    }
   ],
   "source": [
    "dev_correct_predictions = np.equal(np.argmax(dev_rounded_predictions,1),np.argmax(np.array(t_dev),1))\n",
    "print (dev_correct_predictions[:30])"
   ]
  },
  {
   "cell_type": "code",
   "execution_count": 60,
   "metadata": {
    "colab": {
     "base_uri": "https://localhost:8080/"
    },
    "executionInfo": {
     "elapsed": 3,
     "status": "ok",
     "timestamp": 1669636717061,
     "user": {
      "displayName": "Adrian Alfaro",
      "userId": "00261737086905202432"
     },
     "user_tz": -60
    },
    "id": "XJ4L_Tw8BXpd",
    "outputId": "4527e23e-b3ab-40a1-d847-36de834f713c"
   },
   "outputs": [
    {
     "data": {
      "text/plain": [
       "Counter({True: 1353, False: 260})"
      ]
     },
     "execution_count": 60,
     "metadata": {},
     "output_type": "execute_result"
    }
   ],
   "source": [
    "from collections import Counter\n",
    "Counter (dev_correct_predictions)"
   ]
  },
  {
   "cell_type": "markdown",
   "metadata": {
    "id": "X18ko6cKgbol"
   },
   "source": [
    "## Final Test"
   ]
  },
  {
   "cell_type": "code",
   "execution_count": null,
   "metadata": {},
   "outputs": [],
   "source": []
  },
  {
   "cell_type": "code",
   "execution_count": 61,
   "metadata": {
    "colab": {
     "base_uri": "https://localhost:8080/"
    },
    "executionInfo": {
     "elapsed": 1264,
     "status": "ok",
     "timestamp": 1669636720712,
     "user": {
      "displayName": "Adrian Alfaro",
      "userId": "00261737086905202432"
     },
     "user_tz": -60
    },
    "id": "NrQEjtx3genT",
    "outputId": "1f7ec8b7-cff4-4077-ecc5-cdd5c23f6184"
   },
   "outputs": [
    {
     "name": "stdout",
     "output_type": "stream",
     "text": [
      "51/51 [==============================] - 0s 1ms/step - loss: 0.4613 - categorical_accuracy: 0.7928\n",
      "Final Test Accuracy:  79.2803943157196 %\n"
     ]
    }
   ],
   "source": [
    "final_results = model.evaluate(x_final_test, t_final_test)\n",
    "\n",
    "print (\"Final Test Accuracy: \", final_results[1] * 100, \"%\")"
   ]
  },
  {
   "cell_type": "code",
   "execution_count": 62,
   "metadata": {
    "id": "Di1LD9y6GoDA"
   },
   "outputs": [
    {
     "data": {
      "text/plain": [
       "[0.4612552523612976, 0.792803943157196]"
      ]
     },
     "execution_count": 62,
     "metadata": {},
     "output_type": "execute_result"
    }
   ],
   "source": [
    "final_results"
   ]
  },
  {
   "cell_type": "code",
   "execution_count": null,
   "metadata": {},
   "outputs": [],
   "source": []
  }
 ],
 "metadata": {
  "colab": {
   "authorship_tag": "ABX9TyORe239lEt06lfftzQGjcCi",
   "provenance": []
  },
  "kernelspec": {
   "display_name": "Python 3 (ipykernel)",
   "language": "python",
   "name": "python3"
  },
  "language_info": {
   "codemirror_mode": {
    "name": "ipython",
    "version": 3
   },
   "file_extension": ".py",
   "mimetype": "text/x-python",
   "name": "python",
   "nbconvert_exporter": "python",
   "pygments_lexer": "ipython3",
   "version": "3.8.10"
  }
 },
 "nbformat": 4,
 "nbformat_minor": 4
}
