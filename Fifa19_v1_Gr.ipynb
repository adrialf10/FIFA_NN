{
 "cells": [
  {
   "cell_type": "code",
   "execution_count": 5,
   "metadata": {
    "id": "CWfFqhFQ-ZXW"
   },
   "outputs": [
    {
     "name": "stdout",
     "output_type": "stream",
     "text": [
      "Tensorflow version: 2.11.0\n"
     ]
    }
   ],
   "source": [
    "import tensorflow as tf\n",
    "from tensorflow import keras\n",
    "import pandas as pd\n",
    "import matplotlib.pyplot as plt\n",
    "import time\n",
    "import numpy as np\n",
    "from sklearn.model_selection import train_test_split\n",
    "print(\"Tensorflow version: \"+ tf.__version__)"
   ]
  },
  {
   "cell_type": "code",
   "execution_count": 6,
   "metadata": {
    "colab": {
     "base_uri": "https://localhost:8080/"
    },
    "id": "1aHpQ0u8b-cp",
    "outputId": "96fe6057-2da0-4dd0-fd16-2a30c00a5da3"
   },
   "outputs": [],
   "source": [
    "COLAB=False\n",
    "GPU=True\n",
    "\n",
    "if COLAB==True and GPU==True:\n",
    "    device_name = tf.test.gpu_device_name()\n",
    "    if device_name != '/device:GPU:0':\n",
    "        raise SystemError('GPU device not found')\n",
    "    print('Found GPU at: {}'.format(device_name))\n",
    "    tf.device('/device:GPU:0')"
   ]
  },
  {
   "cell_type": "code",
   "execution_count": 7,
   "metadata": {},
   "outputs": [],
   "source": [
    "gpus = tf.config.experimental.list_physical_devices('GPU')\n",
    "\n",
    "if gpus:\n",
    "    try:\n",
    "        tf.config.experimental.set_virtual_device_configuration(gpus[0], [tf.config.experimental.VirtualDeviceConfiguration(memory_limit=2048)])\n",
    "    except RuntimeError as e:\n",
    "        print(e)"
   ]
  },
  {
   "cell_type": "code",
   "execution_count": 8,
   "metadata": {
    "colab": {
     "base_uri": "https://localhost:8080/"
    },
    "id": "kbUTGBou-4Zh",
    "outputId": "6916436c-cd3f-4b78-f31d-6e6192f01651"
   },
   "outputs": [],
   "source": [
    "# Google file system\n",
    "\n",
    "if COLAB==True:\n",
    "    device_name = tf.test.gpu_device_name()\n",
    "    if device_name != '/device:GPU:0':\n",
    "        raise SystemError('GPU device not found')\n",
    "    print('Found GPU at: {}'.format(device_name))\n",
    "    from google.colab import drive\n",
    "    drive.mount('/GoogleDrive', force_remount=True)\n",
    "    ATT_FILE =   \"/GoogleDrive/My Drive/Colab Notebooks/RedesNeuronales/datasets/Fifa/FootballPlayerPreparedCleanAttributes.csv\"\n",
    "    LABEL_FILE = \"/GoogleDrive/My Drive/Colab Notebooks/RedesNeuronales/datasets/Fifa/FootballPlayerOneHotEncodedClasses.csv\"\n",
    "\n",
    "else:\n",
    "    ATT_FILE =   \"datasets/FootballPlayerPreparedCleanAttributes.csv\"\n",
    "    LABEL_FILE = \"datasets/FootballPlayerOneHotEncodedClasses.csv\"\n",
    "\n",
    "attributes = pd.read_csv(ATT_FILE)\n",
    "label =      pd.read_csv(LABEL_FILE)"
   ]
  },
  {
   "cell_type": "markdown",
   "metadata": {
    "id": "r1Njeo4rNWjS"
   },
   "source": [
    "## Datasets"
   ]
  },
  {
   "cell_type": "code",
   "execution_count": 9,
   "metadata": {
    "id": "cn2D4GXyGysi"
   },
   "outputs": [],
   "source": [
    "TRAIN_RATE = 0.8\n",
    "\n",
    "n_instances = attributes.shape[0]\n",
    "\n",
    "n_train = int(n_instances*TRAIN_RATE)\n",
    "n_dev = int((n_instances-n_train)/2)\n",
    "n_final_test = n_instances-n_train-n_dev"
   ]
  },
  {
   "cell_type": "code",
   "execution_count": 10,
   "metadata": {
    "colab": {
     "base_uri": "https://localhost:8080/"
    },
    "id": "OYYe1D8qG8Ly",
    "outputId": "fa86ee39-721c-47f8-d62d-926a45ebf2d4"
   },
   "outputs": [
    {
     "name": "stdout",
     "output_type": "stream",
     "text": [
      "Total: 16122 | Train: 12897 | Dev Test: 1612  | Final Test: 1613\n"
     ]
    }
   ],
   "source": [
    "print(\"Total:\", n_instances, \"| Train:\", n_train, \"| Dev Test:\", n_dev,\" | Final Test:\", n_final_test)"
   ]
  },
  {
   "cell_type": "code",
   "execution_count": 14,
   "metadata": {
    "id": "7VJf-ISmJuFz"
   },
   "outputs": [],
   "source": [
    "datasplit=False\n",
    "\n",
    "if datasplit==True:\n",
    "    x_train, X_test, t_train, y_test = train_test_split(attributes,label,\n",
    "                                                        test_size=0.2,\n",
    "                                                        random_state=1992,\n",
    "                                                        stratify=label)\n",
    "\n",
    "    x_final_test, x_dev, t_final_test, t_dev = train_test_split(X_test,y_test,\n",
    "                                                test_size=0.5,\n",
    "                                                random_state=1992,\n",
    "                                                stratify=y_test)\n",
    "    INPUTS = x_train.shape[1]\n",
    "    OUTPUTS = t_train.shape[1]\n",
    "\n",
    "else:\n",
    "    x_train = attributes.values[:n_train]\n",
    "    t_train = label.values[:n_train]\n",
    "\n",
    "    x_dev = attributes.values[n_train:n_train + n_dev]\n",
    "    t_dev = label.values[n_train:n_train + n_dev]\n",
    "\n",
    "    x_final_test = attributes.values[n_train+n_dev:n_instances]\n",
    "    t_final_test = label.values[n_train+n_dev:n_instances]\n",
    "\n",
    "    INPUTS = x_train.shape[1]\n",
    "    OUTPUTS = t_train.shape[1]"
   ]
  },
  {
   "cell_type": "code",
   "execution_count": 15,
   "metadata": {
    "colab": {
     "base_uri": "https://localhost:8080/"
    },
    "id": "rln6gYncKDQG",
    "outputId": "db8d3d64-9fcb-47c0-c92f-cdd216b94fd4"
   },
   "outputs": [
    {
     "name": "stdout",
     "output_type": "stream",
     "text": [
      "X_train: (12897, 17) | T_train: (12897, 4)\n",
      "X_dev: (1612, 17) | T_dev: (1612, 4)\n",
      "X_test: (1613, 17) | T_test: (1613, 4)\n"
     ]
    }
   ],
   "source": [
    "print (\"X_train:\", x_train.shape, \"| T_train:\", t_train.shape)\n",
    "print (\"X_dev:\", x_dev.shape, \"| T_dev:\", t_dev.shape)\n",
    "print (\"X_test:\", x_final_test.shape, \"| T_test:\", t_final_test.shape)"
   ]
  },
  {
   "cell_type": "markdown",
   "metadata": {
    "id": "WehesXz6NcVX"
   },
   "source": [
    "## Model"
   ]
  },
  {
   "cell_type": "code",
   "execution_count": 16,
   "metadata": {
    "id": "jS07DPaeNs6N"
   },
   "outputs": [],
   "source": [
    "n_neurons_per_layer = [512,1024,125,75,8] \n",
    "learning_rate = 0.01\n",
    "n_epochs = 500\n",
    "batch_size = 1024"
   ]
  },
  {
   "cell_type": "code",
   "execution_count": 17,
   "metadata": {
    "id": "cqumzJEGWw1k"
   },
   "outputs": [],
   "source": [
    "model = keras.Sequential(name = \"FifaNetwork\")"
   ]
  },
  {
   "cell_type": "code",
   "execution_count": 286,
   "metadata": {
    "id": "mYJoEVA0Xj_A"
   },
   "outputs": [],
   "source": [
    "from keras.layers import LeakyReLU\n",
    "\n",
    "LeakyRelu=True\n",
    "\n",
    "model.add(keras.layers.InputLayer(input_shape=(INPUTS,)))\n",
    "\n",
    "for neurons in n_neurons_per_layer:\n",
    "    if isinstance(neurons, int):\n",
    "        if LeakyRelu==True:\n",
    "            model.add(keras.layers.Dense(neurons))\n",
    "            model.add(LeakyReLU(alpha=0.9))\n",
    "        else:\n",
    "            model.add(keras.layers.Dense(neurons, activation=\"relu\"))\n",
    "    else:\n",
    "        model.add(keras.layers.Dropout(rate=neurons))\n",
    "\n",
    "model.add(keras.layers.Dense(OUTPUTS, activation=\"softmax\"))"
   ]
  },
  {
   "cell_type": "code",
   "execution_count": 287,
   "metadata": {
    "colab": {
     "base_uri": "https://localhost:8080/"
    },
    "id": "Dw12jcQxZOT_",
    "outputId": "61c8608b-e428-465b-a716-f6e3cd480f99"
   },
   "outputs": [
    {
     "name": "stdout",
     "output_type": "stream",
     "text": [
      "Model: \"FifaNetwork\"\n",
      "_________________________________________________________________\n",
      " Layer (type)                Output Shape              Param #   \n",
      "=================================================================\n",
      " dense_154 (Dense)           (None, 512)               9216      \n",
      "                                                                 \n",
      " dense_155 (Dense)           (None, 1024)              525312    \n",
      "                                                                 \n",
      " dense_156 (Dense)           (None, 125)               128125    \n",
      "                                                                 \n",
      " dense_157 (Dense)           (None, 75)                9450      \n",
      "                                                                 \n",
      " dense_158 (Dense)           (None, 8)                 608       \n",
      "                                                                 \n",
      " dense_159 (Dense)           (None, 4)                 36        \n",
      "                                                                 \n",
      "=================================================================\n",
      "Total params: 672,747\n",
      "Trainable params: 672,747\n",
      "Non-trainable params: 0\n",
      "_________________________________________________________________\n"
     ]
    }
   ],
   "source": [
    "model.summary()"
   ]
  },
  {
   "cell_type": "code",
   "execution_count": 288,
   "metadata": {
    "id": "HcaLC_zzFvzl"
   },
   "outputs": [],
   "source": [
    "num_train_steps=(n_train // batch_size)*n_epochs\n",
    "lr_scheduler = tf.keras.optimizers.schedules.PolynomialDecay(initial_learning_rate=learning_rate,\n",
    "                               end_learning_rate=1e-4,\n",
    "                               decay_steps=num_train_steps)"
   ]
  },
  {
   "cell_type": "code",
   "execution_count": 289,
   "metadata": {
    "id": "GVfGbkr0b1Vl"
   },
   "outputs": [],
   "source": [
    "lr_scheduler=True\n",
    "\n",
    "if lr_scheduler==True:\n",
    "    learning_rate=lr_scheduler\n",
    "\n",
    "model.compile(optimizer = tf.keras.optimizers.SGD(learning_rate = learning_rate),\n",
    "              loss = tf.keras.losses.categorical_crossentropy,\n",
    "              metrics = [\"categorical_accuracy\"])"
   ]
  },
  {
   "cell_type": "code",
   "execution_count": 290,
   "metadata": {
    "colab": {
     "base_uri": "https://localhost:8080/",
     "height": 1000
    },
    "id": "dMH7Z7cBFvzn",
    "outputId": "ce4ea87b-535c-416e-c0cc-c5656423719b"
   },
   "outputs": [
    {
     "data": {
      "image/svg+xml": [
       "<svg xmlns=\"http://www.w3.org/2000/svg\" xmlns:xlink=\"http://www.w3.org/1999/xlink\" width=\"371pt\" height=\"737pt\" viewBox=\"0.00 0.00 278.00 553.00\">\n",
       "<g id=\"graph0\" class=\"graph\" transform=\"scale(0.75 0.75) rotate(0) translate(4 549)\">\n",
       "<title>G</title>\n",
       "<polygon fill=\"white\" stroke=\"transparent\" points=\"-4,4 -4,-549 274,-549 274,4 -4,4\"/>\n",
       "<!-- 139653690908576 -->\n",
       "<g id=\"node1\" class=\"node\">\n",
       "<title>139653690908576</title>\n",
       "<polygon fill=\"none\" stroke=\"black\" points=\"2.5,-498.5 2.5,-544.5 267.5,-544.5 267.5,-498.5 2.5,-498.5\"/>\n",
       "<text text-anchor=\"middle\" x=\"50\" y=\"-529.3\" font-family=\"Times,serif\" font-size=\"14.00\">input_25</text>\n",
       "<polyline fill=\"none\" stroke=\"black\" points=\"2.5,-521.5 97.5,-521.5 \"/>\n",
       "<text text-anchor=\"middle\" x=\"50\" y=\"-506.3\" font-family=\"Times,serif\" font-size=\"14.00\">InputLayer</text>\n",
       "<polyline fill=\"none\" stroke=\"black\" points=\"97.5,-498.5 97.5,-544.5 \"/>\n",
       "<text text-anchor=\"middle\" x=\"131.5\" y=\"-529.3\" font-family=\"Times,serif\" font-size=\"14.00\">input:</text>\n",
       "<polyline fill=\"none\" stroke=\"black\" points=\"97.5,-521.5 165.5,-521.5 \"/>\n",
       "<text text-anchor=\"middle\" x=\"131.5\" y=\"-506.3\" font-family=\"Times,serif\" font-size=\"14.00\">output:</text>\n",
       "<polyline fill=\"none\" stroke=\"black\" points=\"165.5,-498.5 165.5,-544.5 \"/>\n",
       "<text text-anchor=\"middle\" x=\"216.5\" y=\"-529.3\" font-family=\"Times,serif\" font-size=\"14.00\">[(None, 17)]</text>\n",
       "<polyline fill=\"none\" stroke=\"black\" points=\"165.5,-521.5 267.5,-521.5 \"/>\n",
       "<text text-anchor=\"middle\" x=\"216.5\" y=\"-506.3\" font-family=\"Times,serif\" font-size=\"14.00\">[(None, 17)]</text>\n",
       "</g>\n",
       "<!-- 139653690907808 -->\n",
       "<g id=\"node2\" class=\"node\">\n",
       "<title>139653690907808</title>\n",
       "<polygon fill=\"none\" stroke=\"black\" points=\"4.5,-415.5 4.5,-461.5 265.5,-461.5 265.5,-415.5 4.5,-415.5\"/>\n",
       "<text text-anchor=\"middle\" x=\"50.5\" y=\"-446.3\" font-family=\"Times,serif\" font-size=\"14.00\">dense_154</text>\n",
       "<polyline fill=\"none\" stroke=\"black\" points=\"4.5,-438.5 96.5,-438.5 \"/>\n",
       "<text text-anchor=\"middle\" x=\"50.5\" y=\"-423.3\" font-family=\"Times,serif\" font-size=\"14.00\">Dense</text>\n",
       "<polyline fill=\"none\" stroke=\"black\" points=\"96.5,-415.5 96.5,-461.5 \"/>\n",
       "<text text-anchor=\"middle\" x=\"130.5\" y=\"-446.3\" font-family=\"Times,serif\" font-size=\"14.00\">input:</text>\n",
       "<polyline fill=\"none\" stroke=\"black\" points=\"96.5,-438.5 164.5,-438.5 \"/>\n",
       "<text text-anchor=\"middle\" x=\"130.5\" y=\"-423.3\" font-family=\"Times,serif\" font-size=\"14.00\">output:</text>\n",
       "<polyline fill=\"none\" stroke=\"black\" points=\"164.5,-415.5 164.5,-461.5 \"/>\n",
       "<text text-anchor=\"middle\" x=\"215\" y=\"-446.3\" font-family=\"Times,serif\" font-size=\"14.00\">(None, 17)</text>\n",
       "<polyline fill=\"none\" stroke=\"black\" points=\"164.5,-438.5 265.5,-438.5 \"/>\n",
       "<text text-anchor=\"middle\" x=\"215\" y=\"-423.3\" font-family=\"Times,serif\" font-size=\"14.00\">(None, 512)</text>\n",
       "</g>\n",
       "<!-- 139653690908576&#45;&gt;139653690907808 -->\n",
       "<g id=\"edge1\" class=\"edge\">\n",
       "<title>139653690908576-&gt;139653690907808</title>\n",
       "<path fill=\"none\" stroke=\"black\" d=\"M135,-498.37C135,-490.15 135,-480.66 135,-471.73\"/>\n",
       "<polygon fill=\"black\" stroke=\"black\" points=\"138.5,-471.61 135,-461.61 131.5,-471.61 138.5,-471.61\"/>\n",
       "</g>\n",
       "<!-- 139653556620016 -->\n",
       "<g id=\"node3\" class=\"node\">\n",
       "<title>139653556620016</title>\n",
       "<polygon fill=\"none\" stroke=\"black\" points=\"0,-332.5 0,-378.5 270,-378.5 270,-332.5 0,-332.5\"/>\n",
       "<text text-anchor=\"middle\" x=\"46\" y=\"-363.3\" font-family=\"Times,serif\" font-size=\"14.00\">dense_155</text>\n",
       "<polyline fill=\"none\" stroke=\"black\" points=\"0,-355.5 92,-355.5 \"/>\n",
       "<text text-anchor=\"middle\" x=\"46\" y=\"-340.3\" font-family=\"Times,serif\" font-size=\"14.00\">Dense</text>\n",
       "<polyline fill=\"none\" stroke=\"black\" points=\"92,-332.5 92,-378.5 \"/>\n",
       "<text text-anchor=\"middle\" x=\"126\" y=\"-363.3\" font-family=\"Times,serif\" font-size=\"14.00\">input:</text>\n",
       "<polyline fill=\"none\" stroke=\"black\" points=\"92,-355.5 160,-355.5 \"/>\n",
       "<text text-anchor=\"middle\" x=\"126\" y=\"-340.3\" font-family=\"Times,serif\" font-size=\"14.00\">output:</text>\n",
       "<polyline fill=\"none\" stroke=\"black\" points=\"160,-332.5 160,-378.5 \"/>\n",
       "<text text-anchor=\"middle\" x=\"215\" y=\"-363.3\" font-family=\"Times,serif\" font-size=\"14.00\">(None, 512)</text>\n",
       "<polyline fill=\"none\" stroke=\"black\" points=\"160,-355.5 270,-355.5 \"/>\n",
       "<text text-anchor=\"middle\" x=\"215\" y=\"-340.3\" font-family=\"Times,serif\" font-size=\"14.00\">(None, 1024)</text>\n",
       "</g>\n",
       "<!-- 139653690907808&#45;&gt;139653556620016 -->\n",
       "<g id=\"edge2\" class=\"edge\">\n",
       "<title>139653690907808-&gt;139653556620016</title>\n",
       "<path fill=\"none\" stroke=\"black\" d=\"M135,-415.37C135,-407.15 135,-397.66 135,-388.73\"/>\n",
       "<polygon fill=\"black\" stroke=\"black\" points=\"138.5,-388.61 135,-378.61 131.5,-388.61 138.5,-388.61\"/>\n",
       "</g>\n",
       "<!-- 139651404731152 -->\n",
       "<g id=\"node4\" class=\"node\">\n",
       "<title>139651404731152</title>\n",
       "<polygon fill=\"none\" stroke=\"black\" points=\"0,-249.5 0,-295.5 270,-295.5 270,-249.5 0,-249.5\"/>\n",
       "<text text-anchor=\"middle\" x=\"46\" y=\"-280.3\" font-family=\"Times,serif\" font-size=\"14.00\">dense_156</text>\n",
       "<polyline fill=\"none\" stroke=\"black\" points=\"0,-272.5 92,-272.5 \"/>\n",
       "<text text-anchor=\"middle\" x=\"46\" y=\"-257.3\" font-family=\"Times,serif\" font-size=\"14.00\">Dense</text>\n",
       "<polyline fill=\"none\" stroke=\"black\" points=\"92,-249.5 92,-295.5 \"/>\n",
       "<text text-anchor=\"middle\" x=\"126\" y=\"-280.3\" font-family=\"Times,serif\" font-size=\"14.00\">input:</text>\n",
       "<polyline fill=\"none\" stroke=\"black\" points=\"92,-272.5 160,-272.5 \"/>\n",
       "<text text-anchor=\"middle\" x=\"126\" y=\"-257.3\" font-family=\"Times,serif\" font-size=\"14.00\">output:</text>\n",
       "<polyline fill=\"none\" stroke=\"black\" points=\"160,-249.5 160,-295.5 \"/>\n",
       "<text text-anchor=\"middle\" x=\"215\" y=\"-280.3\" font-family=\"Times,serif\" font-size=\"14.00\">(None, 1024)</text>\n",
       "<polyline fill=\"none\" stroke=\"black\" points=\"160,-272.5 270,-272.5 \"/>\n",
       "<text text-anchor=\"middle\" x=\"215\" y=\"-257.3\" font-family=\"Times,serif\" font-size=\"14.00\">(None, 125)</text>\n",
       "</g>\n",
       "<!-- 139653556620016&#45;&gt;139651404731152 -->\n",
       "<g id=\"edge3\" class=\"edge\">\n",
       "<title>139653556620016-&gt;139651404731152</title>\n",
       "<path fill=\"none\" stroke=\"black\" d=\"M135,-332.37C135,-324.15 135,-314.66 135,-305.73\"/>\n",
       "<polygon fill=\"black\" stroke=\"black\" points=\"138.5,-305.61 135,-295.61 131.5,-305.61 138.5,-305.61\"/>\n",
       "</g>\n",
       "<!-- 139653689394032 -->\n",
       "<g id=\"node5\" class=\"node\">\n",
       "<title>139653689394032</title>\n",
       "<polygon fill=\"none\" stroke=\"black\" points=\"4.5,-166.5 4.5,-212.5 265.5,-212.5 265.5,-166.5 4.5,-166.5\"/>\n",
       "<text text-anchor=\"middle\" x=\"50.5\" y=\"-197.3\" font-family=\"Times,serif\" font-size=\"14.00\">dense_157</text>\n",
       "<polyline fill=\"none\" stroke=\"black\" points=\"4.5,-189.5 96.5,-189.5 \"/>\n",
       "<text text-anchor=\"middle\" x=\"50.5\" y=\"-174.3\" font-family=\"Times,serif\" font-size=\"14.00\">Dense</text>\n",
       "<polyline fill=\"none\" stroke=\"black\" points=\"96.5,-166.5 96.5,-212.5 \"/>\n",
       "<text text-anchor=\"middle\" x=\"130.5\" y=\"-197.3\" font-family=\"Times,serif\" font-size=\"14.00\">input:</text>\n",
       "<polyline fill=\"none\" stroke=\"black\" points=\"96.5,-189.5 164.5,-189.5 \"/>\n",
       "<text text-anchor=\"middle\" x=\"130.5\" y=\"-174.3\" font-family=\"Times,serif\" font-size=\"14.00\">output:</text>\n",
       "<polyline fill=\"none\" stroke=\"black\" points=\"164.5,-166.5 164.5,-212.5 \"/>\n",
       "<text text-anchor=\"middle\" x=\"215\" y=\"-197.3\" font-family=\"Times,serif\" font-size=\"14.00\">(None, 125)</text>\n",
       "<polyline fill=\"none\" stroke=\"black\" points=\"164.5,-189.5 265.5,-189.5 \"/>\n",
       "<text text-anchor=\"middle\" x=\"215\" y=\"-174.3\" font-family=\"Times,serif\" font-size=\"14.00\">(None, 75)</text>\n",
       "</g>\n",
       "<!-- 139651404731152&#45;&gt;139653689394032 -->\n",
       "<g id=\"edge4\" class=\"edge\">\n",
       "<title>139651404731152-&gt;139653689394032</title>\n",
       "<path fill=\"none\" stroke=\"black\" d=\"M135,-249.37C135,-241.15 135,-231.66 135,-222.73\"/>\n",
       "<polygon fill=\"black\" stroke=\"black\" points=\"138.5,-222.61 135,-212.61 131.5,-222.61 138.5,-222.61\"/>\n",
       "</g>\n",
       "<!-- 139653601285888 -->\n",
       "<g id=\"node6\" class=\"node\">\n",
       "<title>139653601285888</title>\n",
       "<polygon fill=\"none\" stroke=\"black\" points=\"9,-83.5 9,-129.5 261,-129.5 261,-83.5 9,-83.5\"/>\n",
       "<text text-anchor=\"middle\" x=\"55\" y=\"-114.3\" font-family=\"Times,serif\" font-size=\"14.00\">dense_158</text>\n",
       "<polyline fill=\"none\" stroke=\"black\" points=\"9,-106.5 101,-106.5 \"/>\n",
       "<text text-anchor=\"middle\" x=\"55\" y=\"-91.3\" font-family=\"Times,serif\" font-size=\"14.00\">Dense</text>\n",
       "<polyline fill=\"none\" stroke=\"black\" points=\"101,-83.5 101,-129.5 \"/>\n",
       "<text text-anchor=\"middle\" x=\"135\" y=\"-114.3\" font-family=\"Times,serif\" font-size=\"14.00\">input:</text>\n",
       "<polyline fill=\"none\" stroke=\"black\" points=\"101,-106.5 169,-106.5 \"/>\n",
       "<text text-anchor=\"middle\" x=\"135\" y=\"-91.3\" font-family=\"Times,serif\" font-size=\"14.00\">output:</text>\n",
       "<polyline fill=\"none\" stroke=\"black\" points=\"169,-83.5 169,-129.5 \"/>\n",
       "<text text-anchor=\"middle\" x=\"215\" y=\"-114.3\" font-family=\"Times,serif\" font-size=\"14.00\">(None, 75)</text>\n",
       "<polyline fill=\"none\" stroke=\"black\" points=\"169,-106.5 261,-106.5 \"/>\n",
       "<text text-anchor=\"middle\" x=\"215\" y=\"-91.3\" font-family=\"Times,serif\" font-size=\"14.00\">(None, 8)</text>\n",
       "</g>\n",
       "<!-- 139653689394032&#45;&gt;139653601285888 -->\n",
       "<g id=\"edge5\" class=\"edge\">\n",
       "<title>139653689394032-&gt;139653601285888</title>\n",
       "<path fill=\"none\" stroke=\"black\" d=\"M135,-166.37C135,-158.15 135,-148.66 135,-139.73\"/>\n",
       "<polygon fill=\"black\" stroke=\"black\" points=\"138.5,-139.61 135,-129.61 131.5,-139.61 138.5,-139.61\"/>\n",
       "</g>\n",
       "<!-- 139653699147472 -->\n",
       "<g id=\"node7\" class=\"node\">\n",
       "<title>139653699147472</title>\n",
       "<polygon fill=\"none\" stroke=\"black\" points=\"13.5,-0.5 13.5,-46.5 256.5,-46.5 256.5,-0.5 13.5,-0.5\"/>\n",
       "<text text-anchor=\"middle\" x=\"59.5\" y=\"-31.3\" font-family=\"Times,serif\" font-size=\"14.00\">dense_159</text>\n",
       "<polyline fill=\"none\" stroke=\"black\" points=\"13.5,-23.5 105.5,-23.5 \"/>\n",
       "<text text-anchor=\"middle\" x=\"59.5\" y=\"-8.3\" font-family=\"Times,serif\" font-size=\"14.00\">Dense</text>\n",
       "<polyline fill=\"none\" stroke=\"black\" points=\"105.5,-0.5 105.5,-46.5 \"/>\n",
       "<text text-anchor=\"middle\" x=\"139.5\" y=\"-31.3\" font-family=\"Times,serif\" font-size=\"14.00\">input:</text>\n",
       "<polyline fill=\"none\" stroke=\"black\" points=\"105.5,-23.5 173.5,-23.5 \"/>\n",
       "<text text-anchor=\"middle\" x=\"139.5\" y=\"-8.3\" font-family=\"Times,serif\" font-size=\"14.00\">output:</text>\n",
       "<polyline fill=\"none\" stroke=\"black\" points=\"173.5,-0.5 173.5,-46.5 \"/>\n",
       "<text text-anchor=\"middle\" x=\"215\" y=\"-31.3\" font-family=\"Times,serif\" font-size=\"14.00\">(None, 8)</text>\n",
       "<polyline fill=\"none\" stroke=\"black\" points=\"173.5,-23.5 256.5,-23.5 \"/>\n",
       "<text text-anchor=\"middle\" x=\"215\" y=\"-8.3\" font-family=\"Times,serif\" font-size=\"14.00\">(None, 4)</text>\n",
       "</g>\n",
       "<!-- 139653601285888&#45;&gt;139653699147472 -->\n",
       "<g id=\"edge6\" class=\"edge\">\n",
       "<title>139653601285888-&gt;139653699147472</title>\n",
       "<path fill=\"none\" stroke=\"black\" d=\"M135,-83.37C135,-75.15 135,-65.66 135,-56.73\"/>\n",
       "<polygon fill=\"black\" stroke=\"black\" points=\"138.5,-56.61 135,-46.61 131.5,-56.61 138.5,-56.61\"/>\n",
       "</g>\n",
       "</g>\n",
       "</svg>"
      ],
      "text/plain": [
       "<IPython.core.display.SVG object>"
      ]
     },
     "metadata": {},
     "output_type": "display_data"
    }
   ],
   "source": [
    "from IPython.display import SVG\n",
    "from keras.utils.vis_utils import model_to_dot\n",
    "\n",
    "if COLAB:\n",
    "    display(SVG(model_to_dot(model, show_shapes=True,dpi=72).create(prog='dot', format='svg')))\n",
    "else:\n",
    "    display(SVG(model_to_dot(model, show_shapes=True).create(prog='dot', format='svg')))"
   ]
  },
  {
   "cell_type": "markdown",
   "metadata": {
    "id": "u53L_NrodLFj"
   },
   "source": [
    "## Training"
   ]
  },
  {
   "cell_type": "code",
   "execution_count": 291,
   "metadata": {
    "id": "rFiq5bqtFvzo"
   },
   "outputs": [],
   "source": [
    "from matplotlib.ticker import MaxNLocator\n",
    "\n",
    "def grafica_entrenamiento(tr_acc, val_acc, tr_loss, val_loss, best_i,\n",
    "                          figsize=(10,4)):\n",
    "    plt.figure(figsize=figsize)\n",
    "    ax = plt.subplot(1,2,1)\n",
    "    plt.plot(1+np.arange(len(tr_acc)),  100*np.array(tr_acc))\n",
    "    plt.plot(1+np.arange(len(val_acc)), 100*np.array(val_acc))\n",
    "    plt.plot(1+best_i, 100*val_acc[best_i], 'or')\n",
    "    plt.title('tasa de acierto del modelo (%)', fontsize=18)\n",
    "    plt.ylabel('tasa de acierto (%)', fontsize=18)\n",
    "    plt.xlabel('época', fontsize=18)\n",
    "    plt.legend(['entrenamiento', 'validación'], loc='upper left')\n",
    "    ax.xaxis.set_major_locator(MaxNLocator(integer=True))\n",
    "\n",
    "    plt.subplot(1,2,2)\n",
    "    plt.plot(1+np.arange(len(tr_acc)), np.array(tr_loss))\n",
    "    plt.plot(1+np.arange(len(val_acc)), np.array(val_loss))\n",
    "    plt.plot(1+best_i, val_loss[best_i], 'or')\n",
    "    plt.title('loss del modelo', fontsize=18)\n",
    "    plt.ylabel('loss', fontsize=18)\n",
    "    plt.xlabel('época', fontsize=18)\n",
    "    plt.legend(['entrenamiento', 'validación'], loc='upper left')\n",
    "    ax.xaxis.set_major_locator(MaxNLocator(integer=True))\n",
    "    plt.show()"
   ]
  },
  {
   "cell_type": "code",
   "execution_count": 292,
   "metadata": {
    "id": "op7xvI_IFvzp"
   },
   "outputs": [],
   "source": [
    "acum_tr_acc = []\n",
    "acum_val_acc = []\n",
    "best_val_acc = -1000\n",
    "acum_tr_loss  = []\n",
    "acum_val_loss = []"
   ]
  },
  {
   "cell_type": "code",
   "execution_count": 293,
   "metadata": {
    "colab": {
     "base_uri": "https://localhost:8080/",
     "height": 469
    },
    "id": "4hxswIVyFvzq",
    "outputId": "b3516449-6ea0-4185-ce14-6e367643ae9d"
   },
   "outputs": [
    {
     "data": {
      "image/png": "[encoded data removed]",
      "text/plain": [
       "<Figure size 1000x400 with 2 Axes>"
      ]
     },
     "metadata": {},
     "output_type": "display_data"
    }
   ],
   "source": [
    "from keras.callbacks import ModelCheckpoint\n",
    "from IPython.display import SVG, display, clear_output\n",
    "\n",
    "start = time.perf_counter()\n",
    "results=pd.DataFrame()\n",
    "modelpath=\"model_current_best.h5\"\n",
    "\n",
    "checkpoint = ModelCheckpoint(modelpath, monitor='val_categorical_accuracy', verbose=1,\n",
    "                             save_best_only=True,\n",
    "                             mode='max') # graba sólo los que mejoran en validación\n",
    "callbacks_list = [checkpoint]\n",
    "for e in range(n_epochs):\n",
    "\n",
    "    history = model.fit(x_train, t_train, \n",
    "                    batch_size = batch_size, \n",
    "                    epochs = 1,\n",
    "                    callbacks=callbacks_list,\n",
    "                    verbose = 1, \n",
    "                    shuffle = True,\n",
    "                    validation_data = (x_dev, t_dev))\n",
    "   \n",
    "    if history.history['val_categorical_accuracy'][-1] > best_val_acc:\n",
    "        print(\"Validation accuracy improved from\",\n",
    "            best_val_acc, 'to', history.history['val_categorical_accuracy'])\n",
    "        print(\"saving weights\")\n",
    "        best_val_acc = history.history['val_categorical_accuracy'][-1]\n",
    "        best_model=history.history\n",
    "        best_time=time.perf_counter() - start\n",
    "    \n",
    "    acum_tr_acc.append(history.history['categorical_accuracy'][0])\n",
    "    acum_val_acc.append(history.history['val_categorical_accuracy'][0])\n",
    "    acum_tr_loss.append(history.history['loss'][0])\n",
    "    acum_val_loss.append(history.history['val_loss'][0])\n",
    "    \n",
    "    if len(acum_tr_acc) > 1:\n",
    "        clear_output()\n",
    "        best_i = np.argmax(acum_val_acc)\n",
    "        grafica_entrenamiento(acum_tr_acc, acum_val_acc, acum_tr_loss, acum_val_loss, best_i)\n",
    "\n",
    "    \n",
    "    results=pd.concat([results,pd.DataFrame(history.history)])\n",
    "    results_temp = pd.DataFrame(history.history)\n",
    "    last_model=history.history\n",
    "    last_time=time.perf_counter() - start"
   ]
  },
  {
   "cell_type": "code",
   "execution_count": 295,
   "metadata": {
    "id": "ChJ-Eee6fw4I"
   },
   "outputs": [],
   "source": [
    "results=results.reset_index(drop=True)"
   ]
  },
  {
   "cell_type": "markdown",
   "metadata": {
    "id": "u_1FsQzRgu8E"
   },
   "source": [
    "### Best model"
   ]
  },
  {
   "cell_type": "code",
   "execution_count": 296,
   "metadata": {
    "colab": {
     "base_uri": "https://localhost:8080/"
    },
    "id": "mEsz9N7HeGF-",
    "outputId": "766025fd-e88f-4c9e-b10d-72601a8efc3d"
   },
   "outputs": [
    {
     "name": "stdout",
     "output_type": "stream",
     "text": [
      "Time:  100.31705328799944 seconds\n",
      "Training Set Error:  20.462125539779663 %\n",
      "Development Set Test Error:  18.35089921951294 %\n",
      "Bias:  10.462125539779663 %\n",
      "Variance:  -2.1112263202667236 %\n"
     ]
    }
   ],
   "source": [
    "print (\"Time: \", best_time, \"seconds\")\n",
    "\n",
    "human_error = 10\n",
    "train_error = 100 - (best_model['categorical_accuracy'][0] * 100)\n",
    "test_error = 100 - (best_model['val_categorical_accuracy'][0] * 100)\n",
    "\n",
    "print (\"Training Set Error: \", train_error, \"%\")\n",
    "print (\"Development Set Test Error: \", test_error, \"%\")\n",
    "print (\"Bias: \", train_error - human_error, \"%\")\n",
    "print (\"Variance: \", test_error - train_error, \"%\")"
   ]
  },
  {
   "cell_type": "markdown",
   "metadata": {
    "id": "ppL0B_JOgzw7"
   },
   "source": [
    "### Last model"
   ]
  },
  {
   "cell_type": "code",
   "execution_count": 297,
   "metadata": {
    "colab": {
     "base_uri": "https://localhost:8080/"
    },
    "id": "DYrRz8bwf75O",
    "outputId": "409e013a-b1ab-4260-d221-ad9f13715bed"
   },
   "outputs": [
    {
     "name": "stdout",
     "output_type": "stream",
     "text": [
      "Time:  249.75795522800036 seconds\n",
      "Training Set Error:  22.33852744102478 %\n",
      "Development Set Test Error:  25.97644329071045 %\n",
      "Bias:  12.33852744102478 %\n",
      "Variance:  3.637915849685669 %\n"
     ]
    }
   ],
   "source": [
    "print (\"Time: \", last_time, \"seconds\")\n",
    "\n",
    "human_error = 10\n",
    "train_error = 100 - (last_model['categorical_accuracy'][0] * 100)\n",
    "test_error = 100 - (last_model['val_categorical_accuracy'][0] * 100)\n",
    "\n",
    "print (\"Training Set Error: \", train_error, \"%\")\n",
    "print (\"Development Set Test Error: \", test_error, \"%\")\n",
    "print (\"Bias: \", train_error - human_error, \"%\")\n",
    "print (\"Variance: \", test_error - train_error, \"%\")"
   ]
  },
  {
   "cell_type": "code",
   "execution_count": 131,
   "metadata": {
    "colab": {
     "base_uri": "https://localhost:8080/",
     "height": 206
    },
    "id": "KE9aMUOjFvzu",
    "outputId": "36467355-8e84-4e55-86a7-ee9fd805d203"
   },
   "outputs": [
    {
     "data": {
      "text/html": [
       "<div>\n",
       "<style scoped>\n",
       "    .dataframe tbody tr th:only-of-type {\n",
       "        vertical-align: middle;\n",
       "    }\n",
       "\n",
       "    .dataframe tbody tr th {\n",
       "        vertical-align: top;\n",
       "    }\n",
       "\n",
       "    .dataframe thead th {\n",
       "        text-align: right;\n",
       "    }\n",
       "</style>\n",
       "<table border=\"1\" class=\"dataframe\">\n",
       "  <thead>\n",
       "    <tr style=\"text-align: right;\">\n",
       "      <th></th>\n",
       "      <th>loss</th>\n",
       "      <th>categorical_accuracy</th>\n",
       "      <th>val_loss</th>\n",
       "      <th>val_categorical_accuracy</th>\n",
       "    </tr>\n",
       "  </thead>\n",
       "  <tbody>\n",
       "    <tr>\n",
       "      <th>0</th>\n",
       "      <td>1.291434</td>\n",
       "      <td>0.374738</td>\n",
       "      <td>1.061835</td>\n",
       "      <td>0.493490</td>\n",
       "    </tr>\n",
       "    <tr>\n",
       "      <th>1</th>\n",
       "      <td>1.125755</td>\n",
       "      <td>0.454834</td>\n",
       "      <td>1.155076</td>\n",
       "      <td>0.537508</td>\n",
       "    </tr>\n",
       "    <tr>\n",
       "      <th>2</th>\n",
       "      <td>1.073465</td>\n",
       "      <td>0.483213</td>\n",
       "      <td>0.865722</td>\n",
       "      <td>0.647861</td>\n",
       "    </tr>\n",
       "    <tr>\n",
       "      <th>3</th>\n",
       "      <td>1.327609</td>\n",
       "      <td>0.402574</td>\n",
       "      <td>1.402701</td>\n",
       "      <td>0.275263</td>\n",
       "    </tr>\n",
       "    <tr>\n",
       "      <th>4</th>\n",
       "      <td>1.382322</td>\n",
       "      <td>0.294720</td>\n",
       "      <td>1.363700</td>\n",
       "      <td>0.432734</td>\n",
       "    </tr>\n",
       "  </tbody>\n",
       "</table>\n",
       "</div>"
      ],
      "text/plain": [
       "       loss  categorical_accuracy  val_loss  val_categorical_accuracy\n",
       "0  1.291434              0.374738  1.061835                  0.493490\n",
       "1  1.125755              0.454834  1.155076                  0.537508\n",
       "2  1.073465              0.483213  0.865722                  0.647861\n",
       "3  1.327609              0.402574  1.402701                  0.275263\n",
       "4  1.382322              0.294720  1.363700                  0.432734"
      ]
     },
     "execution_count": 131,
     "metadata": {},
     "output_type": "execute_result"
    }
   ],
   "source": [
    "results.head()"
   ]
  },
  {
   "cell_type": "code",
   "execution_count": 132,
   "metadata": {
    "colab": {
     "base_uri": "https://localhost:8080/",
     "height": 338
    },
    "id": "pinNhY1Cf0Tb",
    "outputId": "08f2a5bf-0dc9-4355-c47a-3e7fbf389adf"
   },
   "outputs": [
    {
     "data": {
      "image/png": "[encoded data removed]",
      "text/plain": [
       "<Figure size 800x500 with 1 Axes>"
      ]
     },
     "metadata": {},
     "output_type": "display_data"
    }
   ],
   "source": [
    "results.plot(figsize = (8, 5))\n",
    "plt.grid(True)\n",
    "plt.xlabel (\"Epochs\")\n",
    "plt.ylabel (\"Accuracy - Mean Log Loss\")\n",
    "plt.gca().set_ylim(0, 1)\n",
    "plt.show()"
   ]
  },
  {
   "cell_type": "markdown",
   "metadata": {
    "id": "hUj7eyEnkX1N"
   },
   "source": [
    "### Best model"
   ]
  },
  {
   "cell_type": "code",
   "execution_count": 133,
   "metadata": {
    "id": "e4VwKnPwFvzt"
   },
   "outputs": [],
   "source": [
    "from keras.models import load_model\n",
    "best_model = load_model(modelpath)"
   ]
  },
  {
   "cell_type": "code",
   "execution_count": 134,
   "metadata": {
    "colab": {
     "base_uri": "https://localhost:8080/"
    },
    "id": "UuXsm8acA93F",
    "outputId": "f19c2172-d78a-40eb-e4e0-4d1f222cdb8d"
   },
   "outputs": [
    {
     "name": "stdout",
     "output_type": "stream",
     "text": [
      "51/51 [==============================] - 0s 1ms/step\n"
     ]
    },
    {
     "data": {
      "text/plain": [
       "array([[0.  , 0.  , 0.29, 0.71],\n",
       "       [0.  , 0.83, 0.17, 0.  ],\n",
       "       [0.13, 0.84, 0.03, 0.  ],\n",
       "       [0.49, 0.5 , 0.01, 0.  ],\n",
       "       [0.02, 0.43, 0.55, 0.  ],\n",
       "       [0.  , 0.  , 0.  , 1.  ],\n",
       "       [0.96, 0.03, 0.  , 0.  ],\n",
       "       [0.95, 0.04, 0.  , 0.  ],\n",
       "       [0.  , 0.  , 0.  , 1.  ],\n",
       "       [0.36, 0.63, 0.01, 0.  ],\n",
       "       [0.  , 0.89, 0.1 , 0.  ],\n",
       "       [0.86, 0.14, 0.01, 0.  ],\n",
       "       [0.01, 0.65, 0.35, 0.  ],\n",
       "       [0.  , 0.  , 0.5 , 0.5 ],\n",
       "       [0.17, 0.79, 0.04, 0.  ],\n",
       "       [0.18, 0.78, 0.03, 0.  ],\n",
       "       [0.  , 0.  , 0.  , 1.  ],\n",
       "       [0.  , 0.  , 0.29, 0.71],\n",
       "       [0.  , 0.  , 0.01, 0.99],\n",
       "       [0.99, 0.01, 0.  , 0.  ]], dtype=float32)"
      ]
     },
     "execution_count": 134,
     "metadata": {},
     "output_type": "execute_result"
    }
   ],
   "source": [
    "dev_predictions=best_model.predict(x_dev).round(2)\n",
    "dev_predictions[:20]"
   ]
  },
  {
   "cell_type": "code",
   "execution_count": 135,
   "metadata": {
    "colab": {
     "base_uri": "https://localhost:8080/"
    },
    "id": "TXx_47NaA97W",
    "outputId": "b1cd763d-115d-44a2-e891-b8b56444415c"
   },
   "outputs": [
    {
     "data": {
      "text/plain": [
       "array([[0., 0., 0., 1.],\n",
       "       [0., 1., 0., 0.],\n",
       "       [0., 1., 0., 0.],\n",
       "       [0., 1., 0., 0.],\n",
       "       [0., 0., 1., 0.],\n",
       "       [0., 0., 0., 1.],\n",
       "       [1., 0., 0., 0.],\n",
       "       [1., 0., 0., 0.],\n",
       "       [0., 0., 0., 1.],\n",
       "       [0., 1., 0., 0.],\n",
       "       [0., 1., 0., 0.],\n",
       "       [1., 0., 0., 0.],\n",
       "       [0., 1., 0., 0.],\n",
       "       [0., 0., 1., 0.],\n",
       "       [0., 1., 0., 0.],\n",
       "       [0., 1., 0., 0.],\n",
       "       [0., 0., 0., 1.],\n",
       "       [0., 0., 0., 1.],\n",
       "       [0., 0., 0., 1.],\n",
       "       [1., 0., 0., 0.]], dtype=float32)"
      ]
     },
     "execution_count": 135,
     "metadata": {},
     "output_type": "execute_result"
    }
   ],
   "source": [
    "dev_rounded_predictions=np.round(dev_predictions)\n",
    "indices = np.argmax(dev_predictions,1)\n",
    "for row, index in zip(dev_rounded_predictions, indices): row[index]=1\n",
    "dev_rounded_predictions[:20]"
   ]
  },
  {
   "cell_type": "code",
   "execution_count": 136,
   "metadata": {
    "colab": {
     "base_uri": "https://localhost:8080/",
     "height": 676
    },
    "id": "WT618l0cBNjw",
    "outputId": "bebcf104-d4e4-4489-de72-9c002ab139e5"
   },
   "outputs": [
    {
     "data": {
      "text/html": [
       "<div>\n",
       "<style scoped>\n",
       "    .dataframe tbody tr th:only-of-type {\n",
       "        vertical-align: middle;\n",
       "    }\n",
       "\n",
       "    .dataframe tbody tr th {\n",
       "        vertical-align: top;\n",
       "    }\n",
       "\n",
       "    .dataframe thead th {\n",
       "        text-align: right;\n",
       "    }\n",
       "</style>\n",
       "<table border=\"1\" class=\"dataframe\">\n",
       "  <thead>\n",
       "    <tr style=\"text-align: right;\">\n",
       "      <th></th>\n",
       "      <th>Poor:[46.0, 62.0]</th>\n",
       "      <th>Interm:[63.0, 66.0]</th>\n",
       "      <th>Good:[67.0, 71.0]</th>\n",
       "      <th>Excel:[72.0, 94.0]</th>\n",
       "    </tr>\n",
       "  </thead>\n",
       "  <tbody>\n",
       "    <tr>\n",
       "      <th>5703</th>\n",
       "      <td>0.0</td>\n",
       "      <td>0.0</td>\n",
       "      <td>0.0</td>\n",
       "      <td>1.0</td>\n",
       "    </tr>\n",
       "    <tr>\n",
       "      <th>12414</th>\n",
       "      <td>0.0</td>\n",
       "      <td>0.0</td>\n",
       "      <td>1.0</td>\n",
       "      <td>0.0</td>\n",
       "    </tr>\n",
       "    <tr>\n",
       "      <th>8634</th>\n",
       "      <td>0.0</td>\n",
       "      <td>1.0</td>\n",
       "      <td>0.0</td>\n",
       "      <td>0.0</td>\n",
       "    </tr>\n",
       "    <tr>\n",
       "      <th>9379</th>\n",
       "      <td>0.0</td>\n",
       "      <td>1.0</td>\n",
       "      <td>0.0</td>\n",
       "      <td>0.0</td>\n",
       "    </tr>\n",
       "    <tr>\n",
       "      <th>10159</th>\n",
       "      <td>0.0</td>\n",
       "      <td>1.0</td>\n",
       "      <td>0.0</td>\n",
       "      <td>0.0</td>\n",
       "    </tr>\n",
       "    <tr>\n",
       "      <th>6673</th>\n",
       "      <td>0.0</td>\n",
       "      <td>0.0</td>\n",
       "      <td>0.0</td>\n",
       "      <td>1.0</td>\n",
       "    </tr>\n",
       "    <tr>\n",
       "      <th>8069</th>\n",
       "      <td>1.0</td>\n",
       "      <td>0.0</td>\n",
       "      <td>0.0</td>\n",
       "      <td>0.0</td>\n",
       "    </tr>\n",
       "    <tr>\n",
       "      <th>7964</th>\n",
       "      <td>0.0</td>\n",
       "      <td>1.0</td>\n",
       "      <td>0.0</td>\n",
       "      <td>0.0</td>\n",
       "    </tr>\n",
       "    <tr>\n",
       "      <th>4867</th>\n",
       "      <td>0.0</td>\n",
       "      <td>0.0</td>\n",
       "      <td>0.0</td>\n",
       "      <td>1.0</td>\n",
       "    </tr>\n",
       "    <tr>\n",
       "      <th>1997</th>\n",
       "      <td>0.0</td>\n",
       "      <td>1.0</td>\n",
       "      <td>0.0</td>\n",
       "      <td>0.0</td>\n",
       "    </tr>\n",
       "    <tr>\n",
       "      <th>6093</th>\n",
       "      <td>0.0</td>\n",
       "      <td>1.0</td>\n",
       "      <td>0.0</td>\n",
       "      <td>0.0</td>\n",
       "    </tr>\n",
       "    <tr>\n",
       "      <th>14504</th>\n",
       "      <td>1.0</td>\n",
       "      <td>0.0</td>\n",
       "      <td>0.0</td>\n",
       "      <td>0.0</td>\n",
       "    </tr>\n",
       "    <tr>\n",
       "      <th>14379</th>\n",
       "      <td>0.0</td>\n",
       "      <td>1.0</td>\n",
       "      <td>0.0</td>\n",
       "      <td>0.0</td>\n",
       "    </tr>\n",
       "    <tr>\n",
       "      <th>14416</th>\n",
       "      <td>0.0</td>\n",
       "      <td>0.0</td>\n",
       "      <td>1.0</td>\n",
       "      <td>0.0</td>\n",
       "    </tr>\n",
       "    <tr>\n",
       "      <th>5495</th>\n",
       "      <td>0.0</td>\n",
       "      <td>1.0</td>\n",
       "      <td>0.0</td>\n",
       "      <td>0.0</td>\n",
       "    </tr>\n",
       "    <tr>\n",
       "      <th>702</th>\n",
       "      <td>0.0</td>\n",
       "      <td>1.0</td>\n",
       "      <td>0.0</td>\n",
       "      <td>0.0</td>\n",
       "    </tr>\n",
       "    <tr>\n",
       "      <th>7985</th>\n",
       "      <td>0.0</td>\n",
       "      <td>0.0</td>\n",
       "      <td>0.0</td>\n",
       "      <td>1.0</td>\n",
       "    </tr>\n",
       "    <tr>\n",
       "      <th>13356</th>\n",
       "      <td>0.0</td>\n",
       "      <td>0.0</td>\n",
       "      <td>1.0</td>\n",
       "      <td>0.0</td>\n",
       "    </tr>\n",
       "    <tr>\n",
       "      <th>3027</th>\n",
       "      <td>0.0</td>\n",
       "      <td>0.0</td>\n",
       "      <td>0.0</td>\n",
       "      <td>1.0</td>\n",
       "    </tr>\n",
       "    <tr>\n",
       "      <th>8190</th>\n",
       "      <td>1.0</td>\n",
       "      <td>0.0</td>\n",
       "      <td>0.0</td>\n",
       "      <td>0.0</td>\n",
       "    </tr>\n",
       "  </tbody>\n",
       "</table>\n",
       "</div>"
      ],
      "text/plain": [
       "       Poor:[46.0, 62.0]  Interm:[63.0, 66.0]  Good:[67.0, 71.0]  \\\n",
       "5703                 0.0                  0.0                0.0   \n",
       "12414                0.0                  0.0                1.0   \n",
       "8634                 0.0                  1.0                0.0   \n",
       "9379                 0.0                  1.0                0.0   \n",
       "10159                0.0                  1.0                0.0   \n",
       "6673                 0.0                  0.0                0.0   \n",
       "8069                 1.0                  0.0                0.0   \n",
       "7964                 0.0                  1.0                0.0   \n",
       "4867                 0.0                  0.0                0.0   \n",
       "1997                 0.0                  1.0                0.0   \n",
       "6093                 0.0                  1.0                0.0   \n",
       "14504                1.0                  0.0                0.0   \n",
       "14379                0.0                  1.0                0.0   \n",
       "14416                0.0                  0.0                1.0   \n",
       "5495                 0.0                  1.0                0.0   \n",
       "702                  0.0                  1.0                0.0   \n",
       "7985                 0.0                  0.0                0.0   \n",
       "13356                0.0                  0.0                1.0   \n",
       "3027                 0.0                  0.0                0.0   \n",
       "8190                 1.0                  0.0                0.0   \n",
       "\n",
       "       Excel:[72.0, 94.0]  \n",
       "5703                  1.0  \n",
       "12414                 0.0  \n",
       "8634                  0.0  \n",
       "9379                  0.0  \n",
       "10159                 0.0  \n",
       "6673                  1.0  \n",
       "8069                  0.0  \n",
       "7964                  0.0  \n",
       "4867                  1.0  \n",
       "1997                  0.0  \n",
       "6093                  0.0  \n",
       "14504                 0.0  \n",
       "14379                 0.0  \n",
       "14416                 0.0  \n",
       "5495                  0.0  \n",
       "702                   0.0  \n",
       "7985                  1.0  \n",
       "13356                 0.0  \n",
       "3027                  1.0  \n",
       "8190                  0.0  "
      ]
     },
     "execution_count": 136,
     "metadata": {},
     "output_type": "execute_result"
    }
   ],
   "source": [
    "t_dev[:20] #target classes"
   ]
  },
  {
   "cell_type": "code",
   "execution_count": 137,
   "metadata": {
    "colab": {
     "base_uri": "https://localhost:8080/"
    },
    "id": "QsEkALnZBTOf",
    "outputId": "75278f13-f151-44d7-d444-c34539558fa5"
   },
   "outputs": [
    {
     "name": "stdout",
     "output_type": "stream",
     "text": [
      "[ True False  True  True False  True  True False  True  True  True  True\n",
      "  True  True  True  True  True False  True  True  True  True  True  True\n",
      " False  True  True  True  True  True]\n"
     ]
    }
   ],
   "source": [
    "dev_correct_predictions = np.equal(np.argmax(dev_rounded_predictions,1),np.argmax(np.array(t_dev),1))\n",
    "print (dev_correct_predictions[:30])"
   ]
  },
  {
   "cell_type": "code",
   "execution_count": 138,
   "metadata": {
    "colab": {
     "base_uri": "https://localhost:8080/"
    },
    "id": "XJ4L_Tw8BXpd",
    "outputId": "f1a35e3e-1ea8-43a9-9536-795540b5aa77"
   },
   "outputs": [
    {
     "data": {
      "text/plain": [
       "Counter({True: 1318, False: 295})"
      ]
     },
     "execution_count": 138,
     "metadata": {},
     "output_type": "execute_result"
    }
   ],
   "source": [
    "from collections import Counter\n",
    "Counter (dev_correct_predictions)"
   ]
  },
  {
   "cell_type": "markdown",
   "metadata": {
    "id": "3FIOczv7kk_J"
   },
   "source": [
    "### Last model"
   ]
  },
  {
   "cell_type": "code",
   "execution_count": 139,
   "metadata": {
    "colab": {
     "base_uri": "https://localhost:8080/"
    },
    "id": "F5bOxwnwklQr",
    "outputId": "afe5edf9-6de6-426e-dccf-38b91cfa644a"
   },
   "outputs": [
    {
     "name": "stdout",
     "output_type": "stream",
     "text": [
      "51/51 [==============================] - 0s 1ms/step\n"
     ]
    },
    {
     "data": {
      "text/plain": [
       "array([[0.  , 0.  , 0.43, 0.57],\n",
       "       [0.  , 0.89, 0.11, 0.  ],\n",
       "       [0.11, 0.88, 0.01, 0.  ],\n",
       "       [0.31, 0.68, 0.01, 0.  ],\n",
       "       [0.  , 0.18, 0.81, 0.  ],\n",
       "       [0.  , 0.  , 0.  , 1.  ],\n",
       "       [0.93, 0.06, 0.  , 0.  ],\n",
       "       [0.88, 0.11, 0.  , 0.  ],\n",
       "       [0.  , 0.  , 0.01, 0.99],\n",
       "       [0.27, 0.72, 0.01, 0.  ],\n",
       "       [0.01, 0.99, 0.01, 0.  ],\n",
       "       [0.71, 0.28, 0.01, 0.  ],\n",
       "       [0.  , 0.61, 0.38, 0.  ],\n",
       "       [0.  , 0.  , 0.47, 0.53],\n",
       "       [0.27, 0.72, 0.01, 0.  ],\n",
       "       [0.28, 0.72, 0.01, 0.  ],\n",
       "       [0.  , 0.  , 0.01, 0.99],\n",
       "       [0.  , 0.  , 0.67, 0.33],\n",
       "       [0.  , 0.  , 0.05, 0.95],\n",
       "       [0.99, 0.01, 0.  , 0.  ]], dtype=float32)"
      ]
     },
     "execution_count": 139,
     "metadata": {},
     "output_type": "execute_result"
    }
   ],
   "source": [
    "dev_predictions=model.predict(x_dev).round(2)\n",
    "dev_predictions[:20]"
   ]
  },
  {
   "cell_type": "code",
   "execution_count": 140,
   "metadata": {
    "colab": {
     "base_uri": "https://localhost:8080/"
    },
    "id": "EiiHYx0EklQr",
    "outputId": "7435473f-3a2f-4d77-ddec-a7fc0cc84eb3"
   },
   "outputs": [
    {
     "data": {
      "text/plain": [
       "array([[0., 0., 0., 1.],\n",
       "       [0., 1., 0., 0.],\n",
       "       [0., 1., 0., 0.],\n",
       "       [0., 1., 0., 0.],\n",
       "       [0., 0., 1., 0.],\n",
       "       [0., 0., 0., 1.],\n",
       "       [1., 0., 0., 0.],\n",
       "       [1., 0., 0., 0.],\n",
       "       [0., 0., 0., 1.],\n",
       "       [0., 1., 0., 0.],\n",
       "       [0., 1., 0., 0.],\n",
       "       [1., 0., 0., 0.],\n",
       "       [0., 1., 0., 0.],\n",
       "       [0., 0., 0., 1.],\n",
       "       [0., 1., 0., 0.],\n",
       "       [0., 1., 0., 0.],\n",
       "       [0., 0., 0., 1.],\n",
       "       [0., 0., 1., 0.],\n",
       "       [0., 0., 0., 1.],\n",
       "       [1., 0., 0., 0.]], dtype=float32)"
      ]
     },
     "execution_count": 140,
     "metadata": {},
     "output_type": "execute_result"
    }
   ],
   "source": [
    "dev_rounded_predictions=np.round(dev_predictions)\n",
    "indices = np.argmax(dev_predictions,1)\n",
    "for row, index in zip(dev_rounded_predictions, indices): row[index]=1\n",
    "dev_rounded_predictions[:20]"
   ]
  },
  {
   "cell_type": "code",
   "execution_count": 141,
   "metadata": {
    "colab": {
     "base_uri": "https://localhost:8080/",
     "height": 676
    },
    "id": "Zq3xL8yXklQr",
    "outputId": "825d3b78-5a4f-4b4f-d172-0480a043c830"
   },
   "outputs": [
    {
     "data": {
      "text/html": [
       "<div>\n",
       "<style scoped>\n",
       "    .dataframe tbody tr th:only-of-type {\n",
       "        vertical-align: middle;\n",
       "    }\n",
       "\n",
       "    .dataframe tbody tr th {\n",
       "        vertical-align: top;\n",
       "    }\n",
       "\n",
       "    .dataframe thead th {\n",
       "        text-align: right;\n",
       "    }\n",
       "</style>\n",
       "<table border=\"1\" class=\"dataframe\">\n",
       "  <thead>\n",
       "    <tr style=\"text-align: right;\">\n",
       "      <th></th>\n",
       "      <th>Poor:[46.0, 62.0]</th>\n",
       "      <th>Interm:[63.0, 66.0]</th>\n",
       "      <th>Good:[67.0, 71.0]</th>\n",
       "      <th>Excel:[72.0, 94.0]</th>\n",
       "    </tr>\n",
       "  </thead>\n",
       "  <tbody>\n",
       "    <tr>\n",
       "      <th>5703</th>\n",
       "      <td>0.0</td>\n",
       "      <td>0.0</td>\n",
       "      <td>0.0</td>\n",
       "      <td>1.0</td>\n",
       "    </tr>\n",
       "    <tr>\n",
       "      <th>12414</th>\n",
       "      <td>0.0</td>\n",
       "      <td>0.0</td>\n",
       "      <td>1.0</td>\n",
       "      <td>0.0</td>\n",
       "    </tr>\n",
       "    <tr>\n",
       "      <th>8634</th>\n",
       "      <td>0.0</td>\n",
       "      <td>1.0</td>\n",
       "      <td>0.0</td>\n",
       "      <td>0.0</td>\n",
       "    </tr>\n",
       "    <tr>\n",
       "      <th>9379</th>\n",
       "      <td>0.0</td>\n",
       "      <td>1.0</td>\n",
       "      <td>0.0</td>\n",
       "      <td>0.0</td>\n",
       "    </tr>\n",
       "    <tr>\n",
       "      <th>10159</th>\n",
       "      <td>0.0</td>\n",
       "      <td>1.0</td>\n",
       "      <td>0.0</td>\n",
       "      <td>0.0</td>\n",
       "    </tr>\n",
       "    <tr>\n",
       "      <th>6673</th>\n",
       "      <td>0.0</td>\n",
       "      <td>0.0</td>\n",
       "      <td>0.0</td>\n",
       "      <td>1.0</td>\n",
       "    </tr>\n",
       "    <tr>\n",
       "      <th>8069</th>\n",
       "      <td>1.0</td>\n",
       "      <td>0.0</td>\n",
       "      <td>0.0</td>\n",
       "      <td>0.0</td>\n",
       "    </tr>\n",
       "    <tr>\n",
       "      <th>7964</th>\n",
       "      <td>0.0</td>\n",
       "      <td>1.0</td>\n",
       "      <td>0.0</td>\n",
       "      <td>0.0</td>\n",
       "    </tr>\n",
       "    <tr>\n",
       "      <th>4867</th>\n",
       "      <td>0.0</td>\n",
       "      <td>0.0</td>\n",
       "      <td>0.0</td>\n",
       "      <td>1.0</td>\n",
       "    </tr>\n",
       "    <tr>\n",
       "      <th>1997</th>\n",
       "      <td>0.0</td>\n",
       "      <td>1.0</td>\n",
       "      <td>0.0</td>\n",
       "      <td>0.0</td>\n",
       "    </tr>\n",
       "    <tr>\n",
       "      <th>6093</th>\n",
       "      <td>0.0</td>\n",
       "      <td>1.0</td>\n",
       "      <td>0.0</td>\n",
       "      <td>0.0</td>\n",
       "    </tr>\n",
       "    <tr>\n",
       "      <th>14504</th>\n",
       "      <td>1.0</td>\n",
       "      <td>0.0</td>\n",
       "      <td>0.0</td>\n",
       "      <td>0.0</td>\n",
       "    </tr>\n",
       "    <tr>\n",
       "      <th>14379</th>\n",
       "      <td>0.0</td>\n",
       "      <td>1.0</td>\n",
       "      <td>0.0</td>\n",
       "      <td>0.0</td>\n",
       "    </tr>\n",
       "    <tr>\n",
       "      <th>14416</th>\n",
       "      <td>0.0</td>\n",
       "      <td>0.0</td>\n",
       "      <td>1.0</td>\n",
       "      <td>0.0</td>\n",
       "    </tr>\n",
       "    <tr>\n",
       "      <th>5495</th>\n",
       "      <td>0.0</td>\n",
       "      <td>1.0</td>\n",
       "      <td>0.0</td>\n",
       "      <td>0.0</td>\n",
       "    </tr>\n",
       "    <tr>\n",
       "      <th>702</th>\n",
       "      <td>0.0</td>\n",
       "      <td>1.0</td>\n",
       "      <td>0.0</td>\n",
       "      <td>0.0</td>\n",
       "    </tr>\n",
       "    <tr>\n",
       "      <th>7985</th>\n",
       "      <td>0.0</td>\n",
       "      <td>0.0</td>\n",
       "      <td>0.0</td>\n",
       "      <td>1.0</td>\n",
       "    </tr>\n",
       "    <tr>\n",
       "      <th>13356</th>\n",
       "      <td>0.0</td>\n",
       "      <td>0.0</td>\n",
       "      <td>1.0</td>\n",
       "      <td>0.0</td>\n",
       "    </tr>\n",
       "    <tr>\n",
       "      <th>3027</th>\n",
       "      <td>0.0</td>\n",
       "      <td>0.0</td>\n",
       "      <td>0.0</td>\n",
       "      <td>1.0</td>\n",
       "    </tr>\n",
       "    <tr>\n",
       "      <th>8190</th>\n",
       "      <td>1.0</td>\n",
       "      <td>0.0</td>\n",
       "      <td>0.0</td>\n",
       "      <td>0.0</td>\n",
       "    </tr>\n",
       "  </tbody>\n",
       "</table>\n",
       "</div>"
      ],
      "text/plain": [
       "       Poor:[46.0, 62.0]  Interm:[63.0, 66.0]  Good:[67.0, 71.0]  \\\n",
       "5703                 0.0                  0.0                0.0   \n",
       "12414                0.0                  0.0                1.0   \n",
       "8634                 0.0                  1.0                0.0   \n",
       "9379                 0.0                  1.0                0.0   \n",
       "10159                0.0                  1.0                0.0   \n",
       "6673                 0.0                  0.0                0.0   \n",
       "8069                 1.0                  0.0                0.0   \n",
       "7964                 0.0                  1.0                0.0   \n",
       "4867                 0.0                  0.0                0.0   \n",
       "1997                 0.0                  1.0                0.0   \n",
       "6093                 0.0                  1.0                0.0   \n",
       "14504                1.0                  0.0                0.0   \n",
       "14379                0.0                  1.0                0.0   \n",
       "14416                0.0                  0.0                1.0   \n",
       "5495                 0.0                  1.0                0.0   \n",
       "702                  0.0                  1.0                0.0   \n",
       "7985                 0.0                  0.0                0.0   \n",
       "13356                0.0                  0.0                1.0   \n",
       "3027                 0.0                  0.0                0.0   \n",
       "8190                 1.0                  0.0                0.0   \n",
       "\n",
       "       Excel:[72.0, 94.0]  \n",
       "5703                  1.0  \n",
       "12414                 0.0  \n",
       "8634                  0.0  \n",
       "9379                  0.0  \n",
       "10159                 0.0  \n",
       "6673                  1.0  \n",
       "8069                  0.0  \n",
       "7964                  0.0  \n",
       "4867                  1.0  \n",
       "1997                  0.0  \n",
       "6093                  0.0  \n",
       "14504                 0.0  \n",
       "14379                 0.0  \n",
       "14416                 0.0  \n",
       "5495                  0.0  \n",
       "702                   0.0  \n",
       "7985                  1.0  \n",
       "13356                 0.0  \n",
       "3027                  1.0  \n",
       "8190                  0.0  "
      ]
     },
     "execution_count": 141,
     "metadata": {},
     "output_type": "execute_result"
    }
   ],
   "source": [
    "t_dev[:20] #target classes"
   ]
  },
  {
   "cell_type": "code",
   "execution_count": 142,
   "metadata": {
    "colab": {
     "base_uri": "https://localhost:8080/"
    },
    "id": "nEnLAPWlklQr",
    "outputId": "def449e8-e722-48a9-f648-971568f2d66a"
   },
   "outputs": [
    {
     "name": "stdout",
     "output_type": "stream",
     "text": [
      "[ True False  True  True False  True  True False  True  True  True  True\n",
      "  True False  True  True  True  True  True  True False  True  True  True\n",
      "  True  True  True  True  True False]\n"
     ]
    }
   ],
   "source": [
    "dev_correct_predictions = np.equal(np.argmax(dev_rounded_predictions,1),np.argmax(np.array(t_dev),1))\n",
    "print (dev_correct_predictions[:30])"
   ]
  },
  {
   "cell_type": "code",
   "execution_count": 143,
   "metadata": {
    "colab": {
     "base_uri": "https://localhost:8080/"
    },
    "id": "kTt9pDxaklQr",
    "outputId": "d6bf0d38-0059-4aec-8e41-7abed8c61474"
   },
   "outputs": [
    {
     "data": {
      "text/plain": [
       "Counter({True: 1271, False: 342})"
      ]
     },
     "execution_count": 143,
     "metadata": {},
     "output_type": "execute_result"
    }
   ],
   "source": [
    "from collections import Counter\n",
    "Counter (dev_correct_predictions)"
   ]
  },
  {
   "cell_type": "markdown",
   "metadata": {
    "id": "X18ko6cKgbol"
   },
   "source": [
    "## Final Test"
   ]
  },
  {
   "cell_type": "markdown",
   "metadata": {
    "id": "XlvXakmyqxpE"
   },
   "source": [
    "### Best_model"
   ]
  },
  {
   "cell_type": "code",
   "execution_count": 144,
   "metadata": {
    "colab": {
     "base_uri": "https://localhost:8080/"
    },
    "id": "NrQEjtx3genT",
    "outputId": "b4865b78-5e72-4219-d919-95e826d3c5f3"
   },
   "outputs": [
    {
     "name": "stdout",
     "output_type": "stream",
     "text": [
      "51/51 [==============================] - 0s 2ms/step - loss: 0.4596 - categorical_accuracy: 0.8127\n",
      "Final Test Accuracy:  81.26550912857056 %\n"
     ]
    }
   ],
   "source": [
    "final_results = best_model.evaluate(x_final_test, t_final_test)\n",
    "\n",
    "print (\"Final Test Accuracy: \", final_results[1] * 100, \"%\")"
   ]
  },
  {
   "cell_type": "markdown",
   "metadata": {
    "id": "WZEwfqAdqyds"
   },
   "source": [
    "### Last model"
   ]
  },
  {
   "cell_type": "code",
   "execution_count": 35,
   "metadata": {
    "colab": {
     "base_uri": "https://localhost:8080/"
    },
    "id": "Di1LD9y6GoDA",
    "outputId": "4a3457e5-9d0c-479c-acbc-630fc0d0b796"
   },
   "outputs": [
    {
     "name": "stdout",
     "output_type": "stream",
     "text": [
      "51/51 [==============================] - 0s 2ms/step - loss: 0.4514 - categorical_accuracy: 0.8139\n",
      "Final Test Accuracy:  81.38957619667053 %\n"
     ]
    }
   ],
   "source": [
    "final_results = model.evaluate(x_final_test, t_final_test)\n",
    "\n",
    "print (\"Final Test Accuracy: \", final_results[1] * 100, \"%\")"
   ]
  },
  {
   "cell_type": "code",
   "execution_count": null,
   "metadata": {
    "id": "IMrURBAIlM54"
   },
   "outputs": [],
   "source": []
  }
 ],
 "metadata": {
  "accelerator": "GPU",
  "colab": {
   "provenance": []
  },
  "gpuClass": "standard",
  "kernelspec": {
   "display_name": "Python 3 (ipykernel)",
   "language": "python",
   "name": "python3"
  },
  "language_info": {
   "codemirror_mode": {
    "name": "ipython",
    "version": 3
   },
   "file_extension": ".py",
   "mimetype": "text/x-python",
   "name": "python",
   "nbconvert_exporter": "python",
   "pygments_lexer": "ipython3",
   "version": "3.8.10"
  }
 },
 "nbformat": 4,
 "nbformat_minor": 4
}
